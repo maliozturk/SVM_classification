{
 "cells": [
  {
   "cell_type": "markdown",
   "metadata": {},
   "source": [
    "### HW2 - Multinomial Logistic Regression & SVMs "
   ]
  },
  {
   "cell_type": "markdown",
   "metadata": {},
   "source": [
    "In this assignment, you are given a dataset comprising information about dinosaurs. You will use logistic regression and support vector machine models to predict the type of dinosaur based on the provided information. In this assignment, you may utilize built-in libraries. Employ _stratified k-fold cross-validation_ (CV) for evaluating the classification models. Stratification ensures that each CV fold maintains a similar distribution of class examples as the entire training set. You can design various experiments by selecting some/all information provided in the dataset. Here, we expect the best result you obtained after these experiments and observations. Please explicitly mention your feature selection method in your report while presenting results. "
   ]
  },
  {
   "cell_type": "markdown",
   "metadata": {},
   "source": [
    "Stratified k-fold cross-validation is a technique used to evaluate the performance of machine learning models, particularly in classification tasks, where the target class distribution may be imbalanced. In this method, the dataset is divided into 'k' equally sized folds, ensuring that each fold maintains a similar distribution of class examples as the entire dataset. This stratification process helps to reduce the bias and variance in model performance estimation by preventing a skewed distribution of classes in the train and test sets.\n",
    "\n",
    "During the cross-validation process, the model is trained on 'k-1' folds and tested on the remaining fold, iterating this process 'k' times. Each iteration uses a different fold for testing, and the average performance metric (e.g., accuracy) is calculated over all iterations.\n",
    "\n",
    "Here's a code example using the scikit-learn library:\n"
   ]
  },
  {
   "cell_type": "code",
   "execution_count": 2,
   "metadata": {
    "ExecuteTime": {
     "start_time": "2023-04-26T10:32:21.396594Z",
     "end_time": "2023-04-26T10:32:22.776184Z"
    }
   },
   "outputs": [
    {
     "name": "stdout",
     "output_type": "stream",
     "text": [
      "Mean accuracy: 0.9733333333333334\n"
     ]
    }
   ],
   "source": [
    "from sklearn.model_selection import StratifiedKFold\n",
    "from sklearn.datasets import load_iris\n",
    "from sklearn.linear_model import LogisticRegression\n",
    "import numpy as np\n",
    "\n",
    "# Load the dataset\n",
    "iris = load_iris()\n",
    "X, y = iris.data, iris.target\n",
    "\n",
    "# Initialize stratified k-fold cross-validation\n",
    "skf = StratifiedKFold(n_splits=5)  #the number of folds is 5\n",
    "\n",
    "# Initialize the logistic regression model\n",
    "model = LogisticRegression(multi_class='multinomial', solver='lbfgs', max_iter=1000)\n",
    "\n",
    "# Perform stratified k-fold cross-validation\n",
    "accuracy_scores = []\n",
    "for train_index, test_index in skf.split(X, y):\n",
    "    X_train, X_test = X[train_index], X[test_index]\n",
    "    y_train, y_test = y[train_index], y[test_index]\n",
    "    \n",
    "    model.fit(X_train, y_train)\n",
    "    accuracy = model.score(X_test, y_test)\n",
    "    accuracy_scores.append(accuracy)\n",
    "\n",
    "# Calculate the mean accuracy\n",
    "mean_accuracy = np.mean(accuracy_scores)\n",
    "print(\"Mean accuracy:\", mean_accuracy)\n"
   ]
  },
  {
   "cell_type": "markdown",
   "metadata": {},
   "source": [
    "In this example, we use the Iris dataset and a logistic regression model to demonstrate stratified k-fold cross-validation with 5 folds. The performance of the model is evaluated using accuracy as the performance metric, and the mean accuracy is reported.\n"
   ]
  },
  {
   "cell_type": "markdown",
   "metadata": {},
   "source": [
    "Stratified cross-validation is particularly useful when dealing with imbalanced datasets, where some classes have significantly fewer examples compared to others. In such cases, using standard cross-validation might lead to situations where one or more folds contain very few or even none of the underrepresented class instances. This could result in an inaccurate and biased performance estimation of the model, as the model is not adequately tested on all classes.\n",
    "\n",
    "For balanced datasets, where class distributions are roughly equal, stratified cross-validation may not provide significant benefits over standard cross-validation. However, it is still a good practice to use stratified cross-validation as a default approach, as it generally leads to more stable and reliable performance estimates."
   ]
  },
  {
   "cell_type": "markdown",
   "metadata": {},
   "source": [
    "### Training and Evaluations"
   ]
  },
  {
   "cell_type": "markdown",
   "metadata": {},
   "source": [
    "Use the data provided in _train.csv_ file for training and _test.csv_ file for testing. For model evaluations compute _mean weighted F1 scores_. Also compute confusion matrices to evaluate and compare the performances of the classification models.\n",
    "\n",
    "Here is an example code how to compute mean weighted F1 score in k-fold cross-validation setting:"
   ]
  },
  {
   "cell_type": "code",
   "execution_count": null,
   "metadata": {},
   "outputs": [],
   "source": [
    "from sklearn.metrics import f1_score\n",
    "\n",
    "f1_scores = []\n",
    "\n",
    "# Perform k-fold stratified cross-validation\n",
    "for train_index, test_index in cv.split(X, y):\n",
    "    X_train, X_test = X[train_index], X[test_index]\n",
    "    y_train, y_test = y[train_index], y[test_index]\n",
    "   \n",
    "    # Necessary code to compute the predictions using your classifier..\n",
    "   \n",
    "    # Compute the weighted-average F1-score for this fold\n",
    "    fold_f1_score = f1_score(y_test, y_pred, average='weighted')\n",
    "    f1_scores.append(fold_f1_score)\n",
    "\n",
    "# Calculate the mean F1-score across all folds\n",
    "mean_weighted_f1_score = np.mean(f1_scores)\n",
    "print(\"Mean weighted-average F1-score across\", k, \"folds:\", mean_weighted_f1_score)"
   ]
  },
  {
   "cell_type": "markdown",
   "metadata": {},
   "source": [
    "__Your Work__:"
   ]
  },
  {
   "cell_type": "markdown",
   "source": [
    "__Include necessary packages__"
   ],
   "metadata": {
    "collapsed": false
   }
  },
  {
   "cell_type": "code",
   "execution_count": 21,
   "metadata": {
    "ExecuteTime": {
     "start_time": "2023-04-28T20:57:03.958283Z",
     "end_time": "2023-04-28T20:57:03.973353Z"
    }
   },
   "outputs": [],
   "source": [
    "import pandas as pd\n",
    "from sklearn.compose import make_column_transformer\n",
    "from sklearn.preprocessing import OneHotEncoder\n",
    "from sklearn.model_selection import StratifiedKFold\n",
    "from sklearn import metrics\n",
    "from sklearn import svm\n",
    "import numpy as np\n",
    "from sklearn.metrics import f1_score"
   ]
  },
  {
   "cell_type": "markdown",
   "source": [
    "__Data cleaning & preparation__"
   ],
   "metadata": {
    "collapsed": false
   }
  },
  {
   "cell_type": "code",
   "execution_count": 222,
   "outputs": [
    {
     "data": {
      "text/plain": "((246, 11), (62, 10))"
     },
     "execution_count": 222,
     "metadata": {},
     "output_type": "execute_result"
    }
   ],
   "source": [
    "tryc = 6 # submission try count\n",
    "\n",
    "train = pd.read_csv(\"train.csv\", dtype=str)\n",
    "test = pd.read_csv(\"test.csv\", dtype=str)\n",
    "train.shape, test.shape"
   ],
   "metadata": {
    "collapsed": false,
    "ExecuteTime": {
     "start_time": "2023-04-28T23:20:55.691142Z",
     "end_time": "2023-04-28T23:20:55.716840Z"
    }
   }
  },
  {
   "cell_type": "code",
   "execution_count": 223,
   "outputs": [],
   "source": [
    "# There was an incorrect entry in the period column of test data, fixing that at the first stage\n",
    "test.loc[test[test.period == 'USA'].index.values[0], \"lived_in\"] = \"USA\"\n",
    "test.loc[test[test.period == 'USA'].index.values[0], \"period\"] = np.nan"
   ],
   "metadata": {
    "collapsed": false,
    "ExecuteTime": {
     "start_time": "2023-04-28T23:20:56.013814Z",
     "end_time": "2023-04-28T23:20:56.056544Z"
    }
   }
  },
  {
   "cell_type": "markdown",
   "source": [
    "__Feature Engineering__"
   ],
   "metadata": {
    "collapsed": false
   }
  },
  {
   "cell_type": "code",
   "execution_count": 224,
   "outputs": [
    {
     "name": "stdout",
     "output_type": "stream",
     "text": [
      "CG: id - nUnique: 246\n",
      "CG: name - nUnique: 246\n",
      "CG: diet - nUnique: 4\n",
      "CG: period - nUnique: 127\n",
      "CG: lived_in - nUnique: 30\n",
      "CG: type - nUnique: 6\n",
      "CG: length - nUnique: 64\n",
      "CG: taxonomy - nUnique: 92\n",
      "CG: named_by - nUnique: 222\n",
      "CG: species - nUnique: 224\n",
      "CG: link - nUnique: 246\n"
     ]
    }
   ],
   "source": [
    "# check how many unique items in each column:\n",
    "for cg in train.columns:\n",
    "    print(f\"CG: {cg} - nUnique: {train[cg].nunique()}\")\n"
   ],
   "metadata": {
    "collapsed": false,
    "ExecuteTime": {
     "start_time": "2023-04-28T23:20:57.394417Z",
     "end_time": "2023-04-28T23:20:57.421428Z"
    }
   }
  },
  {
   "cell_type": "code",
   "execution_count": 225,
   "outputs": [],
   "source": [
    "# convert length column to float\n",
    "def split_col(col):\n",
    "    if not type(col) == float:\n",
    "        return float(col.split(\"m\")[0])\n",
    "    else:\n",
    "        return np.NaN\n",
    "train[\"length\"] = train[\"length\"].apply(split_col)\n",
    "\n",
    "# drop NaN rows from training data:\n",
    "train = train.dropna().copy(deep=True)"
   ],
   "metadata": {
    "collapsed": false,
    "ExecuteTime": {
     "start_time": "2023-04-28T23:20:57.764056Z",
     "end_time": "2023-04-28T23:20:57.776941Z"
    }
   }
  },
  {
   "cell_type": "code",
   "execution_count": 226,
   "outputs": [],
   "source": [
    "def f(x):\n",
    "    if type(x) == str:\n",
    "        return \"\".join(x.split(\" \")[:2])\n",
    "    else:\n",
    "        return np.nan\n",
    "train[\"short_period\"]=train[\"period\"].apply(f)"
   ],
   "metadata": {
    "collapsed": false,
    "ExecuteTime": {
     "start_time": "2023-04-28T23:20:58.693330Z",
     "end_time": "2023-04-28T23:20:58.705621Z"
    }
   }
  },
  {
   "cell_type": "code",
   "execution_count": 227,
   "outputs": [
    {
     "data": {
      "text/plain": "      id              name                    diet  \\\n1      2       riojasaurus  herbivorous/omnivorous   \n2      3     tsintaosaurus             herbivorous   \n3      4       alamosaurus             herbivorous   \n4      5         iguanodon             herbivorous   \n5      6       anserimimus             carnivorous   \n..   ...               ...                     ...   \n240  241         alioramus             carnivorous   \n242  243  atlascopcosaurus             herbivorous   \n243  244       microraptor             carnivorous   \n244  245       carnotaurus             carnivorous   \n245  246    melanorosaurus              omnivorous   \n\n                                         period        lived_in  \\\n1       Late Triassic 221-210 million years ago       Argentina   \n2       Late Cretaceous 84-71 million years ago           China   \n3       Late Cretaceous 70-65 million years ago             USA   \n4    Early Cretaceous 140-110 million years ago  United Kingdom   \n5       Late Cretaceous 84-65 million years ago        Mongolia   \n..                                          ...             ...   \n240     Late Cretaceous 71-65 million years ago        Mongolia   \n242   Early Cretaceous 121-97 million years ago       Australia   \n243  Early Cretaceous 125-122 million years ago           China   \n244        Late Cretaceous 70 million years ago       Argentina   \n245     Late Triassic 227-221 million years ago    South Africa   \n\n               type  length  \\\n1          sauropod    5.15   \n2      euornithopod   12.00   \n3          sauropod   21.00   \n4      euornithopod   10.00   \n5    large theropod    3.50   \n..              ...     ...   \n240  large theropod    6.00   \n242    euornithopod    3.00   \n243  small theropod    0.80   \n244  large theropod    7.60   \n245        sauropod   12.00   \n\n                                              taxonomy  \\\n1    Dinosauria Saurischia Sauropodomorpha Prosauro...   \n2    Dinosauria Ornithischia Genasauria Cerapoda Or...   \n3    Dinosauria Saurischia Sauropodomorpha Sauropod...   \n4    Dinosauria Ornithischia Genasauria Cerapoda Or...   \n5    Dinosauria Saurischia Theropoda Neotheropoda T...   \n..                                                 ...   \n240  Dinosauria Saurischia Theropoda Neotheropoda T...   \n242  Dinosauria Ornithischia Genasauria Cerapoda Or...   \n243  Dinosauria Saurischia Theropoda Neotheropoda T...   \n244  Dinosauria Saurischia Theropoda Neotheropoda C...   \n245  Dinosauria Saurischia Sauropodomorpha Prosauro...   \n\n                             named_by          species  \\\n1                    Bonaparte (1969)         incertus   \n2                        Young (1958)      spinorhinus   \n3                      Gilmore (1922)     sanjuanensis   \n4    Boulenger and van Beneden (1881)  bernissartensis   \n5                     Barsbold (1988)      planinychus   \n..                                ...              ...   \n240                   Kurzanov (1976)          remotus   \n242              Rich and Rich (1989)           loadsi   \n243           Xu Zhou and Wang (2000)        zhaoianus   \n244                  Bonaparte (1985)          sastrei   \n245                   Haughton (1924)            readi   \n\n                                                  link     short_period  \\\n1    https://www.nhm.ac.uk/discover/dino-directory/...     LateTriassic   \n2    https://www.nhm.ac.uk/discover/dino-directory/...   LateCretaceous   \n3    https://www.nhm.ac.uk/discover/dino-directory/...   LateCretaceous   \n4    https://www.nhm.ac.uk/discover/dino-directory/...  EarlyCretaceous   \n5    https://www.nhm.ac.uk/discover/dino-directory/...   LateCretaceous   \n..                                                 ...              ...   \n240  https://www.nhm.ac.uk/discover/dino-directory/...   LateCretaceous   \n242  https://www.nhm.ac.uk/discover/dino-directory/...  EarlyCretaceous   \n243  https://www.nhm.ac.uk/discover/dino-directory/...  EarlyCretaceous   \n244  https://www.nhm.ac.uk/discover/dino-directory/...   LateCretaceous   \n245  https://www.nhm.ac.uk/discover/dino-directory/...     LateTriassic   \n\n        last_taxonomy penultimate_taxonomy  \n1    Melanorosauridae          Anchisauria  \n2      Lambeosaurinae        Euhadrosauria  \n3        Lithostrotia         Titanosauria  \n4     Iguanodontoidea       Ankylopollexia  \n5      Ornithomimidae    Ornithomimosauria  \n..                ...                  ...  \n240  Tyrannosauroidea       Tyrannoraptora  \n242     Euornithopoda          Ornithopoda  \n243   Dromaeosauridae        Eumaniraptora  \n244     Abelisauridae      Neoceratosauria  \n245  Melanorosauridae          Anchisauria  \n\n[229 rows x 14 columns]",
      "text/html": "<div>\n<style scoped>\n    .dataframe tbody tr th:only-of-type {\n        vertical-align: middle;\n    }\n\n    .dataframe tbody tr th {\n        vertical-align: top;\n    }\n\n    .dataframe thead th {\n        text-align: right;\n    }\n</style>\n<table border=\"1\" class=\"dataframe\">\n  <thead>\n    <tr style=\"text-align: right;\">\n      <th></th>\n      <th>id</th>\n      <th>name</th>\n      <th>diet</th>\n      <th>period</th>\n      <th>lived_in</th>\n      <th>type</th>\n      <th>length</th>\n      <th>taxonomy</th>\n      <th>named_by</th>\n      <th>species</th>\n      <th>link</th>\n      <th>short_period</th>\n      <th>last_taxonomy</th>\n      <th>penultimate_taxonomy</th>\n    </tr>\n  </thead>\n  <tbody>\n    <tr>\n      <th>1</th>\n      <td>2</td>\n      <td>riojasaurus</td>\n      <td>herbivorous/omnivorous</td>\n      <td>Late Triassic 221-210 million years ago</td>\n      <td>Argentina</td>\n      <td>sauropod</td>\n      <td>5.15</td>\n      <td>Dinosauria Saurischia Sauropodomorpha Prosauro...</td>\n      <td>Bonaparte (1969)</td>\n      <td>incertus</td>\n      <td>https://www.nhm.ac.uk/discover/dino-directory/...</td>\n      <td>LateTriassic</td>\n      <td>Melanorosauridae</td>\n      <td>Anchisauria</td>\n    </tr>\n    <tr>\n      <th>2</th>\n      <td>3</td>\n      <td>tsintaosaurus</td>\n      <td>herbivorous</td>\n      <td>Late Cretaceous 84-71 million years ago</td>\n      <td>China</td>\n      <td>euornithopod</td>\n      <td>12.00</td>\n      <td>Dinosauria Ornithischia Genasauria Cerapoda Or...</td>\n      <td>Young (1958)</td>\n      <td>spinorhinus</td>\n      <td>https://www.nhm.ac.uk/discover/dino-directory/...</td>\n      <td>LateCretaceous</td>\n      <td>Lambeosaurinae</td>\n      <td>Euhadrosauria</td>\n    </tr>\n    <tr>\n      <th>3</th>\n      <td>4</td>\n      <td>alamosaurus</td>\n      <td>herbivorous</td>\n      <td>Late Cretaceous 70-65 million years ago</td>\n      <td>USA</td>\n      <td>sauropod</td>\n      <td>21.00</td>\n      <td>Dinosauria Saurischia Sauropodomorpha Sauropod...</td>\n      <td>Gilmore (1922)</td>\n      <td>sanjuanensis</td>\n      <td>https://www.nhm.ac.uk/discover/dino-directory/...</td>\n      <td>LateCretaceous</td>\n      <td>Lithostrotia</td>\n      <td>Titanosauria</td>\n    </tr>\n    <tr>\n      <th>4</th>\n      <td>5</td>\n      <td>iguanodon</td>\n      <td>herbivorous</td>\n      <td>Early Cretaceous 140-110 million years ago</td>\n      <td>United Kingdom</td>\n      <td>euornithopod</td>\n      <td>10.00</td>\n      <td>Dinosauria Ornithischia Genasauria Cerapoda Or...</td>\n      <td>Boulenger and van Beneden (1881)</td>\n      <td>bernissartensis</td>\n      <td>https://www.nhm.ac.uk/discover/dino-directory/...</td>\n      <td>EarlyCretaceous</td>\n      <td>Iguanodontoidea</td>\n      <td>Ankylopollexia</td>\n    </tr>\n    <tr>\n      <th>5</th>\n      <td>6</td>\n      <td>anserimimus</td>\n      <td>carnivorous</td>\n      <td>Late Cretaceous 84-65 million years ago</td>\n      <td>Mongolia</td>\n      <td>large theropod</td>\n      <td>3.50</td>\n      <td>Dinosauria Saurischia Theropoda Neotheropoda T...</td>\n      <td>Barsbold (1988)</td>\n      <td>planinychus</td>\n      <td>https://www.nhm.ac.uk/discover/dino-directory/...</td>\n      <td>LateCretaceous</td>\n      <td>Ornithomimidae</td>\n      <td>Ornithomimosauria</td>\n    </tr>\n    <tr>\n      <th>...</th>\n      <td>...</td>\n      <td>...</td>\n      <td>...</td>\n      <td>...</td>\n      <td>...</td>\n      <td>...</td>\n      <td>...</td>\n      <td>...</td>\n      <td>...</td>\n      <td>...</td>\n      <td>...</td>\n      <td>...</td>\n      <td>...</td>\n      <td>...</td>\n    </tr>\n    <tr>\n      <th>240</th>\n      <td>241</td>\n      <td>alioramus</td>\n      <td>carnivorous</td>\n      <td>Late Cretaceous 71-65 million years ago</td>\n      <td>Mongolia</td>\n      <td>large theropod</td>\n      <td>6.00</td>\n      <td>Dinosauria Saurischia Theropoda Neotheropoda T...</td>\n      <td>Kurzanov (1976)</td>\n      <td>remotus</td>\n      <td>https://www.nhm.ac.uk/discover/dino-directory/...</td>\n      <td>LateCretaceous</td>\n      <td>Tyrannosauroidea</td>\n      <td>Tyrannoraptora</td>\n    </tr>\n    <tr>\n      <th>242</th>\n      <td>243</td>\n      <td>atlascopcosaurus</td>\n      <td>herbivorous</td>\n      <td>Early Cretaceous 121-97 million years ago</td>\n      <td>Australia</td>\n      <td>euornithopod</td>\n      <td>3.00</td>\n      <td>Dinosauria Ornithischia Genasauria Cerapoda Or...</td>\n      <td>Rich and Rich (1989)</td>\n      <td>loadsi</td>\n      <td>https://www.nhm.ac.uk/discover/dino-directory/...</td>\n      <td>EarlyCretaceous</td>\n      <td>Euornithopoda</td>\n      <td>Ornithopoda</td>\n    </tr>\n    <tr>\n      <th>243</th>\n      <td>244</td>\n      <td>microraptor</td>\n      <td>carnivorous</td>\n      <td>Early Cretaceous 125-122 million years ago</td>\n      <td>China</td>\n      <td>small theropod</td>\n      <td>0.80</td>\n      <td>Dinosauria Saurischia Theropoda Neotheropoda T...</td>\n      <td>Xu Zhou and Wang (2000)</td>\n      <td>zhaoianus</td>\n      <td>https://www.nhm.ac.uk/discover/dino-directory/...</td>\n      <td>EarlyCretaceous</td>\n      <td>Dromaeosauridae</td>\n      <td>Eumaniraptora</td>\n    </tr>\n    <tr>\n      <th>244</th>\n      <td>245</td>\n      <td>carnotaurus</td>\n      <td>carnivorous</td>\n      <td>Late Cretaceous 70 million years ago</td>\n      <td>Argentina</td>\n      <td>large theropod</td>\n      <td>7.60</td>\n      <td>Dinosauria Saurischia Theropoda Neotheropoda C...</td>\n      <td>Bonaparte (1985)</td>\n      <td>sastrei</td>\n      <td>https://www.nhm.ac.uk/discover/dino-directory/...</td>\n      <td>LateCretaceous</td>\n      <td>Abelisauridae</td>\n      <td>Neoceratosauria</td>\n    </tr>\n    <tr>\n      <th>245</th>\n      <td>246</td>\n      <td>melanorosaurus</td>\n      <td>omnivorous</td>\n      <td>Late Triassic 227-221 million years ago</td>\n      <td>South Africa</td>\n      <td>sauropod</td>\n      <td>12.00</td>\n      <td>Dinosauria Saurischia Sauropodomorpha Prosauro...</td>\n      <td>Haughton (1924)</td>\n      <td>readi</td>\n      <td>https://www.nhm.ac.uk/discover/dino-directory/...</td>\n      <td>LateTriassic</td>\n      <td>Melanorosauridae</td>\n      <td>Anchisauria</td>\n    </tr>\n  </tbody>\n</table>\n<p>229 rows × 14 columns</p>\n</div>"
     },
     "execution_count": 227,
     "metadata": {},
     "output_type": "execute_result"
    }
   ],
   "source": [
    "# seperately look at last 2 levels of taxonomy instead of taking whole taxonomy list\n",
    "train[\"last_taxonomy\"] = train[\"taxonomy\"].apply(lambda x: x.split(\" \")[-1])\n",
    "train[\"penultimate_taxonomy\"] = train[\"taxonomy\"].apply(lambda x: x.split(\" \")[-2])\n",
    "\n",
    "train"
   ],
   "metadata": {
    "collapsed": false,
    "ExecuteTime": {
     "start_time": "2023-04-28T23:20:58.879888Z",
     "end_time": "2023-04-28T23:20:58.936402Z"
    }
   }
  },
  {
   "cell_type": "code",
   "execution_count": 228,
   "outputs": [
    {
     "data": {
      "text/plain": "      id              name                    diet  \\\n1      2       riojasaurus  herbivorous/omnivorous   \n2      3     tsintaosaurus             herbivorous   \n3      4       alamosaurus             herbivorous   \n4      5         iguanodon             herbivorous   \n5      6       anserimimus             carnivorous   \n..   ...               ...                     ...   \n240  241         alioramus             carnivorous   \n242  243  atlascopcosaurus             herbivorous   \n243  244       microraptor             carnivorous   \n244  245       carnotaurus             carnivorous   \n245  246    melanorosaurus              omnivorous   \n\n                                         period        lived_in  \\\n1       Late Triassic 221-210 million years ago       Argentina   \n2       Late Cretaceous 84-71 million years ago           China   \n3       Late Cretaceous 70-65 million years ago             USA   \n4    Early Cretaceous 140-110 million years ago  United Kingdom   \n5       Late Cretaceous 84-65 million years ago        Mongolia   \n..                                          ...             ...   \n240     Late Cretaceous 71-65 million years ago        Mongolia   \n242   Early Cretaceous 121-97 million years ago       Australia   \n243  Early Cretaceous 125-122 million years ago           China   \n244        Late Cretaceous 70 million years ago       Argentina   \n245     Late Triassic 227-221 million years ago    South Africa   \n\n               type  length  \\\n1          sauropod    5.15   \n2      euornithopod   12.00   \n3          sauropod   21.00   \n4      euornithopod   10.00   \n5    large theropod    3.50   \n..              ...     ...   \n240  large theropod    6.00   \n242    euornithopod    3.00   \n243  small theropod    0.80   \n244  large theropod    7.60   \n245        sauropod   12.00   \n\n                                              taxonomy  \\\n1    Dinosauria Saurischia Sauropodomorpha Prosauro...   \n2    Dinosauria Ornithischia Genasauria Cerapoda Or...   \n3    Dinosauria Saurischia Sauropodomorpha Sauropod...   \n4    Dinosauria Ornithischia Genasauria Cerapoda Or...   \n5    Dinosauria Saurischia Theropoda Neotheropoda T...   \n..                                                 ...   \n240  Dinosauria Saurischia Theropoda Neotheropoda T...   \n242  Dinosauria Ornithischia Genasauria Cerapoda Or...   \n243  Dinosauria Saurischia Theropoda Neotheropoda T...   \n244  Dinosauria Saurischia Theropoda Neotheropoda C...   \n245  Dinosauria Saurischia Sauropodomorpha Prosauro...   \n\n                             named_by          species  \\\n1                    Bonaparte (1969)         incertus   \n2                        Young (1958)      spinorhinus   \n3                      Gilmore (1922)     sanjuanensis   \n4    Boulenger and van Beneden (1881)  bernissartensis   \n5                     Barsbold (1988)      planinychus   \n..                                ...              ...   \n240                   Kurzanov (1976)          remotus   \n242              Rich and Rich (1989)           loadsi   \n243           Xu Zhou and Wang (2000)        zhaoianus   \n244                  Bonaparte (1985)          sastrei   \n245                   Haughton (1924)            readi   \n\n                                                  link     short_period  \\\n1    https://www.nhm.ac.uk/discover/dino-directory/...     LateTriassic   \n2    https://www.nhm.ac.uk/discover/dino-directory/...   LateCretaceous   \n3    https://www.nhm.ac.uk/discover/dino-directory/...   LateCretaceous   \n4    https://www.nhm.ac.uk/discover/dino-directory/...  EarlyCretaceous   \n5    https://www.nhm.ac.uk/discover/dino-directory/...   LateCretaceous   \n..                                                 ...              ...   \n240  https://www.nhm.ac.uk/discover/dino-directory/...   LateCretaceous   \n242  https://www.nhm.ac.uk/discover/dino-directory/...  EarlyCretaceous   \n243  https://www.nhm.ac.uk/discover/dino-directory/...  EarlyCretaceous   \n244  https://www.nhm.ac.uk/discover/dino-directory/...   LateCretaceous   \n245  https://www.nhm.ac.uk/discover/dino-directory/...     LateTriassic   \n\n        last_taxonomy penultimate_taxonomy                 period_mya  \n1    Melanorosauridae          Anchisauria  221-210 million years ago  \n2      Lambeosaurinae        Euhadrosauria    84-71 million years ago  \n3        Lithostrotia         Titanosauria    70-65 million years ago  \n4     Iguanodontoidea       Ankylopollexia  140-110 million years ago  \n5      Ornithomimidae    Ornithomimosauria    84-65 million years ago  \n..                ...                  ...                        ...  \n240  Tyrannosauroidea       Tyrannoraptora    71-65 million years ago  \n242     Euornithopoda          Ornithopoda   121-97 million years ago  \n243   Dromaeosauridae        Eumaniraptora  125-122 million years ago  \n244     Abelisauridae      Neoceratosauria       70 million years ago  \n245  Melanorosauridae          Anchisauria  227-221 million years ago  \n\n[229 rows x 15 columns]",
      "text/html": "<div>\n<style scoped>\n    .dataframe tbody tr th:only-of-type {\n        vertical-align: middle;\n    }\n\n    .dataframe tbody tr th {\n        vertical-align: top;\n    }\n\n    .dataframe thead th {\n        text-align: right;\n    }\n</style>\n<table border=\"1\" class=\"dataframe\">\n  <thead>\n    <tr style=\"text-align: right;\">\n      <th></th>\n      <th>id</th>\n      <th>name</th>\n      <th>diet</th>\n      <th>period</th>\n      <th>lived_in</th>\n      <th>type</th>\n      <th>length</th>\n      <th>taxonomy</th>\n      <th>named_by</th>\n      <th>species</th>\n      <th>link</th>\n      <th>short_period</th>\n      <th>last_taxonomy</th>\n      <th>penultimate_taxonomy</th>\n      <th>period_mya</th>\n    </tr>\n  </thead>\n  <tbody>\n    <tr>\n      <th>1</th>\n      <td>2</td>\n      <td>riojasaurus</td>\n      <td>herbivorous/omnivorous</td>\n      <td>Late Triassic 221-210 million years ago</td>\n      <td>Argentina</td>\n      <td>sauropod</td>\n      <td>5.15</td>\n      <td>Dinosauria Saurischia Sauropodomorpha Prosauro...</td>\n      <td>Bonaparte (1969)</td>\n      <td>incertus</td>\n      <td>https://www.nhm.ac.uk/discover/dino-directory/...</td>\n      <td>LateTriassic</td>\n      <td>Melanorosauridae</td>\n      <td>Anchisauria</td>\n      <td>221-210 million years ago</td>\n    </tr>\n    <tr>\n      <th>2</th>\n      <td>3</td>\n      <td>tsintaosaurus</td>\n      <td>herbivorous</td>\n      <td>Late Cretaceous 84-71 million years ago</td>\n      <td>China</td>\n      <td>euornithopod</td>\n      <td>12.00</td>\n      <td>Dinosauria Ornithischia Genasauria Cerapoda Or...</td>\n      <td>Young (1958)</td>\n      <td>spinorhinus</td>\n      <td>https://www.nhm.ac.uk/discover/dino-directory/...</td>\n      <td>LateCretaceous</td>\n      <td>Lambeosaurinae</td>\n      <td>Euhadrosauria</td>\n      <td>84-71 million years ago</td>\n    </tr>\n    <tr>\n      <th>3</th>\n      <td>4</td>\n      <td>alamosaurus</td>\n      <td>herbivorous</td>\n      <td>Late Cretaceous 70-65 million years ago</td>\n      <td>USA</td>\n      <td>sauropod</td>\n      <td>21.00</td>\n      <td>Dinosauria Saurischia Sauropodomorpha Sauropod...</td>\n      <td>Gilmore (1922)</td>\n      <td>sanjuanensis</td>\n      <td>https://www.nhm.ac.uk/discover/dino-directory/...</td>\n      <td>LateCretaceous</td>\n      <td>Lithostrotia</td>\n      <td>Titanosauria</td>\n      <td>70-65 million years ago</td>\n    </tr>\n    <tr>\n      <th>4</th>\n      <td>5</td>\n      <td>iguanodon</td>\n      <td>herbivorous</td>\n      <td>Early Cretaceous 140-110 million years ago</td>\n      <td>United Kingdom</td>\n      <td>euornithopod</td>\n      <td>10.00</td>\n      <td>Dinosauria Ornithischia Genasauria Cerapoda Or...</td>\n      <td>Boulenger and van Beneden (1881)</td>\n      <td>bernissartensis</td>\n      <td>https://www.nhm.ac.uk/discover/dino-directory/...</td>\n      <td>EarlyCretaceous</td>\n      <td>Iguanodontoidea</td>\n      <td>Ankylopollexia</td>\n      <td>140-110 million years ago</td>\n    </tr>\n    <tr>\n      <th>5</th>\n      <td>6</td>\n      <td>anserimimus</td>\n      <td>carnivorous</td>\n      <td>Late Cretaceous 84-65 million years ago</td>\n      <td>Mongolia</td>\n      <td>large theropod</td>\n      <td>3.50</td>\n      <td>Dinosauria Saurischia Theropoda Neotheropoda T...</td>\n      <td>Barsbold (1988)</td>\n      <td>planinychus</td>\n      <td>https://www.nhm.ac.uk/discover/dino-directory/...</td>\n      <td>LateCretaceous</td>\n      <td>Ornithomimidae</td>\n      <td>Ornithomimosauria</td>\n      <td>84-65 million years ago</td>\n    </tr>\n    <tr>\n      <th>...</th>\n      <td>...</td>\n      <td>...</td>\n      <td>...</td>\n      <td>...</td>\n      <td>...</td>\n      <td>...</td>\n      <td>...</td>\n      <td>...</td>\n      <td>...</td>\n      <td>...</td>\n      <td>...</td>\n      <td>...</td>\n      <td>...</td>\n      <td>...</td>\n      <td>...</td>\n    </tr>\n    <tr>\n      <th>240</th>\n      <td>241</td>\n      <td>alioramus</td>\n      <td>carnivorous</td>\n      <td>Late Cretaceous 71-65 million years ago</td>\n      <td>Mongolia</td>\n      <td>large theropod</td>\n      <td>6.00</td>\n      <td>Dinosauria Saurischia Theropoda Neotheropoda T...</td>\n      <td>Kurzanov (1976)</td>\n      <td>remotus</td>\n      <td>https://www.nhm.ac.uk/discover/dino-directory/...</td>\n      <td>LateCretaceous</td>\n      <td>Tyrannosauroidea</td>\n      <td>Tyrannoraptora</td>\n      <td>71-65 million years ago</td>\n    </tr>\n    <tr>\n      <th>242</th>\n      <td>243</td>\n      <td>atlascopcosaurus</td>\n      <td>herbivorous</td>\n      <td>Early Cretaceous 121-97 million years ago</td>\n      <td>Australia</td>\n      <td>euornithopod</td>\n      <td>3.00</td>\n      <td>Dinosauria Ornithischia Genasauria Cerapoda Or...</td>\n      <td>Rich and Rich (1989)</td>\n      <td>loadsi</td>\n      <td>https://www.nhm.ac.uk/discover/dino-directory/...</td>\n      <td>EarlyCretaceous</td>\n      <td>Euornithopoda</td>\n      <td>Ornithopoda</td>\n      <td>121-97 million years ago</td>\n    </tr>\n    <tr>\n      <th>243</th>\n      <td>244</td>\n      <td>microraptor</td>\n      <td>carnivorous</td>\n      <td>Early Cretaceous 125-122 million years ago</td>\n      <td>China</td>\n      <td>small theropod</td>\n      <td>0.80</td>\n      <td>Dinosauria Saurischia Theropoda Neotheropoda T...</td>\n      <td>Xu Zhou and Wang (2000)</td>\n      <td>zhaoianus</td>\n      <td>https://www.nhm.ac.uk/discover/dino-directory/...</td>\n      <td>EarlyCretaceous</td>\n      <td>Dromaeosauridae</td>\n      <td>Eumaniraptora</td>\n      <td>125-122 million years ago</td>\n    </tr>\n    <tr>\n      <th>244</th>\n      <td>245</td>\n      <td>carnotaurus</td>\n      <td>carnivorous</td>\n      <td>Late Cretaceous 70 million years ago</td>\n      <td>Argentina</td>\n      <td>large theropod</td>\n      <td>7.60</td>\n      <td>Dinosauria Saurischia Theropoda Neotheropoda C...</td>\n      <td>Bonaparte (1985)</td>\n      <td>sastrei</td>\n      <td>https://www.nhm.ac.uk/discover/dino-directory/...</td>\n      <td>LateCretaceous</td>\n      <td>Abelisauridae</td>\n      <td>Neoceratosauria</td>\n      <td>70 million years ago</td>\n    </tr>\n    <tr>\n      <th>245</th>\n      <td>246</td>\n      <td>melanorosaurus</td>\n      <td>omnivorous</td>\n      <td>Late Triassic 227-221 million years ago</td>\n      <td>South Africa</td>\n      <td>sauropod</td>\n      <td>12.00</td>\n      <td>Dinosauria Saurischia Sauropodomorpha Prosauro...</td>\n      <td>Haughton (1924)</td>\n      <td>readi</td>\n      <td>https://www.nhm.ac.uk/discover/dino-directory/...</td>\n      <td>LateTriassic</td>\n      <td>Melanorosauridae</td>\n      <td>Anchisauria</td>\n      <td>227-221 million years ago</td>\n    </tr>\n  </tbody>\n</table>\n<p>229 rows × 15 columns</p>\n</div>"
     },
     "execution_count": 228,
     "metadata": {},
     "output_type": "execute_result"
    }
   ],
   "source": [
    "# period's million years ago part\n",
    "train[\"period_mya\"] = train[\"period\"].apply(lambda x: \" \".join(x.split(\" \")[2:]))\n",
    "train"
   ],
   "metadata": {
    "collapsed": false,
    "ExecuteTime": {
     "start_time": "2023-04-28T23:20:59.955918Z",
     "end_time": "2023-04-28T23:20:59.985231Z"
    }
   }
  },
  {
   "cell_type": "code",
   "execution_count": 229,
   "outputs": [
    {
     "data": {
      "text/plain": "Index(['id', 'name', 'diet', 'period', 'lived_in', 'type', 'length',\n       'taxonomy', 'named_by', 'species', 'link', 'short_period',\n       'last_taxonomy', 'penultimate_taxonomy', 'period_mya'],\n      dtype='object')"
     },
     "execution_count": 229,
     "metadata": {},
     "output_type": "execute_result"
    }
   ],
   "source": [
    "train.columns"
   ],
   "metadata": {
    "collapsed": false,
    "ExecuteTime": {
     "start_time": "2023-04-28T23:21:00.330108Z",
     "end_time": "2023-04-28T23:21:00.349546Z"
    }
   }
  },
  {
   "cell_type": "code",
   "execution_count": 230,
   "outputs": [
    {
     "data": {
      "text/plain": "    id              name         diet  \\\n0    1     magyarosaurus  herbivorous   \n1    2      camarasaurus  herbivorous   \n2    3       gorgosaurus  carnivorous   \n3    4  acrocanthosaurus  carnivorous   \n4    5         hagryphus   omnivorous   \n..  ..               ...          ...   \n57  58       bellusaurus  herbivorous   \n58  59         talarurus  herbivorous   \n59  60      deltadromeus  carnivorous   \n60  61      centrosaurus  herbivorous   \n61  62      parksosaurus  herbivorous   \n\n                                        period  lived_in  length  \\\n0      Late Cretaceous 71-65 million years ago   Romania     5.0   \n1      Late Jurassic 150-140 million years ago       USA    23.0   \n2      Late Cretaceous 80-73 million years ago       USA     8.6   \n3   Early Cretaceous 115-105 million years ago       USA    12.0   \n4                                          NaN       USA     3.0   \n..                                         ...       ...     ...   \n57      Mid Jurassic 180-159 million years ago     China     5.0   \n58     Late Cretaceous 99-89 million years ago  Mongolia     6.0   \n59     Late Cretaceous 99-94 million years ago   Morocco     8.1   \n60     Late Cretaceous 76-74 million years ago    Canada     6.0   \n61     Late Cretaceous 76-74 million years ago    Canada     3.0   \n\n                                             taxonomy  \\\n0   Dinosauria Saurischia Sauropodomorpha Sauropod...   \n1   Dinosauria Saurischia Sauropodomorpha Sauropod...   \n2   Dinosauria Saurischia Theropoda Neotheropoda T...   \n3   Dinosauria Saurischia Theropoda Neotheropoda T...   \n4   Dinosauria Saurischia Theropoda Neotheropoda T...   \n..                                                ...   \n57  Dinosauria Saurischia Sauropodomorpha Sauropod...   \n58  Dinosauria Ornithischia Genasauria Thyreophora...   \n59  Dinosauria Saurischia Theropoda Neotheropoda T...   \n60  Dinosauria Ornithischia Genasauria Cerapoda Ma...   \n61  Dinosauria Ornithischia Genasauria Cerapoda Or...   \n\n                                             named_by         species  \\\n0                                       Nopcsa (1915)           dacus   \n1                                         Cope (1877)        supremus   \n2                                         Lamb (1914)        libratus   \n3                         Stovall and Langston (1950)       atokensis   \n4                            Zanno and Sampson (2005)       giganteus   \n..                                                ...             ...   \n57                              Dong and Azuma (1990)             sui   \n58                                      Maleev (1952)  plicatospineus   \n59  Sereno Duthiel Iarochene Larsson Lyon Magwene ...          agilis   \n60                                            apertus             NaN   \n61                                   Sternberg (1937)        warrenae   \n\n                                                 link     short_period  \\\n0   https://www.nhm.ac.uk/discover/dino-directory/...   LateCretaceous   \n1   https://www.nhm.ac.uk/discover/dino-directory/...     LateJurassic   \n2   https://www.nhm.ac.uk/discover/dino-directory/...   LateCretaceous   \n3   https://www.nhm.ac.uk/discover/dino-directory/...  EarlyCretaceous   \n4   https://www.nhm.ac.uk/discover/dino-directory/...              NaN   \n..                                                ...              ...   \n57  https://www.nhm.ac.uk/discover/dino-directory/...      MidJurassic   \n58  https://www.nhm.ac.uk/discover/dino-directory/...   LateCretaceous   \n59  https://www.nhm.ac.uk/discover/dino-directory/...   LateCretaceous   \n60  https://www.nhm.ac.uk/discover/dino-directory/...   LateCretaceous   \n61  https://www.nhm.ac.uk/discover/dino-directory/...   LateCretaceous   \n\n            last_taxonomy penultimate_taxonomy                 period_mya  \n0            Lithostrotia         Titanosauria    71-65 million years ago  \n1          Camarasauridae    Camarasauromorpha  150-140 million years ago  \n2         Albertosaurinae      Tyrannosauridae    80-73 million years ago  \n3   Carcharodontosauridae        Allosauroidea  115-105 million years ago  \n4        Oviraptorosauria          Maniraptora                        NaN  \n..                    ...                  ...                        ...  \n57             Macronaria         Neosauropoda  180-159 million years ago  \n58         Ankylosauridae         Ankylosauria    99-89 million years ago  \n59          Coelurosauria         Avetheropoda    99-94 million years ago  \n60         Centrosaurinae         Ceratopsidae    76-74 million years ago  \n61          Euornithopoda          Ornithopoda    76-74 million years ago  \n\n[62 rows x 14 columns]",
      "text/html": "<div>\n<style scoped>\n    .dataframe tbody tr th:only-of-type {\n        vertical-align: middle;\n    }\n\n    .dataframe tbody tr th {\n        vertical-align: top;\n    }\n\n    .dataframe thead th {\n        text-align: right;\n    }\n</style>\n<table border=\"1\" class=\"dataframe\">\n  <thead>\n    <tr style=\"text-align: right;\">\n      <th></th>\n      <th>id</th>\n      <th>name</th>\n      <th>diet</th>\n      <th>period</th>\n      <th>lived_in</th>\n      <th>length</th>\n      <th>taxonomy</th>\n      <th>named_by</th>\n      <th>species</th>\n      <th>link</th>\n      <th>short_period</th>\n      <th>last_taxonomy</th>\n      <th>penultimate_taxonomy</th>\n      <th>period_mya</th>\n    </tr>\n  </thead>\n  <tbody>\n    <tr>\n      <th>0</th>\n      <td>1</td>\n      <td>magyarosaurus</td>\n      <td>herbivorous</td>\n      <td>Late Cretaceous 71-65 million years ago</td>\n      <td>Romania</td>\n      <td>5.0</td>\n      <td>Dinosauria Saurischia Sauropodomorpha Sauropod...</td>\n      <td>Nopcsa (1915)</td>\n      <td>dacus</td>\n      <td>https://www.nhm.ac.uk/discover/dino-directory/...</td>\n      <td>LateCretaceous</td>\n      <td>Lithostrotia</td>\n      <td>Titanosauria</td>\n      <td>71-65 million years ago</td>\n    </tr>\n    <tr>\n      <th>1</th>\n      <td>2</td>\n      <td>camarasaurus</td>\n      <td>herbivorous</td>\n      <td>Late Jurassic 150-140 million years ago</td>\n      <td>USA</td>\n      <td>23.0</td>\n      <td>Dinosauria Saurischia Sauropodomorpha Sauropod...</td>\n      <td>Cope (1877)</td>\n      <td>supremus</td>\n      <td>https://www.nhm.ac.uk/discover/dino-directory/...</td>\n      <td>LateJurassic</td>\n      <td>Camarasauridae</td>\n      <td>Camarasauromorpha</td>\n      <td>150-140 million years ago</td>\n    </tr>\n    <tr>\n      <th>2</th>\n      <td>3</td>\n      <td>gorgosaurus</td>\n      <td>carnivorous</td>\n      <td>Late Cretaceous 80-73 million years ago</td>\n      <td>USA</td>\n      <td>8.6</td>\n      <td>Dinosauria Saurischia Theropoda Neotheropoda T...</td>\n      <td>Lamb (1914)</td>\n      <td>libratus</td>\n      <td>https://www.nhm.ac.uk/discover/dino-directory/...</td>\n      <td>LateCretaceous</td>\n      <td>Albertosaurinae</td>\n      <td>Tyrannosauridae</td>\n      <td>80-73 million years ago</td>\n    </tr>\n    <tr>\n      <th>3</th>\n      <td>4</td>\n      <td>acrocanthosaurus</td>\n      <td>carnivorous</td>\n      <td>Early Cretaceous 115-105 million years ago</td>\n      <td>USA</td>\n      <td>12.0</td>\n      <td>Dinosauria Saurischia Theropoda Neotheropoda T...</td>\n      <td>Stovall and Langston (1950)</td>\n      <td>atokensis</td>\n      <td>https://www.nhm.ac.uk/discover/dino-directory/...</td>\n      <td>EarlyCretaceous</td>\n      <td>Carcharodontosauridae</td>\n      <td>Allosauroidea</td>\n      <td>115-105 million years ago</td>\n    </tr>\n    <tr>\n      <th>4</th>\n      <td>5</td>\n      <td>hagryphus</td>\n      <td>omnivorous</td>\n      <td>NaN</td>\n      <td>USA</td>\n      <td>3.0</td>\n      <td>Dinosauria Saurischia Theropoda Neotheropoda T...</td>\n      <td>Zanno and Sampson (2005)</td>\n      <td>giganteus</td>\n      <td>https://www.nhm.ac.uk/discover/dino-directory/...</td>\n      <td>NaN</td>\n      <td>Oviraptorosauria</td>\n      <td>Maniraptora</td>\n      <td>NaN</td>\n    </tr>\n    <tr>\n      <th>...</th>\n      <td>...</td>\n      <td>...</td>\n      <td>...</td>\n      <td>...</td>\n      <td>...</td>\n      <td>...</td>\n      <td>...</td>\n      <td>...</td>\n      <td>...</td>\n      <td>...</td>\n      <td>...</td>\n      <td>...</td>\n      <td>...</td>\n      <td>...</td>\n    </tr>\n    <tr>\n      <th>57</th>\n      <td>58</td>\n      <td>bellusaurus</td>\n      <td>herbivorous</td>\n      <td>Mid Jurassic 180-159 million years ago</td>\n      <td>China</td>\n      <td>5.0</td>\n      <td>Dinosauria Saurischia Sauropodomorpha Sauropod...</td>\n      <td>Dong and Azuma (1990)</td>\n      <td>sui</td>\n      <td>https://www.nhm.ac.uk/discover/dino-directory/...</td>\n      <td>MidJurassic</td>\n      <td>Macronaria</td>\n      <td>Neosauropoda</td>\n      <td>180-159 million years ago</td>\n    </tr>\n    <tr>\n      <th>58</th>\n      <td>59</td>\n      <td>talarurus</td>\n      <td>herbivorous</td>\n      <td>Late Cretaceous 99-89 million years ago</td>\n      <td>Mongolia</td>\n      <td>6.0</td>\n      <td>Dinosauria Ornithischia Genasauria Thyreophora...</td>\n      <td>Maleev (1952)</td>\n      <td>plicatospineus</td>\n      <td>https://www.nhm.ac.uk/discover/dino-directory/...</td>\n      <td>LateCretaceous</td>\n      <td>Ankylosauridae</td>\n      <td>Ankylosauria</td>\n      <td>99-89 million years ago</td>\n    </tr>\n    <tr>\n      <th>59</th>\n      <td>60</td>\n      <td>deltadromeus</td>\n      <td>carnivorous</td>\n      <td>Late Cretaceous 99-94 million years ago</td>\n      <td>Morocco</td>\n      <td>8.1</td>\n      <td>Dinosauria Saurischia Theropoda Neotheropoda T...</td>\n      <td>Sereno Duthiel Iarochene Larsson Lyon Magwene ...</td>\n      <td>agilis</td>\n      <td>https://www.nhm.ac.uk/discover/dino-directory/...</td>\n      <td>LateCretaceous</td>\n      <td>Coelurosauria</td>\n      <td>Avetheropoda</td>\n      <td>99-94 million years ago</td>\n    </tr>\n    <tr>\n      <th>60</th>\n      <td>61</td>\n      <td>centrosaurus</td>\n      <td>herbivorous</td>\n      <td>Late Cretaceous 76-74 million years ago</td>\n      <td>Canada</td>\n      <td>6.0</td>\n      <td>Dinosauria Ornithischia Genasauria Cerapoda Ma...</td>\n      <td>apertus</td>\n      <td>NaN</td>\n      <td>https://www.nhm.ac.uk/discover/dino-directory/...</td>\n      <td>LateCretaceous</td>\n      <td>Centrosaurinae</td>\n      <td>Ceratopsidae</td>\n      <td>76-74 million years ago</td>\n    </tr>\n    <tr>\n      <th>61</th>\n      <td>62</td>\n      <td>parksosaurus</td>\n      <td>herbivorous</td>\n      <td>Late Cretaceous 76-74 million years ago</td>\n      <td>Canada</td>\n      <td>3.0</td>\n      <td>Dinosauria Ornithischia Genasauria Cerapoda Or...</td>\n      <td>Sternberg (1937)</td>\n      <td>warrenae</td>\n      <td>https://www.nhm.ac.uk/discover/dino-directory/...</td>\n      <td>LateCretaceous</td>\n      <td>Euornithopoda</td>\n      <td>Ornithopoda</td>\n      <td>76-74 million years ago</td>\n    </tr>\n  </tbody>\n</table>\n<p>62 rows × 14 columns</p>\n</div>"
     },
     "execution_count": 230,
     "metadata": {},
     "output_type": "execute_result"
    }
   ],
   "source": [
    "# similarly add new features to the test.csv as well\n",
    "test[\"short_period\"]=test[\"period\"].apply(f)\n",
    "test[\"length\"] = test[\"length\"].apply(split_col)\n",
    "\n",
    "test[\"last_taxonomy\"] = test[\"taxonomy\"].apply(lambda x: x.split(\" \")[-1])\n",
    "test[\"penultimate_taxonomy\"] = test[\"taxonomy\"].apply(lambda x: x.split(\" \")[-2])\n",
    "\n",
    "test[\"period_mya\"] = test[\"period\"].apply(lambda x: \" \".join(x.split(\" \")[2:]) if type(x)==str else np.nan)\n",
    "test"
   ],
   "metadata": {
    "collapsed": false,
    "ExecuteTime": {
     "start_time": "2023-04-28T23:21:02.012544Z",
     "end_time": "2023-04-28T23:21:02.047354Z"
    }
   }
  },
  {
   "cell_type": "markdown",
   "source": [
    "__Select Categories__"
   ],
   "metadata": {
    "collapsed": false
   }
  },
  {
   "cell_type": "code",
   "execution_count": 263,
   "outputs": [
    {
     "data": {
      "text/plain": "Index(['id', 'name', 'diet', 'period', 'lived_in', 'type', 'length',\n       'taxonomy', 'named_by', 'species', 'link', 'short_period',\n       'last_taxonomy', 'penultimate_taxonomy', 'period_mya'],\n      dtype='object')"
     },
     "execution_count": 263,
     "metadata": {},
     "output_type": "execute_result"
    }
   ],
   "source": [
    "train.columns"
   ],
   "metadata": {
    "collapsed": false,
    "ExecuteTime": {
     "start_time": "2023-04-28T23:36:20.418674Z",
     "end_time": "2023-04-28T23:36:20.433669Z"
    }
   }
  },
  {
   "cell_type": "code",
   "execution_count": 264,
   "outputs": [],
   "source": [
    "# selecting those categories because others such as \"id\", \"name\", \"link\", \"named_by\" or \"species\" are mostly unique to the id and not a common feature used by many type of dinasaurs\n",
    "# so these are not categorical variables.\n",
    "feature_names = [\"diet\",\"short_period\",\"lived_in\",\"last_taxonomy\", \"penultimate_taxonomy\", \"period_mya\", \"length\"]"
   ],
   "metadata": {
    "collapsed": false,
    "ExecuteTime": {
     "start_time": "2023-04-28T23:36:20.748163Z",
     "end_time": "2023-04-28T23:36:20.765162Z"
    }
   }
  },
  {
   "cell_type": "code",
   "execution_count": 265,
   "outputs": [],
   "source": [
    "trainX = train[feature_names].copy(deep=True)\n",
    "testX = test[feature_names].copy(deep=True)"
   ],
   "metadata": {
    "collapsed": false,
    "ExecuteTime": {
     "start_time": "2023-04-28T23:36:21.374850Z",
     "end_time": "2023-04-28T23:36:21.394407Z"
    }
   }
  },
  {
   "cell_type": "code",
   "execution_count": 266,
   "outputs": [
    {
     "data": {
      "text/plain": "                       diet     short_period        lived_in  \\\n1    herbivorous/omnivorous     LateTriassic       Argentina   \n2               herbivorous   LateCretaceous           China   \n3               herbivorous   LateCretaceous             USA   \n4               herbivorous  EarlyCretaceous  United Kingdom   \n5               carnivorous   LateCretaceous        Mongolia   \n..                      ...              ...             ...   \n240             carnivorous   LateCretaceous        Mongolia   \n242             herbivorous  EarlyCretaceous       Australia   \n243             carnivorous  EarlyCretaceous           China   \n244             carnivorous   LateCretaceous       Argentina   \n245              omnivorous     LateTriassic    South Africa   \n\n        last_taxonomy penultimate_taxonomy                 period_mya  length  \n1    Melanorosauridae          Anchisauria  221-210 million years ago    5.15  \n2      Lambeosaurinae        Euhadrosauria    84-71 million years ago   12.00  \n3        Lithostrotia         Titanosauria    70-65 million years ago   21.00  \n4     Iguanodontoidea       Ankylopollexia  140-110 million years ago   10.00  \n5      Ornithomimidae    Ornithomimosauria    84-65 million years ago    3.50  \n..                ...                  ...                        ...     ...  \n240  Tyrannosauroidea       Tyrannoraptora    71-65 million years ago    6.00  \n242     Euornithopoda          Ornithopoda   121-97 million years ago    3.00  \n243   Dromaeosauridae        Eumaniraptora  125-122 million years ago    0.80  \n244     Abelisauridae      Neoceratosauria       70 million years ago    7.60  \n245  Melanorosauridae          Anchisauria  227-221 million years ago   12.00  \n\n[229 rows x 7 columns]",
      "text/html": "<div>\n<style scoped>\n    .dataframe tbody tr th:only-of-type {\n        vertical-align: middle;\n    }\n\n    .dataframe tbody tr th {\n        vertical-align: top;\n    }\n\n    .dataframe thead th {\n        text-align: right;\n    }\n</style>\n<table border=\"1\" class=\"dataframe\">\n  <thead>\n    <tr style=\"text-align: right;\">\n      <th></th>\n      <th>diet</th>\n      <th>short_period</th>\n      <th>lived_in</th>\n      <th>last_taxonomy</th>\n      <th>penultimate_taxonomy</th>\n      <th>period_mya</th>\n      <th>length</th>\n    </tr>\n  </thead>\n  <tbody>\n    <tr>\n      <th>1</th>\n      <td>herbivorous/omnivorous</td>\n      <td>LateTriassic</td>\n      <td>Argentina</td>\n      <td>Melanorosauridae</td>\n      <td>Anchisauria</td>\n      <td>221-210 million years ago</td>\n      <td>5.15</td>\n    </tr>\n    <tr>\n      <th>2</th>\n      <td>herbivorous</td>\n      <td>LateCretaceous</td>\n      <td>China</td>\n      <td>Lambeosaurinae</td>\n      <td>Euhadrosauria</td>\n      <td>84-71 million years ago</td>\n      <td>12.00</td>\n    </tr>\n    <tr>\n      <th>3</th>\n      <td>herbivorous</td>\n      <td>LateCretaceous</td>\n      <td>USA</td>\n      <td>Lithostrotia</td>\n      <td>Titanosauria</td>\n      <td>70-65 million years ago</td>\n      <td>21.00</td>\n    </tr>\n    <tr>\n      <th>4</th>\n      <td>herbivorous</td>\n      <td>EarlyCretaceous</td>\n      <td>United Kingdom</td>\n      <td>Iguanodontoidea</td>\n      <td>Ankylopollexia</td>\n      <td>140-110 million years ago</td>\n      <td>10.00</td>\n    </tr>\n    <tr>\n      <th>5</th>\n      <td>carnivorous</td>\n      <td>LateCretaceous</td>\n      <td>Mongolia</td>\n      <td>Ornithomimidae</td>\n      <td>Ornithomimosauria</td>\n      <td>84-65 million years ago</td>\n      <td>3.50</td>\n    </tr>\n    <tr>\n      <th>...</th>\n      <td>...</td>\n      <td>...</td>\n      <td>...</td>\n      <td>...</td>\n      <td>...</td>\n      <td>...</td>\n      <td>...</td>\n    </tr>\n    <tr>\n      <th>240</th>\n      <td>carnivorous</td>\n      <td>LateCretaceous</td>\n      <td>Mongolia</td>\n      <td>Tyrannosauroidea</td>\n      <td>Tyrannoraptora</td>\n      <td>71-65 million years ago</td>\n      <td>6.00</td>\n    </tr>\n    <tr>\n      <th>242</th>\n      <td>herbivorous</td>\n      <td>EarlyCretaceous</td>\n      <td>Australia</td>\n      <td>Euornithopoda</td>\n      <td>Ornithopoda</td>\n      <td>121-97 million years ago</td>\n      <td>3.00</td>\n    </tr>\n    <tr>\n      <th>243</th>\n      <td>carnivorous</td>\n      <td>EarlyCretaceous</td>\n      <td>China</td>\n      <td>Dromaeosauridae</td>\n      <td>Eumaniraptora</td>\n      <td>125-122 million years ago</td>\n      <td>0.80</td>\n    </tr>\n    <tr>\n      <th>244</th>\n      <td>carnivorous</td>\n      <td>LateCretaceous</td>\n      <td>Argentina</td>\n      <td>Abelisauridae</td>\n      <td>Neoceratosauria</td>\n      <td>70 million years ago</td>\n      <td>7.60</td>\n    </tr>\n    <tr>\n      <th>245</th>\n      <td>omnivorous</td>\n      <td>LateTriassic</td>\n      <td>South Africa</td>\n      <td>Melanorosauridae</td>\n      <td>Anchisauria</td>\n      <td>227-221 million years ago</td>\n      <td>12.00</td>\n    </tr>\n  </tbody>\n</table>\n<p>229 rows × 7 columns</p>\n</div>"
     },
     "execution_count": 266,
     "metadata": {},
     "output_type": "execute_result"
    }
   ],
   "source": [
    "trainX"
   ],
   "metadata": {
    "collapsed": false,
    "ExecuteTime": {
     "start_time": "2023-04-28T23:36:21.406624Z",
     "end_time": "2023-04-28T23:36:21.449322Z"
    }
   }
  },
  {
   "cell_type": "code",
   "execution_count": 267,
   "outputs": [
    {
     "data": {
      "text/plain": "           diet     short_period  lived_in          last_taxonomy  \\\n0   herbivorous   LateCretaceous   Romania           Lithostrotia   \n1   herbivorous     LateJurassic       USA         Camarasauridae   \n2   carnivorous   LateCretaceous       USA        Albertosaurinae   \n3   carnivorous  EarlyCretaceous       USA  Carcharodontosauridae   \n4    omnivorous              NaN       USA       Oviraptorosauria   \n..          ...              ...       ...                    ...   \n57  herbivorous      MidJurassic     China             Macronaria   \n58  herbivorous   LateCretaceous  Mongolia         Ankylosauridae   \n59  carnivorous   LateCretaceous   Morocco          Coelurosauria   \n60  herbivorous   LateCretaceous    Canada         Centrosaurinae   \n61  herbivorous   LateCretaceous    Canada          Euornithopoda   \n\n   penultimate_taxonomy                 period_mya  length  \n0          Titanosauria    71-65 million years ago     5.0  \n1     Camarasauromorpha  150-140 million years ago    23.0  \n2       Tyrannosauridae    80-73 million years ago     8.6  \n3         Allosauroidea  115-105 million years ago    12.0  \n4           Maniraptora                        NaN     3.0  \n..                  ...                        ...     ...  \n57         Neosauropoda  180-159 million years ago     5.0  \n58         Ankylosauria    99-89 million years ago     6.0  \n59         Avetheropoda    99-94 million years ago     8.1  \n60         Ceratopsidae    76-74 million years ago     6.0  \n61          Ornithopoda    76-74 million years ago     3.0  \n\n[62 rows x 7 columns]",
      "text/html": "<div>\n<style scoped>\n    .dataframe tbody tr th:only-of-type {\n        vertical-align: middle;\n    }\n\n    .dataframe tbody tr th {\n        vertical-align: top;\n    }\n\n    .dataframe thead th {\n        text-align: right;\n    }\n</style>\n<table border=\"1\" class=\"dataframe\">\n  <thead>\n    <tr style=\"text-align: right;\">\n      <th></th>\n      <th>diet</th>\n      <th>short_period</th>\n      <th>lived_in</th>\n      <th>last_taxonomy</th>\n      <th>penultimate_taxonomy</th>\n      <th>period_mya</th>\n      <th>length</th>\n    </tr>\n  </thead>\n  <tbody>\n    <tr>\n      <th>0</th>\n      <td>herbivorous</td>\n      <td>LateCretaceous</td>\n      <td>Romania</td>\n      <td>Lithostrotia</td>\n      <td>Titanosauria</td>\n      <td>71-65 million years ago</td>\n      <td>5.0</td>\n    </tr>\n    <tr>\n      <th>1</th>\n      <td>herbivorous</td>\n      <td>LateJurassic</td>\n      <td>USA</td>\n      <td>Camarasauridae</td>\n      <td>Camarasauromorpha</td>\n      <td>150-140 million years ago</td>\n      <td>23.0</td>\n    </tr>\n    <tr>\n      <th>2</th>\n      <td>carnivorous</td>\n      <td>LateCretaceous</td>\n      <td>USA</td>\n      <td>Albertosaurinae</td>\n      <td>Tyrannosauridae</td>\n      <td>80-73 million years ago</td>\n      <td>8.6</td>\n    </tr>\n    <tr>\n      <th>3</th>\n      <td>carnivorous</td>\n      <td>EarlyCretaceous</td>\n      <td>USA</td>\n      <td>Carcharodontosauridae</td>\n      <td>Allosauroidea</td>\n      <td>115-105 million years ago</td>\n      <td>12.0</td>\n    </tr>\n    <tr>\n      <th>4</th>\n      <td>omnivorous</td>\n      <td>NaN</td>\n      <td>USA</td>\n      <td>Oviraptorosauria</td>\n      <td>Maniraptora</td>\n      <td>NaN</td>\n      <td>3.0</td>\n    </tr>\n    <tr>\n      <th>...</th>\n      <td>...</td>\n      <td>...</td>\n      <td>...</td>\n      <td>...</td>\n      <td>...</td>\n      <td>...</td>\n      <td>...</td>\n    </tr>\n    <tr>\n      <th>57</th>\n      <td>herbivorous</td>\n      <td>MidJurassic</td>\n      <td>China</td>\n      <td>Macronaria</td>\n      <td>Neosauropoda</td>\n      <td>180-159 million years ago</td>\n      <td>5.0</td>\n    </tr>\n    <tr>\n      <th>58</th>\n      <td>herbivorous</td>\n      <td>LateCretaceous</td>\n      <td>Mongolia</td>\n      <td>Ankylosauridae</td>\n      <td>Ankylosauria</td>\n      <td>99-89 million years ago</td>\n      <td>6.0</td>\n    </tr>\n    <tr>\n      <th>59</th>\n      <td>carnivorous</td>\n      <td>LateCretaceous</td>\n      <td>Morocco</td>\n      <td>Coelurosauria</td>\n      <td>Avetheropoda</td>\n      <td>99-94 million years ago</td>\n      <td>8.1</td>\n    </tr>\n    <tr>\n      <th>60</th>\n      <td>herbivorous</td>\n      <td>LateCretaceous</td>\n      <td>Canada</td>\n      <td>Centrosaurinae</td>\n      <td>Ceratopsidae</td>\n      <td>76-74 million years ago</td>\n      <td>6.0</td>\n    </tr>\n    <tr>\n      <th>61</th>\n      <td>herbivorous</td>\n      <td>LateCretaceous</td>\n      <td>Canada</td>\n      <td>Euornithopoda</td>\n      <td>Ornithopoda</td>\n      <td>76-74 million years ago</td>\n      <td>3.0</td>\n    </tr>\n  </tbody>\n</table>\n<p>62 rows × 7 columns</p>\n</div>"
     },
     "execution_count": 267,
     "metadata": {},
     "output_type": "execute_result"
    }
   ],
   "source": [
    "testX"
   ],
   "metadata": {
    "collapsed": false,
    "ExecuteTime": {
     "start_time": "2023-04-28T23:36:22.377706Z",
     "end_time": "2023-04-28T23:36:22.391530Z"
    }
   }
  },
  {
   "cell_type": "markdown",
   "source": [
    "__Build One Hot Encoded Form of the Data__"
   ],
   "metadata": {
    "collapsed": false
   }
  },
  {
   "cell_type": "code",
   "execution_count": 268,
   "outputs": [],
   "source": [
    "## Concatenate train and test .csv files before building transformed matrix to avoid missing columns issue.\n",
    "\n",
    "train_test_X = pd.concat([trainX, testX], ignore_index=True)\n",
    "\n",
    "transformer = make_column_transformer(\n",
    "    (OneHotEncoder(sparse_output=False), feature_names),\n",
    "    remainder='passthrough'\n",
    ")\n",
    "transformed = transformer.fit_transform(train_test_X)\n",
    "train_test_X_dummies = pd.DataFrame(\n",
    "    transformed,\n",
    "    columns=transformer.get_feature_names_out()\n",
    ")\n",
    "\n",
    "train_X=train_test_X_dummies.iloc[:trainX.shape[0]].copy(deep=True)\n",
    "test_X=train_test_X_dummies.iloc[trainX.shape[0]:].copy(deep=True)\n",
    "train_y = train[\"type\"].values"
   ],
   "metadata": {
    "collapsed": false,
    "ExecuteTime": {
     "start_time": "2023-04-28T23:36:23.107735Z",
     "end_time": "2023-04-28T23:36:23.132617Z"
    }
   }
  },
  {
   "cell_type": "code",
   "execution_count": 269,
   "outputs": [
    {
     "data": {
      "text/plain": "     onehotencoder__diet_carnivorous  onehotencoder__diet_herbivorous  \\\n0                                0.0                              0.0   \n1                                0.0                              1.0   \n2                                0.0                              1.0   \n3                                0.0                              1.0   \n4                                1.0                              0.0   \n..                               ...                              ...   \n224                              1.0                              0.0   \n225                              0.0                              1.0   \n226                              1.0                              0.0   \n227                              1.0                              0.0   \n228                              0.0                              0.0   \n\n     onehotencoder__diet_herbivorous/omnivorous  \\\n0                                           1.0   \n1                                           0.0   \n2                                           0.0   \n3                                           0.0   \n4                                           0.0   \n..                                          ...   \n224                                         0.0   \n225                                         0.0   \n226                                         0.0   \n227                                         0.0   \n228                                         0.0   \n\n     onehotencoder__diet_omnivorous  onehotencoder__diet_unknown  \\\n0                               0.0                          0.0   \n1                               0.0                          0.0   \n2                               0.0                          0.0   \n3                               0.0                          0.0   \n4                               0.0                          0.0   \n..                              ...                          ...   \n224                             0.0                          0.0   \n225                             0.0                          0.0   \n226                             0.0                          0.0   \n227                             0.0                          0.0   \n228                             1.0                          0.0   \n\n     onehotencoder__short_period_EarlyCretaceous  \\\n0                                            0.0   \n1                                            0.0   \n2                                            0.0   \n3                                            1.0   \n4                                            0.0   \n..                                           ...   \n224                                          0.0   \n225                                          1.0   \n226                                          1.0   \n227                                          0.0   \n228                                          0.0   \n\n     onehotencoder__short_period_EarlyJurassic  \\\n0                                          0.0   \n1                                          0.0   \n2                                          0.0   \n3                                          0.0   \n4                                          0.0   \n..                                         ...   \n224                                        0.0   \n225                                        0.0   \n226                                        0.0   \n227                                        0.0   \n228                                        0.0   \n\n     onehotencoder__short_period_LateCretaceous  \\\n0                                           0.0   \n1                                           1.0   \n2                                           1.0   \n3                                           0.0   \n4                                           1.0   \n..                                          ...   \n224                                         1.0   \n225                                         0.0   \n226                                         0.0   \n227                                         1.0   \n228                                         0.0   \n\n     onehotencoder__short_period_LateJurassic  \\\n0                                         0.0   \n1                                         0.0   \n2                                         0.0   \n3                                         0.0   \n4                                         0.0   \n..                                        ...   \n224                                       0.0   \n225                                       0.0   \n226                                       0.0   \n227                                       0.0   \n228                                       0.0   \n\n     onehotencoder__short_period_LateTriassic  ...  \\\n0                                         1.0  ...   \n1                                         0.0  ...   \n2                                         0.0  ...   \n3                                         0.0  ...   \n4                                         0.0  ...   \n..                                        ...  ...   \n224                                       0.0  ...   \n225                                       0.0  ...   \n226                                       0.0  ...   \n227                                       0.0  ...   \n228                                       1.0  ...   \n\n     onehotencoder__length_21.5  onehotencoder__length_22.0  \\\n0                           0.0                         0.0   \n1                           0.0                         0.0   \n2                           0.0                         0.0   \n3                           0.0                         0.0   \n4                           0.0                         0.0   \n..                          ...                         ...   \n224                         0.0                         0.0   \n225                         0.0                         0.0   \n226                         0.0                         0.0   \n227                         0.0                         0.0   \n228                         0.0                         0.0   \n\n     onehotencoder__length_23.0  onehotencoder__length_24.0  \\\n0                           0.0                         0.0   \n1                           0.0                         0.0   \n2                           0.0                         0.0   \n3                           0.0                         0.0   \n4                           0.0                         0.0   \n..                          ...                         ...   \n224                         0.0                         0.0   \n225                         0.0                         0.0   \n226                         0.0                         0.0   \n227                         0.0                         0.0   \n228                         0.0                         0.0   \n\n     onehotencoder__length_25.0  onehotencoder__length_26.0  \\\n0                           0.0                         0.0   \n1                           0.0                         0.0   \n2                           0.0                         0.0   \n3                           0.0                         0.0   \n4                           0.0                         0.0   \n..                          ...                         ...   \n224                         0.0                         0.0   \n225                         0.0                         0.0   \n226                         0.0                         0.0   \n227                         0.0                         0.0   \n228                         0.0                         0.0   \n\n     onehotencoder__length_28.0  onehotencoder__length_30.0  \\\n0                           0.0                         0.0   \n1                           0.0                         0.0   \n2                           0.0                         0.0   \n3                           0.0                         0.0   \n4                           0.0                         0.0   \n..                          ...                         ...   \n224                         0.0                         0.0   \n225                         0.0                         0.0   \n226                         0.0                         0.0   \n227                         0.0                         0.0   \n228                         0.0                         0.0   \n\n     onehotencoder__length_35.0  onehotencoder__length_nan  \n0                           0.0                        0.0  \n1                           0.0                        0.0  \n2                           0.0                        0.0  \n3                           0.0                        0.0  \n4                           0.0                        0.0  \n..                          ...                        ...  \n224                         0.0                        0.0  \n225                         0.0                        0.0  \n226                         0.0                        0.0  \n227                         0.0                        0.0  \n228                         0.0                        0.0  \n\n[229 rows x 422 columns]",
      "text/html": "<div>\n<style scoped>\n    .dataframe tbody tr th:only-of-type {\n        vertical-align: middle;\n    }\n\n    .dataframe tbody tr th {\n        vertical-align: top;\n    }\n\n    .dataframe thead th {\n        text-align: right;\n    }\n</style>\n<table border=\"1\" class=\"dataframe\">\n  <thead>\n    <tr style=\"text-align: right;\">\n      <th></th>\n      <th>onehotencoder__diet_carnivorous</th>\n      <th>onehotencoder__diet_herbivorous</th>\n      <th>onehotencoder__diet_herbivorous/omnivorous</th>\n      <th>onehotencoder__diet_omnivorous</th>\n      <th>onehotencoder__diet_unknown</th>\n      <th>onehotencoder__short_period_EarlyCretaceous</th>\n      <th>onehotencoder__short_period_EarlyJurassic</th>\n      <th>onehotencoder__short_period_LateCretaceous</th>\n      <th>onehotencoder__short_period_LateJurassic</th>\n      <th>onehotencoder__short_period_LateTriassic</th>\n      <th>...</th>\n      <th>onehotencoder__length_21.5</th>\n      <th>onehotencoder__length_22.0</th>\n      <th>onehotencoder__length_23.0</th>\n      <th>onehotencoder__length_24.0</th>\n      <th>onehotencoder__length_25.0</th>\n      <th>onehotencoder__length_26.0</th>\n      <th>onehotencoder__length_28.0</th>\n      <th>onehotencoder__length_30.0</th>\n      <th>onehotencoder__length_35.0</th>\n      <th>onehotencoder__length_nan</th>\n    </tr>\n  </thead>\n  <tbody>\n    <tr>\n      <th>0</th>\n      <td>0.0</td>\n      <td>0.0</td>\n      <td>1.0</td>\n      <td>0.0</td>\n      <td>0.0</td>\n      <td>0.0</td>\n      <td>0.0</td>\n      <td>0.0</td>\n      <td>0.0</td>\n      <td>1.0</td>\n      <td>...</td>\n      <td>0.0</td>\n      <td>0.0</td>\n      <td>0.0</td>\n      <td>0.0</td>\n      <td>0.0</td>\n      <td>0.0</td>\n      <td>0.0</td>\n      <td>0.0</td>\n      <td>0.0</td>\n      <td>0.0</td>\n    </tr>\n    <tr>\n      <th>1</th>\n      <td>0.0</td>\n      <td>1.0</td>\n      <td>0.0</td>\n      <td>0.0</td>\n      <td>0.0</td>\n      <td>0.0</td>\n      <td>0.0</td>\n      <td>1.0</td>\n      <td>0.0</td>\n      <td>0.0</td>\n      <td>...</td>\n      <td>0.0</td>\n      <td>0.0</td>\n      <td>0.0</td>\n      <td>0.0</td>\n      <td>0.0</td>\n      <td>0.0</td>\n      <td>0.0</td>\n      <td>0.0</td>\n      <td>0.0</td>\n      <td>0.0</td>\n    </tr>\n    <tr>\n      <th>2</th>\n      <td>0.0</td>\n      <td>1.0</td>\n      <td>0.0</td>\n      <td>0.0</td>\n      <td>0.0</td>\n      <td>0.0</td>\n      <td>0.0</td>\n      <td>1.0</td>\n      <td>0.0</td>\n      <td>0.0</td>\n      <td>...</td>\n      <td>0.0</td>\n      <td>0.0</td>\n      <td>0.0</td>\n      <td>0.0</td>\n      <td>0.0</td>\n      <td>0.0</td>\n      <td>0.0</td>\n      <td>0.0</td>\n      <td>0.0</td>\n      <td>0.0</td>\n    </tr>\n    <tr>\n      <th>3</th>\n      <td>0.0</td>\n      <td>1.0</td>\n      <td>0.0</td>\n      <td>0.0</td>\n      <td>0.0</td>\n      <td>1.0</td>\n      <td>0.0</td>\n      <td>0.0</td>\n      <td>0.0</td>\n      <td>0.0</td>\n      <td>...</td>\n      <td>0.0</td>\n      <td>0.0</td>\n      <td>0.0</td>\n      <td>0.0</td>\n      <td>0.0</td>\n      <td>0.0</td>\n      <td>0.0</td>\n      <td>0.0</td>\n      <td>0.0</td>\n      <td>0.0</td>\n    </tr>\n    <tr>\n      <th>4</th>\n      <td>1.0</td>\n      <td>0.0</td>\n      <td>0.0</td>\n      <td>0.0</td>\n      <td>0.0</td>\n      <td>0.0</td>\n      <td>0.0</td>\n      <td>1.0</td>\n      <td>0.0</td>\n      <td>0.0</td>\n      <td>...</td>\n      <td>0.0</td>\n      <td>0.0</td>\n      <td>0.0</td>\n      <td>0.0</td>\n      <td>0.0</td>\n      <td>0.0</td>\n      <td>0.0</td>\n      <td>0.0</td>\n      <td>0.0</td>\n      <td>0.0</td>\n    </tr>\n    <tr>\n      <th>...</th>\n      <td>...</td>\n      <td>...</td>\n      <td>...</td>\n      <td>...</td>\n      <td>...</td>\n      <td>...</td>\n      <td>...</td>\n      <td>...</td>\n      <td>...</td>\n      <td>...</td>\n      <td>...</td>\n      <td>...</td>\n      <td>...</td>\n      <td>...</td>\n      <td>...</td>\n      <td>...</td>\n      <td>...</td>\n      <td>...</td>\n      <td>...</td>\n      <td>...</td>\n      <td>...</td>\n    </tr>\n    <tr>\n      <th>224</th>\n      <td>1.0</td>\n      <td>0.0</td>\n      <td>0.0</td>\n      <td>0.0</td>\n      <td>0.0</td>\n      <td>0.0</td>\n      <td>0.0</td>\n      <td>1.0</td>\n      <td>0.0</td>\n      <td>0.0</td>\n      <td>...</td>\n      <td>0.0</td>\n      <td>0.0</td>\n      <td>0.0</td>\n      <td>0.0</td>\n      <td>0.0</td>\n      <td>0.0</td>\n      <td>0.0</td>\n      <td>0.0</td>\n      <td>0.0</td>\n      <td>0.0</td>\n    </tr>\n    <tr>\n      <th>225</th>\n      <td>0.0</td>\n      <td>1.0</td>\n      <td>0.0</td>\n      <td>0.0</td>\n      <td>0.0</td>\n      <td>1.0</td>\n      <td>0.0</td>\n      <td>0.0</td>\n      <td>0.0</td>\n      <td>0.0</td>\n      <td>...</td>\n      <td>0.0</td>\n      <td>0.0</td>\n      <td>0.0</td>\n      <td>0.0</td>\n      <td>0.0</td>\n      <td>0.0</td>\n      <td>0.0</td>\n      <td>0.0</td>\n      <td>0.0</td>\n      <td>0.0</td>\n    </tr>\n    <tr>\n      <th>226</th>\n      <td>1.0</td>\n      <td>0.0</td>\n      <td>0.0</td>\n      <td>0.0</td>\n      <td>0.0</td>\n      <td>1.0</td>\n      <td>0.0</td>\n      <td>0.0</td>\n      <td>0.0</td>\n      <td>0.0</td>\n      <td>...</td>\n      <td>0.0</td>\n      <td>0.0</td>\n      <td>0.0</td>\n      <td>0.0</td>\n      <td>0.0</td>\n      <td>0.0</td>\n      <td>0.0</td>\n      <td>0.0</td>\n      <td>0.0</td>\n      <td>0.0</td>\n    </tr>\n    <tr>\n      <th>227</th>\n      <td>1.0</td>\n      <td>0.0</td>\n      <td>0.0</td>\n      <td>0.0</td>\n      <td>0.0</td>\n      <td>0.0</td>\n      <td>0.0</td>\n      <td>1.0</td>\n      <td>0.0</td>\n      <td>0.0</td>\n      <td>...</td>\n      <td>0.0</td>\n      <td>0.0</td>\n      <td>0.0</td>\n      <td>0.0</td>\n      <td>0.0</td>\n      <td>0.0</td>\n      <td>0.0</td>\n      <td>0.0</td>\n      <td>0.0</td>\n      <td>0.0</td>\n    </tr>\n    <tr>\n      <th>228</th>\n      <td>0.0</td>\n      <td>0.0</td>\n      <td>0.0</td>\n      <td>1.0</td>\n      <td>0.0</td>\n      <td>0.0</td>\n      <td>0.0</td>\n      <td>0.0</td>\n      <td>0.0</td>\n      <td>1.0</td>\n      <td>...</td>\n      <td>0.0</td>\n      <td>0.0</td>\n      <td>0.0</td>\n      <td>0.0</td>\n      <td>0.0</td>\n      <td>0.0</td>\n      <td>0.0</td>\n      <td>0.0</td>\n      <td>0.0</td>\n      <td>0.0</td>\n    </tr>\n  </tbody>\n</table>\n<p>229 rows × 422 columns</p>\n</div>"
     },
     "execution_count": 269,
     "metadata": {},
     "output_type": "execute_result"
    }
   ],
   "source": [
    "train_X"
   ],
   "metadata": {
    "collapsed": false,
    "ExecuteTime": {
     "start_time": "2023-04-28T23:36:23.596168Z",
     "end_time": "2023-04-28T23:36:23.634557Z"
    }
   }
  },
  {
   "cell_type": "code",
   "execution_count": 270,
   "outputs": [
    {
     "data": {
      "text/plain": "     onehotencoder__diet_carnivorous  onehotencoder__diet_herbivorous  \\\n229                              0.0                              1.0   \n230                              0.0                              1.0   \n231                              1.0                              0.0   \n232                              1.0                              0.0   \n233                              0.0                              0.0   \n..                               ...                              ...   \n286                              0.0                              1.0   \n287                              0.0                              1.0   \n288                              1.0                              0.0   \n289                              0.0                              1.0   \n290                              0.0                              1.0   \n\n     onehotencoder__diet_herbivorous/omnivorous  \\\n229                                         0.0   \n230                                         0.0   \n231                                         0.0   \n232                                         0.0   \n233                                         0.0   \n..                                          ...   \n286                                         0.0   \n287                                         0.0   \n288                                         0.0   \n289                                         0.0   \n290                                         0.0   \n\n     onehotencoder__diet_omnivorous  onehotencoder__diet_unknown  \\\n229                             0.0                          0.0   \n230                             0.0                          0.0   \n231                             0.0                          0.0   \n232                             0.0                          0.0   \n233                             1.0                          0.0   \n..                              ...                          ...   \n286                             0.0                          0.0   \n287                             0.0                          0.0   \n288                             0.0                          0.0   \n289                             0.0                          0.0   \n290                             0.0                          0.0   \n\n     onehotencoder__short_period_EarlyCretaceous  \\\n229                                          0.0   \n230                                          0.0   \n231                                          0.0   \n232                                          1.0   \n233                                          0.0   \n..                                           ...   \n286                                          0.0   \n287                                          0.0   \n288                                          0.0   \n289                                          0.0   \n290                                          0.0   \n\n     onehotencoder__short_period_EarlyJurassic  \\\n229                                        0.0   \n230                                        0.0   \n231                                        0.0   \n232                                        0.0   \n233                                        0.0   \n..                                         ...   \n286                                        0.0   \n287                                        0.0   \n288                                        0.0   \n289                                        0.0   \n290                                        0.0   \n\n     onehotencoder__short_period_LateCretaceous  \\\n229                                         1.0   \n230                                         0.0   \n231                                         1.0   \n232                                         0.0   \n233                                         0.0   \n..                                          ...   \n286                                         0.0   \n287                                         1.0   \n288                                         1.0   \n289                                         1.0   \n290                                         1.0   \n\n     onehotencoder__short_period_LateJurassic  \\\n229                                       0.0   \n230                                       1.0   \n231                                       0.0   \n232                                       0.0   \n233                                       0.0   \n..                                        ...   \n286                                       0.0   \n287                                       0.0   \n288                                       0.0   \n289                                       0.0   \n290                                       0.0   \n\n     onehotencoder__short_period_LateTriassic  ...  \\\n229                                       0.0  ...   \n230                                       0.0  ...   \n231                                       0.0  ...   \n232                                       0.0  ...   \n233                                       0.0  ...   \n..                                        ...  ...   \n286                                       0.0  ...   \n287                                       0.0  ...   \n288                                       0.0  ...   \n289                                       0.0  ...   \n290                                       0.0  ...   \n\n     onehotencoder__length_21.5  onehotencoder__length_22.0  \\\n229                         0.0                         0.0   \n230                         0.0                         0.0   \n231                         0.0                         0.0   \n232                         0.0                         0.0   \n233                         0.0                         0.0   \n..                          ...                         ...   \n286                         0.0                         0.0   \n287                         0.0                         0.0   \n288                         0.0                         0.0   \n289                         0.0                         0.0   \n290                         0.0                         0.0   \n\n     onehotencoder__length_23.0  onehotencoder__length_24.0  \\\n229                         0.0                         0.0   \n230                         1.0                         0.0   \n231                         0.0                         0.0   \n232                         0.0                         0.0   \n233                         0.0                         0.0   \n..                          ...                         ...   \n286                         0.0                         0.0   \n287                         0.0                         0.0   \n288                         0.0                         0.0   \n289                         0.0                         0.0   \n290                         0.0                         0.0   \n\n     onehotencoder__length_25.0  onehotencoder__length_26.0  \\\n229                         0.0                         0.0   \n230                         0.0                         0.0   \n231                         0.0                         0.0   \n232                         0.0                         0.0   \n233                         0.0                         0.0   \n..                          ...                         ...   \n286                         0.0                         0.0   \n287                         0.0                         0.0   \n288                         0.0                         0.0   \n289                         0.0                         0.0   \n290                         0.0                         0.0   \n\n     onehotencoder__length_28.0  onehotencoder__length_30.0  \\\n229                         0.0                         0.0   \n230                         0.0                         0.0   \n231                         0.0                         0.0   \n232                         0.0                         0.0   \n233                         0.0                         0.0   \n..                          ...                         ...   \n286                         0.0                         0.0   \n287                         0.0                         0.0   \n288                         0.0                         0.0   \n289                         0.0                         0.0   \n290                         0.0                         0.0   \n\n     onehotencoder__length_35.0  onehotencoder__length_nan  \n229                         0.0                        0.0  \n230                         0.0                        0.0  \n231                         0.0                        0.0  \n232                         0.0                        0.0  \n233                         0.0                        0.0  \n..                          ...                        ...  \n286                         0.0                        0.0  \n287                         0.0                        0.0  \n288                         0.0                        0.0  \n289                         0.0                        0.0  \n290                         0.0                        0.0  \n\n[62 rows x 422 columns]",
      "text/html": "<div>\n<style scoped>\n    .dataframe tbody tr th:only-of-type {\n        vertical-align: middle;\n    }\n\n    .dataframe tbody tr th {\n        vertical-align: top;\n    }\n\n    .dataframe thead th {\n        text-align: right;\n    }\n</style>\n<table border=\"1\" class=\"dataframe\">\n  <thead>\n    <tr style=\"text-align: right;\">\n      <th></th>\n      <th>onehotencoder__diet_carnivorous</th>\n      <th>onehotencoder__diet_herbivorous</th>\n      <th>onehotencoder__diet_herbivorous/omnivorous</th>\n      <th>onehotencoder__diet_omnivorous</th>\n      <th>onehotencoder__diet_unknown</th>\n      <th>onehotencoder__short_period_EarlyCretaceous</th>\n      <th>onehotencoder__short_period_EarlyJurassic</th>\n      <th>onehotencoder__short_period_LateCretaceous</th>\n      <th>onehotencoder__short_period_LateJurassic</th>\n      <th>onehotencoder__short_period_LateTriassic</th>\n      <th>...</th>\n      <th>onehotencoder__length_21.5</th>\n      <th>onehotencoder__length_22.0</th>\n      <th>onehotencoder__length_23.0</th>\n      <th>onehotencoder__length_24.0</th>\n      <th>onehotencoder__length_25.0</th>\n      <th>onehotencoder__length_26.0</th>\n      <th>onehotencoder__length_28.0</th>\n      <th>onehotencoder__length_30.0</th>\n      <th>onehotencoder__length_35.0</th>\n      <th>onehotencoder__length_nan</th>\n    </tr>\n  </thead>\n  <tbody>\n    <tr>\n      <th>229</th>\n      <td>0.0</td>\n      <td>1.0</td>\n      <td>0.0</td>\n      <td>0.0</td>\n      <td>0.0</td>\n      <td>0.0</td>\n      <td>0.0</td>\n      <td>1.0</td>\n      <td>0.0</td>\n      <td>0.0</td>\n      <td>...</td>\n      <td>0.0</td>\n      <td>0.0</td>\n      <td>0.0</td>\n      <td>0.0</td>\n      <td>0.0</td>\n      <td>0.0</td>\n      <td>0.0</td>\n      <td>0.0</td>\n      <td>0.0</td>\n      <td>0.0</td>\n    </tr>\n    <tr>\n      <th>230</th>\n      <td>0.0</td>\n      <td>1.0</td>\n      <td>0.0</td>\n      <td>0.0</td>\n      <td>0.0</td>\n      <td>0.0</td>\n      <td>0.0</td>\n      <td>0.0</td>\n      <td>1.0</td>\n      <td>0.0</td>\n      <td>...</td>\n      <td>0.0</td>\n      <td>0.0</td>\n      <td>1.0</td>\n      <td>0.0</td>\n      <td>0.0</td>\n      <td>0.0</td>\n      <td>0.0</td>\n      <td>0.0</td>\n      <td>0.0</td>\n      <td>0.0</td>\n    </tr>\n    <tr>\n      <th>231</th>\n      <td>1.0</td>\n      <td>0.0</td>\n      <td>0.0</td>\n      <td>0.0</td>\n      <td>0.0</td>\n      <td>0.0</td>\n      <td>0.0</td>\n      <td>1.0</td>\n      <td>0.0</td>\n      <td>0.0</td>\n      <td>...</td>\n      <td>0.0</td>\n      <td>0.0</td>\n      <td>0.0</td>\n      <td>0.0</td>\n      <td>0.0</td>\n      <td>0.0</td>\n      <td>0.0</td>\n      <td>0.0</td>\n      <td>0.0</td>\n      <td>0.0</td>\n    </tr>\n    <tr>\n      <th>232</th>\n      <td>1.0</td>\n      <td>0.0</td>\n      <td>0.0</td>\n      <td>0.0</td>\n      <td>0.0</td>\n      <td>1.0</td>\n      <td>0.0</td>\n      <td>0.0</td>\n      <td>0.0</td>\n      <td>0.0</td>\n      <td>...</td>\n      <td>0.0</td>\n      <td>0.0</td>\n      <td>0.0</td>\n      <td>0.0</td>\n      <td>0.0</td>\n      <td>0.0</td>\n      <td>0.0</td>\n      <td>0.0</td>\n      <td>0.0</td>\n      <td>0.0</td>\n    </tr>\n    <tr>\n      <th>233</th>\n      <td>0.0</td>\n      <td>0.0</td>\n      <td>0.0</td>\n      <td>1.0</td>\n      <td>0.0</td>\n      <td>0.0</td>\n      <td>0.0</td>\n      <td>0.0</td>\n      <td>0.0</td>\n      <td>0.0</td>\n      <td>...</td>\n      <td>0.0</td>\n      <td>0.0</td>\n      <td>0.0</td>\n      <td>0.0</td>\n      <td>0.0</td>\n      <td>0.0</td>\n      <td>0.0</td>\n      <td>0.0</td>\n      <td>0.0</td>\n      <td>0.0</td>\n    </tr>\n    <tr>\n      <th>...</th>\n      <td>...</td>\n      <td>...</td>\n      <td>...</td>\n      <td>...</td>\n      <td>...</td>\n      <td>...</td>\n      <td>...</td>\n      <td>...</td>\n      <td>...</td>\n      <td>...</td>\n      <td>...</td>\n      <td>...</td>\n      <td>...</td>\n      <td>...</td>\n      <td>...</td>\n      <td>...</td>\n      <td>...</td>\n      <td>...</td>\n      <td>...</td>\n      <td>...</td>\n      <td>...</td>\n    </tr>\n    <tr>\n      <th>286</th>\n      <td>0.0</td>\n      <td>1.0</td>\n      <td>0.0</td>\n      <td>0.0</td>\n      <td>0.0</td>\n      <td>0.0</td>\n      <td>0.0</td>\n      <td>0.0</td>\n      <td>0.0</td>\n      <td>0.0</td>\n      <td>...</td>\n      <td>0.0</td>\n      <td>0.0</td>\n      <td>0.0</td>\n      <td>0.0</td>\n      <td>0.0</td>\n      <td>0.0</td>\n      <td>0.0</td>\n      <td>0.0</td>\n      <td>0.0</td>\n      <td>0.0</td>\n    </tr>\n    <tr>\n      <th>287</th>\n      <td>0.0</td>\n      <td>1.0</td>\n      <td>0.0</td>\n      <td>0.0</td>\n      <td>0.0</td>\n      <td>0.0</td>\n      <td>0.0</td>\n      <td>1.0</td>\n      <td>0.0</td>\n      <td>0.0</td>\n      <td>...</td>\n      <td>0.0</td>\n      <td>0.0</td>\n      <td>0.0</td>\n      <td>0.0</td>\n      <td>0.0</td>\n      <td>0.0</td>\n      <td>0.0</td>\n      <td>0.0</td>\n      <td>0.0</td>\n      <td>0.0</td>\n    </tr>\n    <tr>\n      <th>288</th>\n      <td>1.0</td>\n      <td>0.0</td>\n      <td>0.0</td>\n      <td>0.0</td>\n      <td>0.0</td>\n      <td>0.0</td>\n      <td>0.0</td>\n      <td>1.0</td>\n      <td>0.0</td>\n      <td>0.0</td>\n      <td>...</td>\n      <td>0.0</td>\n      <td>0.0</td>\n      <td>0.0</td>\n      <td>0.0</td>\n      <td>0.0</td>\n      <td>0.0</td>\n      <td>0.0</td>\n      <td>0.0</td>\n      <td>0.0</td>\n      <td>0.0</td>\n    </tr>\n    <tr>\n      <th>289</th>\n      <td>0.0</td>\n      <td>1.0</td>\n      <td>0.0</td>\n      <td>0.0</td>\n      <td>0.0</td>\n      <td>0.0</td>\n      <td>0.0</td>\n      <td>1.0</td>\n      <td>0.0</td>\n      <td>0.0</td>\n      <td>...</td>\n      <td>0.0</td>\n      <td>0.0</td>\n      <td>0.0</td>\n      <td>0.0</td>\n      <td>0.0</td>\n      <td>0.0</td>\n      <td>0.0</td>\n      <td>0.0</td>\n      <td>0.0</td>\n      <td>0.0</td>\n    </tr>\n    <tr>\n      <th>290</th>\n      <td>0.0</td>\n      <td>1.0</td>\n      <td>0.0</td>\n      <td>0.0</td>\n      <td>0.0</td>\n      <td>0.0</td>\n      <td>0.0</td>\n      <td>1.0</td>\n      <td>0.0</td>\n      <td>0.0</td>\n      <td>...</td>\n      <td>0.0</td>\n      <td>0.0</td>\n      <td>0.0</td>\n      <td>0.0</td>\n      <td>0.0</td>\n      <td>0.0</td>\n      <td>0.0</td>\n      <td>0.0</td>\n      <td>0.0</td>\n      <td>0.0</td>\n    </tr>\n  </tbody>\n</table>\n<p>62 rows × 422 columns</p>\n</div>"
     },
     "execution_count": 270,
     "metadata": {},
     "output_type": "execute_result"
    }
   ],
   "source": [
    "test_X"
   ],
   "metadata": {
    "collapsed": false,
    "ExecuteTime": {
     "start_time": "2023-04-28T23:36:24.583203Z",
     "end_time": "2023-04-28T23:36:24.683698Z"
    }
   }
  },
  {
   "cell_type": "markdown",
   "source": [
    "<h1> Part 1) Predict using support vector machines (SVMs) </h1>"
   ],
   "metadata": {
    "collapsed": false
   }
  },
  {
   "cell_type": "markdown",
   "source": [
    "__Train model & compute mean accuracy and mean f1 score of the model__"
   ],
   "metadata": {
    "collapsed": false
   }
  },
  {
   "cell_type": "code",
   "execution_count": 271,
   "outputs": [
    {
     "name": "stdout",
     "output_type": "stream",
     "text": [
      "Mean accuracy: 0.8210628019323671 best accuracy 0.8695652173913043 on split 2\n",
      "Mean accuracy rbf: 0.812463768115942\n"
     ]
    }
   ],
   "source": [
    "# NOTE:\n",
    "# I will compute accuracy for both kernels : rbf and linear\n",
    "# then will select the best performing kernel type and will predict test data using that.\n",
    "#\n",
    "\n",
    "\n",
    "# Load the dataset\n",
    "# Initialize stratified k-fold cross-validation\n",
    "skf = StratifiedKFold(n_splits=5)  #the number of folds is 5\n",
    "\n",
    "# Perform stratified k-fold cross-validation\n",
    "rbf_accuracy_scores = []\n",
    "linear_accuracy_scores = []\n",
    "linear_models = []\n",
    "rbf_models = []\n",
    "for train_index, test_index in skf.split(train_X, train_y):\n",
    "    X_train, X_test = train_X.iloc[train_index], train_X.iloc[test_index]\n",
    "    y_train, y_test = train_y[train_index], train_y[test_index]\n",
    "\n",
    "    linear_svm_classifier = svm.SVC(kernel=\"linear\") # linear kernel\n",
    "    rbf_svm_classifier = svm.SVC(kernel=\"rbf\") # rbf kernel\n",
    "\n",
    "\n",
    "    # fit classifiers && train models\n",
    "    linear_svm_classifier.fit(X_train, y_train)\n",
    "    linear_models.append(linear_svm_classifier)\n",
    "    rbf_svm_classifier.fit(X_train, y_train)\n",
    "    rbf_models.append(rbf_svm_classifier)\n",
    "\n",
    "    # make predictions using trained models\n",
    "    linear_y_pred = linear_svm_classifier.predict(X_test)\n",
    "    rbf_y_pred = rbf_svm_classifier.predict(X_test)\n",
    "\n",
    "    # evaluate scores\n",
    "    linear_accuracy_scores.append(metrics.accuracy_score(y_test, linear_y_pred))\n",
    "    rbf_accuracy_scores.append(metrics.accuracy_score(y_test, rbf_y_pred))\n",
    "\n",
    "\n",
    "# Calculate the mean accuracy\n",
    "mean_accuracy = np.mean(linear_accuracy_scores)\n",
    "best_accuracy = np.max(linear_accuracy_scores)\n",
    "rbf_mean_accuracy = np.mean(rbf_accuracy_scores)\n",
    "print(\"Mean accuracy:\", mean_accuracy, \"best accuracy\", best_accuracy, \"on split\", linear_accuracy_scores.index(best_accuracy))\n",
    "print(\"Mean accuracy rbf:\", rbf_mean_accuracy)"
   ],
   "metadata": {
    "collapsed": false,
    "ExecuteTime": {
     "start_time": "2023-04-28T23:36:26.494414Z",
     "end_time": "2023-04-28T23:36:26.645169Z"
    }
   }
  },
  {
   "cell_type": "code",
   "execution_count": 272,
   "outputs": [
    {
     "name": "stdout",
     "output_type": "stream",
     "text": [
      "Mean weighted-average F1-score across 5 folds: 0.8146871816227689\n",
      "Best f1 score was: 0.8622074022941364\n"
     ]
    }
   ],
   "source": [
    "f1_scores = []\n",
    "k = 5\n",
    "skf = StratifiedKFold(n_splits=k)\n",
    "\n",
    "# Perform k-fold stratified cross-validation\n",
    "for train_index, test_index in skf.split(train_X, train_y):\n",
    "    X_train, X_test = train_X.iloc[train_index], train_X.iloc[test_index]\n",
    "    y_train, y_test = train_y[train_index], train_y[test_index]\n",
    "\n",
    "    linear_svm_classifier = svm.SVC(kernel=\"linear\") # linear kernel\n",
    "    # fit classifiers && train models\n",
    "    linear_svm_classifier.fit(X_train, y_train)\n",
    "    # make predictions using trained models\n",
    "    linear_y_pred = linear_svm_classifier.predict(X_test)\n",
    "\n",
    "    # Compute the weighted-average F1-score for this fold\n",
    "    fold_f1_score = f1_score(y_test, linear_y_pred, average='weighted')\n",
    "    f1_scores.append(fold_f1_score)\n",
    "\n",
    "# Calculate the mean F1-score across all folds\n",
    "mean_weighted_f1_score = np.mean(f1_scores)\n",
    "best_f1_score = np.max(f1_scores)\n",
    "print(\"Mean weighted-average F1-score across\", k, \"folds:\", mean_weighted_f1_score)\n",
    "print(\"Best f1 score was:\", best_f1_score)\n",
    "\n",
    "# picking best training accuracy model according these\n",
    "linear_svm_classifier = linear_models[linear_accuracy_scores.index(best_accuracy)]"
   ],
   "metadata": {
    "collapsed": false,
    "ExecuteTime": {
     "start_time": "2023-04-28T23:36:26.884169Z",
     "end_time": "2023-04-28T23:36:26.972219Z"
    }
   }
  },
  {
   "cell_type": "markdown",
   "source": [
    "__Predict test.csv with trained SVM model and save submission file__"
   ],
   "metadata": {
    "collapsed": false
   }
  },
  {
   "cell_type": "code",
   "execution_count": 273,
   "outputs": [],
   "source": [
    "linear_svm_predictions = linear_svm_classifier.predict(test_X)"
   ],
   "metadata": {
    "collapsed": false,
    "ExecuteTime": {
     "start_time": "2023-04-28T23:36:28.295760Z",
     "end_time": "2023-04-28T23:36:28.313235Z"
    }
   }
  },
  {
   "cell_type": "code",
   "execution_count": 274,
   "outputs": [],
   "source": [
    "test_X[\"type\"] = linear_svm_predictions"
   ],
   "metadata": {
    "collapsed": false,
    "ExecuteTime": {
     "start_time": "2023-04-28T23:36:28.823492Z",
     "end_time": "2023-04-28T23:36:28.841918Z"
    }
   }
  },
  {
   "cell_type": "code",
   "execution_count": 275,
   "outputs": [],
   "source": [
    "test_X[\"id\"] = range(1, test_X.shape[0]+1)"
   ],
   "metadata": {
    "collapsed": false,
    "ExecuteTime": {
     "start_time": "2023-04-28T23:36:29.416377Z",
     "end_time": "2023-04-28T23:36:29.432619Z"
    }
   }
  },
  {
   "cell_type": "code",
   "execution_count": 276,
   "outputs": [
    {
     "data": {
      "text/plain": "     id               type\n229   1           sauropod\n230   2           sauropod\n231   3     large theropod\n232   4     large theropod\n233   5     small theropod\n..   ..                ...\n286  58           sauropod\n287  59  armoured dinosaur\n288  60     large theropod\n289  61        ceratopsian\n290  62       euornithopod\n\n[62 rows x 2 columns]",
      "text/html": "<div>\n<style scoped>\n    .dataframe tbody tr th:only-of-type {\n        vertical-align: middle;\n    }\n\n    .dataframe tbody tr th {\n        vertical-align: top;\n    }\n\n    .dataframe thead th {\n        text-align: right;\n    }\n</style>\n<table border=\"1\" class=\"dataframe\">\n  <thead>\n    <tr style=\"text-align: right;\">\n      <th></th>\n      <th>id</th>\n      <th>type</th>\n    </tr>\n  </thead>\n  <tbody>\n    <tr>\n      <th>229</th>\n      <td>1</td>\n      <td>sauropod</td>\n    </tr>\n    <tr>\n      <th>230</th>\n      <td>2</td>\n      <td>sauropod</td>\n    </tr>\n    <tr>\n      <th>231</th>\n      <td>3</td>\n      <td>large theropod</td>\n    </tr>\n    <tr>\n      <th>232</th>\n      <td>4</td>\n      <td>large theropod</td>\n    </tr>\n    <tr>\n      <th>233</th>\n      <td>5</td>\n      <td>small theropod</td>\n    </tr>\n    <tr>\n      <th>...</th>\n      <td>...</td>\n      <td>...</td>\n    </tr>\n    <tr>\n      <th>286</th>\n      <td>58</td>\n      <td>sauropod</td>\n    </tr>\n    <tr>\n      <th>287</th>\n      <td>59</td>\n      <td>armoured dinosaur</td>\n    </tr>\n    <tr>\n      <th>288</th>\n      <td>60</td>\n      <td>large theropod</td>\n    </tr>\n    <tr>\n      <th>289</th>\n      <td>61</td>\n      <td>ceratopsian</td>\n    </tr>\n    <tr>\n      <th>290</th>\n      <td>62</td>\n      <td>euornithopod</td>\n    </tr>\n  </tbody>\n</table>\n<p>62 rows × 2 columns</p>\n</div>"
     },
     "execution_count": 276,
     "metadata": {},
     "output_type": "execute_result"
    }
   ],
   "source": [
    "# prepare submission file now.\n",
    "submission_file = test_X[[\"id\",\"type\"]]\n",
    "submission_file"
   ],
   "metadata": {
    "collapsed": false,
    "ExecuteTime": {
     "start_time": "2023-04-28T23:36:30.367156Z",
     "end_time": "2023-04-28T23:36:30.397917Z"
    }
   }
  },
  {
   "cell_type": "code",
   "execution_count": 277,
   "outputs": [],
   "source": [
    "# save svm submission file\n",
    "submission_file.to_csv(f\"SVM_submission_{tryc}.csv\",index=False)"
   ],
   "metadata": {
    "collapsed": false,
    "ExecuteTime": {
     "start_time": "2023-04-28T23:36:31.617389Z",
     "end_time": "2023-04-28T23:36:31.630700Z"
    }
   }
  },
  {
   "cell_type": "code",
   "execution_count": null,
   "outputs": [],
   "source": [
    "# submitted my work at Kaggle.\n",
    "# scored 0.96511 at SVM submissions (Muhammet Ali Öztürk)"
   ],
   "metadata": {
    "collapsed": false
   }
  },
  {
   "cell_type": "markdown",
   "source": [
    "<h1> Part 2) Predict using the Logistic Regression Model </h1>"
   ],
   "metadata": {
    "collapsed": false
   }
  },
  {
   "cell_type": "code",
   "execution_count": 278,
   "outputs": [],
   "source": [
    "# include package\n",
    "from sklearn.linear_model import LogisticRegression"
   ],
   "metadata": {
    "collapsed": false,
    "ExecuteTime": {
     "start_time": "2023-04-28T23:36:37.836203Z",
     "end_time": "2023-04-28T23:36:37.863620Z"
    }
   }
  },
  {
   "cell_type": "markdown",
   "source": [
    "__Compute mean accuracy and mean f1 scores similarly__"
   ],
   "metadata": {
    "collapsed": false
   }
  },
  {
   "cell_type": "code",
   "execution_count": 279,
   "outputs": [
    {
     "name": "stdout",
     "output_type": "stream",
     "text": [
      "Mean accuracy: 0.838743961352657\n",
      "Best accuracy was: 0.9111111111111111 on split 4\n"
     ]
    }
   ],
   "source": [
    "# compute mean accuracy similarly.\n",
    "k = 5\n",
    "skf = StratifiedKFold(n_splits=k)  #the number of folds is 5\n",
    "\n",
    "# Perform stratified k-fold cross-validation\n",
    "accuracy_scores = []\n",
    "# The given logistic regression classifier is chosen with C=5.0 for weaker regularization, penalty='l2' for L2 regularization,\n",
    "# solver='lbfgs' for optimization, multi_class='multinomial' for multi-class classification,\n",
    "# and max_iter=10000 for increasing maximum number of iterations. These parameters were likely\n",
    "# chosen through experimentation and tuning to achieve better performance on this specific dataset.\n",
    "logistic_classifier = LogisticRegression(C=5.0, penalty='l2', solver='lbfgs', multi_class='multinomial', max_iter=10000)\n",
    "logistic_models = []\n",
    "\n",
    "for train_index, test_index in skf.split(train_X, train_y):\n",
    "    X_train, X_test = train_X.iloc[train_index], train_X.iloc[test_index]\n",
    "    y_train, y_test = train_y[train_index], train_y[test_index]\n",
    "\n",
    "    # fit classifiers && train models\n",
    "    logistic_classifier.fit(X_train, y_train)\n",
    "    logistic_models.append(logistic_classifier)\n",
    "    # make predictions using trained models\n",
    "    logistic_y_pred = logistic_classifier.predict(X_test)\n",
    "\n",
    "    # evaluate scores\n",
    "    accuracy_scores.append(metrics.accuracy_score(y_test, logistic_y_pred))\n",
    "\n",
    "\n",
    "# Calculate the mean accuracy\n",
    "mean_accuracy = np.mean(accuracy_scores)\n",
    "print(\"Mean accuracy:\", mean_accuracy)\n",
    "print(f\"Best accuracy was: {np.max(accuracy_scores)} on split {accuracy_scores.index(np.max(accuracy_scores))}\")"
   ],
   "metadata": {
    "collapsed": false,
    "ExecuteTime": {
     "start_time": "2023-04-28T23:36:39.492934Z",
     "end_time": "2023-04-28T23:36:39.658843Z"
    }
   }
  },
  {
   "cell_type": "code",
   "execution_count": 280,
   "outputs": [
    {
     "name": "stdout",
     "output_type": "stream",
     "text": [
      "Mean weighted-average F1-score across 5 folds: 0.8325436508971041\n",
      "Best f1 score was: 0.9105744754041968\n"
     ]
    }
   ],
   "source": [
    "f1_scores = []\n",
    "skf = StratifiedKFold(n_splits=k)\n",
    "\n",
    "# Perform k-fold stratified cross-validation\n",
    "logistic_classifier = LogisticRegression(C=5.0, penalty='l2', solver='lbfgs', multi_class='multinomial', max_iter=10000)\n",
    "for train_index, test_index in skf.split(train_X, train_y):\n",
    "    X_train, X_test = train_X.iloc[train_index], train_X.iloc[test_index]\n",
    "    y_train, y_test = train_y[train_index], train_y[test_index]\n",
    "\n",
    "    # fit classifiers && train models\n",
    "    logistic_classifier.fit(X_train, y_train)\n",
    "    # make predictions using trained models\n",
    "    logistic_y_pred = logistic_classifier.predict(X_test)\n",
    "\n",
    "    # Compute the weighted-average F1-score for this fold\n",
    "    fold_f1_score = f1_score(y_test, logistic_y_pred, average='weighted')\n",
    "    f1_scores.append(fold_f1_score)\n",
    "\n",
    "# Calculate the mean F1-score across all folds\n",
    "mean_weighted_f1_score = np.mean(f1_scores)\n",
    "print(\"Mean weighted-average F1-score across\", k, \"folds:\", mean_weighted_f1_score)\n",
    "print(\"Best f1 score was:\", np.max(f1_scores))\n",
    "\n",
    "# picking best training accuracy model according these\n",
    "logistic_classifier = logistic_models[accuracy_scores.index(np.max(accuracy_scores))]"
   ],
   "metadata": {
    "collapsed": false,
    "ExecuteTime": {
     "start_time": "2023-04-28T23:36:40.050305Z",
     "end_time": "2023-04-28T23:36:40.206112Z"
    }
   }
  },
  {
   "cell_type": "markdown",
   "source": [
    "__Predict with LRM && save submission file__"
   ],
   "metadata": {
    "collapsed": false
   }
  },
  {
   "cell_type": "code",
   "execution_count": 281,
   "outputs": [],
   "source": [
    "test_X = test_X.drop([\"id\", \"type\"], axis=1)\n",
    "LR_predictions = logistic_classifier.predict(test_X)\n",
    "test_X[\"type\"] = LR_predictions\n",
    "test_X[\"id\"] = range(1, test_X.shape[0] + 1)\n",
    "# prepare submission file now.\n",
    "submission_file = test_X[[\"id\", \"type\"]]\n",
    "submission_file\n",
    "# save svm submission file\n",
    "submission_file.to_csv(f\"LR_submission_{tryc}.csv\", index=False)"
   ],
   "metadata": {
    "collapsed": false,
    "ExecuteTime": {
     "start_time": "2023-04-28T23:36:42.178687Z",
     "end_time": "2023-04-28T23:36:42.189137Z"
    }
   }
  },
  {
   "cell_type": "code",
   "execution_count": 282,
   "outputs": [],
   "source": [
    "# submitted my work at Kaggle.\n",
    "# scored 0.91860 at Logistic Regression Model submissions (Muhammet Ali Öztürk)"
   ],
   "metadata": {
    "collapsed": false,
    "ExecuteTime": {
     "start_time": "2023-04-28T23:38:24.503369Z",
     "end_time": "2023-04-28T23:38:24.530987Z"
    }
   }
  },
  {
   "cell_type": "code",
   "execution_count": 282,
   "outputs": [],
   "source": [],
   "metadata": {
    "collapsed": false,
    "ExecuteTime": {
     "start_time": "2023-04-28T23:38:24.698166Z",
     "end_time": "2023-04-28T23:38:24.732772Z"
    }
   }
  },
  {
   "cell_type": "code",
   "execution_count": null,
   "outputs": [],
   "source": [],
   "metadata": {
    "collapsed": false
   }
  }
 ],
 "metadata": {
  "kernelspec": {
   "display_name": "Python 3",
   "language": "python",
   "name": "python3"
  },
  "language_info": {
   "codemirror_mode": {
    "name": "ipython",
    "version": 3
   },
   "file_extension": ".py",
   "mimetype": "text/x-python",
   "name": "python",
   "nbconvert_exporter": "python",
   "pygments_lexer": "ipython3",
   "version": "3.8.3"
  }
 },
 "nbformat": 4,
 "nbformat_minor": 4
}
