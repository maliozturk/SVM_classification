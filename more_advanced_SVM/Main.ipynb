{
 "cells": [
  {
   "cell_type": "code",
   "execution_count": 58,
   "outputs": [],
   "source": [
    "import pandas as pd\n",
    "from sklearn.compose import make_column_transformer\n",
    "from sklearn.preprocessing import OneHotEncoder\n",
    "from sklearn.model_selection import StratifiedKFold\n",
    "from sklearn import metrics\n",
    "from sklearn import svm\n",
    "import numpy as np\n"
   ],
   "metadata": {
    "collapsed": false,
    "ExecuteTime": {
     "start_time": "2023-04-28T19:24:29.848733Z",
     "end_time": "2023-04-28T19:24:29.936543Z"
    }
   }
  },
  {
   "cell_type": "code",
   "execution_count": 10,
   "outputs": [],
   "source": [
    "def f(x):\n",
    "    if type(x) == str:\n",
    "        return \"\".join(x.split(\" \")[:2])\n",
    "    else:\n",
    "        return np.nan"
   ],
   "metadata": {
    "collapsed": false,
    "ExecuteTime": {
     "start_time": "2023-04-28T19:07:00.347950Z",
     "end_time": "2023-04-28T19:07:00.380065Z"
    }
   }
  },
  {
   "cell_type": "code",
   "execution_count": 11,
   "outputs": [],
   "source": [
    "def g(x):\n",
    "    return str(x.split(\" \")[-1])\n",
    "\n",
    "def h(x):\n",
    "    return str(x.split(\" \")[-2])"
   ],
   "metadata": {
    "collapsed": false,
    "ExecuteTime": {
     "start_time": "2023-04-28T19:07:22.942067Z",
     "end_time": "2023-04-28T19:07:22.967408Z"
    }
   }
  },
  {
   "cell_type": "code",
   "execution_count": 12,
   "outputs": [],
   "source": [
    "import numpy as np\n",
    "def split_col(col):\n",
    "    if not type(col) == float:\n",
    "        return float(col.split(\"m\")[0])\n",
    "    else:\n",
    "        return np.NaN"
   ],
   "metadata": {
    "collapsed": false,
    "ExecuteTime": {
     "start_time": "2023-04-28T19:07:27.882288Z",
     "end_time": "2023-04-28T19:07:27.912681Z"
    }
   }
  },
  {
   "cell_type": "code",
   "execution_count": 44,
   "outputs": [
    {
     "data": {
      "text/plain": "((246, 11), (62, 10))"
     },
     "execution_count": 44,
     "metadata": {},
     "output_type": "execute_result"
    }
   ],
   "source": [
    "train = pd.read_csv(\"train.csv\", dtype=str)\n",
    "test = pd.read_csv(\"test.csv\", dtype=str)\n",
    "train.shape, test.shape"
   ],
   "metadata": {
    "collapsed": false,
    "ExecuteTime": {
     "start_time": "2023-04-28T19:19:26.511972Z",
     "end_time": "2023-04-28T19:19:26.540235Z"
    }
   }
  },
  {
   "cell_type": "code",
   "execution_count": 45,
   "outputs": [],
   "source": [
    "# fix an issue at data\n",
    "test.loc[test[test.period == 'USA'].index.values[0], \"lived_in\"] = \"USA\"\n",
    "test.loc[test[test.period == 'USA'].index.values[0], \"period\"] = np.nan"
   ],
   "metadata": {
    "collapsed": false,
    "ExecuteTime": {
     "start_time": "2023-04-28T19:19:28.522901Z",
     "end_time": "2023-04-28T19:19:28.552845Z"
    }
   }
  },
  {
   "cell_type": "code",
   "execution_count": 46,
   "outputs": [],
   "source": [
    "#train = train.dropna()\n",
    "\n",
    "train[\"short_period\"]=train[\"period\"].apply(f)\n",
    "\n",
    "#train[\"is_herb\"] = train[\"diet\"].apply(is_herb)\n",
    "#train[\"is_omni\"] = train[\"diet\"].apply(is_omni)\n",
    "#train[\"is_carnivorous\"] = train[\"diet\"].apply(is_carnivorous)\n",
    "\n",
    "train[\"length\"] = train[\"length\"].apply(split_col)"
   ],
   "metadata": {
    "collapsed": false,
    "ExecuteTime": {
     "start_time": "2023-04-28T19:19:29.074934Z",
     "end_time": "2023-04-28T19:19:29.115198Z"
    }
   }
  },
  {
   "cell_type": "code",
   "execution_count": 47,
   "outputs": [
    {
     "name": "stdout",
     "output_type": "stream",
     "text": [
      "test shape: (62, 10)\n"
     ]
    }
   ],
   "source": [
    "print(f\"test shape: {test.shape}\")\n",
    "#test = test.dropna()\n",
    "#print(f\"test shape after dropna: {test.shape}\")\n",
    "\n",
    "test[\"short_period\"]=test[\"period\"].apply(f)\n",
    "\n",
    "#test[\"is_herb\"] = test[\"diet\"].apply(is_herb)\n",
    "#test[\"is_omni\"] = test[\"diet\"].apply(is_omni)\n",
    "#test[\"is_carnivorous\"] = test[\"diet\"].apply(is_carnivorous)\n",
    "\n",
    "test[\"length\"] = test[\"length\"].apply(split_col)"
   ],
   "metadata": {
    "collapsed": false,
    "ExecuteTime": {
     "start_time": "2023-04-28T19:19:29.814736Z",
     "end_time": "2023-04-28T19:19:29.837105Z"
    }
   }
  },
  {
   "cell_type": "code",
   "execution_count": 48,
   "outputs": [],
   "source": [
    "feature_names = [\"diet\",\"short_period\",\"lived_in\",\"taxonomy\"]"
   ],
   "metadata": {
    "collapsed": false,
    "ExecuteTime": {
     "start_time": "2023-04-28T19:19:30.573366Z",
     "end_time": "2023-04-28T19:19:30.603956Z"
    }
   }
  },
  {
   "cell_type": "code",
   "execution_count": 49,
   "outputs": [],
   "source": [
    "trainX = train[feature_names].copy(deep=True)\n",
    "testX = test[feature_names].copy(deep=True)"
   ],
   "metadata": {
    "collapsed": false,
    "ExecuteTime": {
     "start_time": "2023-04-28T19:19:30.846559Z",
     "end_time": "2023-04-28T19:19:30.877853Z"
    }
   }
  },
  {
   "cell_type": "code",
   "execution_count": 50,
   "outputs": [],
   "source": [
    "trainX[\"data\"] = \"train\"\n",
    "testX[\"data\"] = \"test\""
   ],
   "metadata": {
    "collapsed": false,
    "ExecuteTime": {
     "start_time": "2023-04-28T19:19:31.147596Z",
     "end_time": "2023-04-28T19:19:31.165158Z"
    }
   }
  },
  {
   "cell_type": "code",
   "execution_count": 51,
   "outputs": [
    {
     "data": {
      "text/plain": "                       diet     short_period        lived_in  \\\n0               carnivorous     LateTriassic  United Kingdom   \n1    herbivorous/omnivorous     LateTriassic       Argentina   \n2               herbivorous   LateCretaceous           China   \n3               herbivorous   LateCretaceous             USA   \n4               herbivorous  EarlyCretaceous  United Kingdom   \n..                      ...              ...             ...   \n241             herbivorous  EarlyCretaceous        Mongolia   \n242             herbivorous  EarlyCretaceous       Australia   \n243             carnivorous  EarlyCretaceous           China   \n244             carnivorous   LateCretaceous       Argentina   \n245              omnivorous     LateTriassic    South Africa   \n\n                                              taxonomy   data  \n0                                           Dinosauria  train  \n1    Dinosauria Saurischia Sauropodomorpha Prosauro...  train  \n2    Dinosauria Ornithischia Genasauria Cerapoda Or...  train  \n3    Dinosauria Saurischia Sauropodomorpha Sauropod...  train  \n4    Dinosauria Ornithischia Genasauria Cerapoda Or...  train  \n..                                                 ...    ...  \n241  Dinosauria Ornithischia Genasauria Thyreophora...  train  \n242  Dinosauria Ornithischia Genasauria Cerapoda Or...  train  \n243  Dinosauria Saurischia Theropoda Neotheropoda T...  train  \n244  Dinosauria Saurischia Theropoda Neotheropoda C...  train  \n245  Dinosauria Saurischia Sauropodomorpha Prosauro...  train  \n\n[246 rows x 5 columns]",
      "text/html": "<div>\n<style scoped>\n    .dataframe tbody tr th:only-of-type {\n        vertical-align: middle;\n    }\n\n    .dataframe tbody tr th {\n        vertical-align: top;\n    }\n\n    .dataframe thead th {\n        text-align: right;\n    }\n</style>\n<table border=\"1\" class=\"dataframe\">\n  <thead>\n    <tr style=\"text-align: right;\">\n      <th></th>\n      <th>diet</th>\n      <th>short_period</th>\n      <th>lived_in</th>\n      <th>taxonomy</th>\n      <th>data</th>\n    </tr>\n  </thead>\n  <tbody>\n    <tr>\n      <th>0</th>\n      <td>carnivorous</td>\n      <td>LateTriassic</td>\n      <td>United Kingdom</td>\n      <td>Dinosauria</td>\n      <td>train</td>\n    </tr>\n    <tr>\n      <th>1</th>\n      <td>herbivorous/omnivorous</td>\n      <td>LateTriassic</td>\n      <td>Argentina</td>\n      <td>Dinosauria Saurischia Sauropodomorpha Prosauro...</td>\n      <td>train</td>\n    </tr>\n    <tr>\n      <th>2</th>\n      <td>herbivorous</td>\n      <td>LateCretaceous</td>\n      <td>China</td>\n      <td>Dinosauria Ornithischia Genasauria Cerapoda Or...</td>\n      <td>train</td>\n    </tr>\n    <tr>\n      <th>3</th>\n      <td>herbivorous</td>\n      <td>LateCretaceous</td>\n      <td>USA</td>\n      <td>Dinosauria Saurischia Sauropodomorpha Sauropod...</td>\n      <td>train</td>\n    </tr>\n    <tr>\n      <th>4</th>\n      <td>herbivorous</td>\n      <td>EarlyCretaceous</td>\n      <td>United Kingdom</td>\n      <td>Dinosauria Ornithischia Genasauria Cerapoda Or...</td>\n      <td>train</td>\n    </tr>\n    <tr>\n      <th>...</th>\n      <td>...</td>\n      <td>...</td>\n      <td>...</td>\n      <td>...</td>\n      <td>...</td>\n    </tr>\n    <tr>\n      <th>241</th>\n      <td>herbivorous</td>\n      <td>EarlyCretaceous</td>\n      <td>Mongolia</td>\n      <td>Dinosauria Ornithischia Genasauria Thyreophora...</td>\n      <td>train</td>\n    </tr>\n    <tr>\n      <th>242</th>\n      <td>herbivorous</td>\n      <td>EarlyCretaceous</td>\n      <td>Australia</td>\n      <td>Dinosauria Ornithischia Genasauria Cerapoda Or...</td>\n      <td>train</td>\n    </tr>\n    <tr>\n      <th>243</th>\n      <td>carnivorous</td>\n      <td>EarlyCretaceous</td>\n      <td>China</td>\n      <td>Dinosauria Saurischia Theropoda Neotheropoda T...</td>\n      <td>train</td>\n    </tr>\n    <tr>\n      <th>244</th>\n      <td>carnivorous</td>\n      <td>LateCretaceous</td>\n      <td>Argentina</td>\n      <td>Dinosauria Saurischia Theropoda Neotheropoda C...</td>\n      <td>train</td>\n    </tr>\n    <tr>\n      <th>245</th>\n      <td>omnivorous</td>\n      <td>LateTriassic</td>\n      <td>South Africa</td>\n      <td>Dinosauria Saurischia Sauropodomorpha Prosauro...</td>\n      <td>train</td>\n    </tr>\n  </tbody>\n</table>\n<p>246 rows × 5 columns</p>\n</div>"
     },
     "execution_count": 51,
     "metadata": {},
     "output_type": "execute_result"
    }
   ],
   "source": [
    "trainX"
   ],
   "metadata": {
    "collapsed": false,
    "ExecuteTime": {
     "start_time": "2023-04-28T19:19:31.556043Z",
     "end_time": "2023-04-28T19:19:31.594866Z"
    }
   }
  },
  {
   "cell_type": "code",
   "execution_count": 52,
   "outputs": [
    {
     "data": {
      "text/plain": "           diet     short_period  lived_in  \\\n0   herbivorous   LateCretaceous   Romania   \n1   herbivorous     LateJurassic       USA   \n2   carnivorous   LateCretaceous       USA   \n3   carnivorous  EarlyCretaceous       USA   \n4    omnivorous              NaN       USA   \n..          ...              ...       ...   \n57  herbivorous      MidJurassic     China   \n58  herbivorous   LateCretaceous  Mongolia   \n59  carnivorous   LateCretaceous   Morocco   \n60  herbivorous   LateCretaceous    Canada   \n61  herbivorous   LateCretaceous    Canada   \n\n                                             taxonomy  data  \n0   Dinosauria Saurischia Sauropodomorpha Sauropod...  test  \n1   Dinosauria Saurischia Sauropodomorpha Sauropod...  test  \n2   Dinosauria Saurischia Theropoda Neotheropoda T...  test  \n3   Dinosauria Saurischia Theropoda Neotheropoda T...  test  \n4   Dinosauria Saurischia Theropoda Neotheropoda T...  test  \n..                                                ...   ...  \n57  Dinosauria Saurischia Sauropodomorpha Sauropod...  test  \n58  Dinosauria Ornithischia Genasauria Thyreophora...  test  \n59  Dinosauria Saurischia Theropoda Neotheropoda T...  test  \n60  Dinosauria Ornithischia Genasauria Cerapoda Ma...  test  \n61  Dinosauria Ornithischia Genasauria Cerapoda Or...  test  \n\n[62 rows x 5 columns]",
      "text/html": "<div>\n<style scoped>\n    .dataframe tbody tr th:only-of-type {\n        vertical-align: middle;\n    }\n\n    .dataframe tbody tr th {\n        vertical-align: top;\n    }\n\n    .dataframe thead th {\n        text-align: right;\n    }\n</style>\n<table border=\"1\" class=\"dataframe\">\n  <thead>\n    <tr style=\"text-align: right;\">\n      <th></th>\n      <th>diet</th>\n      <th>short_period</th>\n      <th>lived_in</th>\n      <th>taxonomy</th>\n      <th>data</th>\n    </tr>\n  </thead>\n  <tbody>\n    <tr>\n      <th>0</th>\n      <td>herbivorous</td>\n      <td>LateCretaceous</td>\n      <td>Romania</td>\n      <td>Dinosauria Saurischia Sauropodomorpha Sauropod...</td>\n      <td>test</td>\n    </tr>\n    <tr>\n      <th>1</th>\n      <td>herbivorous</td>\n      <td>LateJurassic</td>\n      <td>USA</td>\n      <td>Dinosauria Saurischia Sauropodomorpha Sauropod...</td>\n      <td>test</td>\n    </tr>\n    <tr>\n      <th>2</th>\n      <td>carnivorous</td>\n      <td>LateCretaceous</td>\n      <td>USA</td>\n      <td>Dinosauria Saurischia Theropoda Neotheropoda T...</td>\n      <td>test</td>\n    </tr>\n    <tr>\n      <th>3</th>\n      <td>carnivorous</td>\n      <td>EarlyCretaceous</td>\n      <td>USA</td>\n      <td>Dinosauria Saurischia Theropoda Neotheropoda T...</td>\n      <td>test</td>\n    </tr>\n    <tr>\n      <th>4</th>\n      <td>omnivorous</td>\n      <td>NaN</td>\n      <td>USA</td>\n      <td>Dinosauria Saurischia Theropoda Neotheropoda T...</td>\n      <td>test</td>\n    </tr>\n    <tr>\n      <th>...</th>\n      <td>...</td>\n      <td>...</td>\n      <td>...</td>\n      <td>...</td>\n      <td>...</td>\n    </tr>\n    <tr>\n      <th>57</th>\n      <td>herbivorous</td>\n      <td>MidJurassic</td>\n      <td>China</td>\n      <td>Dinosauria Saurischia Sauropodomorpha Sauropod...</td>\n      <td>test</td>\n    </tr>\n    <tr>\n      <th>58</th>\n      <td>herbivorous</td>\n      <td>LateCretaceous</td>\n      <td>Mongolia</td>\n      <td>Dinosauria Ornithischia Genasauria Thyreophora...</td>\n      <td>test</td>\n    </tr>\n    <tr>\n      <th>59</th>\n      <td>carnivorous</td>\n      <td>LateCretaceous</td>\n      <td>Morocco</td>\n      <td>Dinosauria Saurischia Theropoda Neotheropoda T...</td>\n      <td>test</td>\n    </tr>\n    <tr>\n      <th>60</th>\n      <td>herbivorous</td>\n      <td>LateCretaceous</td>\n      <td>Canada</td>\n      <td>Dinosauria Ornithischia Genasauria Cerapoda Ma...</td>\n      <td>test</td>\n    </tr>\n    <tr>\n      <th>61</th>\n      <td>herbivorous</td>\n      <td>LateCretaceous</td>\n      <td>Canada</td>\n      <td>Dinosauria Ornithischia Genasauria Cerapoda Or...</td>\n      <td>test</td>\n    </tr>\n  </tbody>\n</table>\n<p>62 rows × 5 columns</p>\n</div>"
     },
     "execution_count": 52,
     "metadata": {},
     "output_type": "execute_result"
    }
   ],
   "source": [
    "testX"
   ],
   "metadata": {
    "collapsed": false,
    "ExecuteTime": {
     "start_time": "2023-04-28T19:19:32.461907Z",
     "end_time": "2023-04-28T19:19:32.476070Z"
    }
   }
  },
  {
   "cell_type": "code",
   "execution_count": 53,
   "outputs": [
    {
     "name": "stderr",
     "output_type": "stream",
     "text": [
      "C:\\ProgramData\\anaconda3\\lib\\site-packages\\sklearn\\preprocessing\\_encoders.py:828: FutureWarning: `sparse` was renamed to `sparse_output` in version 1.2 and will be removed in 1.4. `sparse_output` is ignored unless you leave `sparse` to its default value.\n",
      "  warnings.warn(\n"
     ]
    }
   ],
   "source": [
    "train_test_X = pd.concat([trainX, testX], ignore_index=True)\n",
    "ex_train_test_X_dummies = pd.get_dummies(train_test_X)\n",
    "\n",
    "transformer = make_column_transformer(\n",
    "    (OneHotEncoder(sparse=False), feature_names),\n",
    "    remainder='passthrough'\n",
    ")\n",
    "transformed = transformer.fit_transform(train_test_X)\n",
    "train_test_X_dummies = pd.DataFrame(\n",
    "    transformed,\n",
    "    columns=transformer.get_feature_names_out()\n",
    ")\n",
    "\n",
    "train_X=train_test_X_dummies.iloc[:trainX.shape[0]]\n",
    "test_X=train_test_X_dummies.iloc[trainX.shape[0]:]\n",
    "train_y = train[\"type\"].values"
   ],
   "metadata": {
    "collapsed": false,
    "ExecuteTime": {
     "start_time": "2023-04-28T19:19:34.055768Z",
     "end_time": "2023-04-28T19:19:34.095095Z"
    }
   }
  },
  {
   "cell_type": "code",
   "execution_count": 54,
   "outputs": [
    {
     "data": {
      "text/plain": "    onehotencoder__diet_carnivorous onehotencoder__diet_herbivorous  \\\n0                               1.0                             0.0   \n1                               0.0                             0.0   \n2                               0.0                             1.0   \n3                               0.0                             1.0   \n4                               0.0                             1.0   \n..                              ...                             ...   \n241                             0.0                             1.0   \n242                             0.0                             1.0   \n243                             1.0                             0.0   \n244                             1.0                             0.0   \n245                             0.0                             0.0   \n\n    onehotencoder__diet_herbivorous/omnivorous onehotencoder__diet_omnivorous  \\\n0                                          0.0                            0.0   \n1                                          1.0                            0.0   \n2                                          0.0                            0.0   \n3                                          0.0                            0.0   \n4                                          0.0                            0.0   \n..                                         ...                            ...   \n241                                        0.0                            0.0   \n242                                        0.0                            0.0   \n243                                        0.0                            0.0   \n244                                        0.0                            0.0   \n245                                        0.0                            1.0   \n\n    onehotencoder__diet_unknown onehotencoder__short_period_EarlyCretaceous  \\\n0                           0.0                                         0.0   \n1                           0.0                                         0.0   \n2                           0.0                                         0.0   \n3                           0.0                                         0.0   \n4                           0.0                                         1.0   \n..                          ...                                         ...   \n241                         0.0                                         1.0   \n242                         0.0                                         1.0   \n243                         0.0                                         1.0   \n244                         0.0                                         0.0   \n245                         0.0                                         0.0   \n\n    onehotencoder__short_period_EarlyJurassic  \\\n0                                         0.0   \n1                                         0.0   \n2                                         0.0   \n3                                         0.0   \n4                                         0.0   \n..                                        ...   \n241                                       0.0   \n242                                       0.0   \n243                                       0.0   \n244                                       0.0   \n245                                       0.0   \n\n    onehotencoder__short_period_LateCretaceous  \\\n0                                          0.0   \n1                                          0.0   \n2                                          1.0   \n3                                          1.0   \n4                                          0.0   \n..                                         ...   \n241                                        0.0   \n242                                        0.0   \n243                                        0.0   \n244                                        1.0   \n245                                        0.0   \n\n    onehotencoder__short_period_LateJurassic  \\\n0                                        0.0   \n1                                        0.0   \n2                                        0.0   \n3                                        0.0   \n4                                        0.0   \n..                                       ...   \n241                                      0.0   \n242                                      0.0   \n243                                      0.0   \n244                                      0.0   \n245                                      0.0   \n\n    onehotencoder__short_period_LateTriassic  ...  \\\n0                                        1.0  ...   \n1                                        1.0  ...   \n2                                        0.0  ...   \n3                                        0.0  ...   \n4                                        0.0  ...   \n..                                       ...  ...   \n241                                      0.0  ...   \n242                                      0.0  ...   \n243                                      0.0  ...   \n244                                      0.0  ...   \n245                                      1.0  ...   \n\n    onehotencoder__taxonomy_Dinosauria Saurischia Theropoda Neotheropoda Tetanurae Avetheropoda Coelurosauria Tyrannoraptora Maniraptoriformes Ornithomimosauria  \\\n0                                                  0.0                                                                                                             \n1                                                  0.0                                                                                                             \n2                                                  0.0                                                                                                             \n3                                                  0.0                                                                                                             \n4                                                  0.0                                                                                                             \n..                                                 ...                                                                                                             \n241                                                0.0                                                                                                             \n242                                                0.0                                                                                                             \n243                                                0.0                                                                                                             \n244                                                0.0                                                                                                             \n245                                                0.0                                                                                                             \n\n    onehotencoder__taxonomy_Dinosauria Saurischia Theropoda Neotheropoda Tetanurae Avetheropoda Coelurosauria Tyrannoraptora Maniraptoriformes Ornithomimosauria Ornithomimidae  \\\n0                                                  0.0                                                                                                                            \n1                                                  0.0                                                                                                                            \n2                                                  0.0                                                                                                                            \n3                                                  0.0                                                                                                                            \n4                                                  0.0                                                                                                                            \n..                                                 ...                                                                                                                            \n241                                                0.0                                                                                                                            \n242                                                0.0                                                                                                                            \n243                                                0.0                                                                                                                            \n244                                                0.0                                                                                                                            \n245                                                0.0                                                                                                                            \n\n    onehotencoder__taxonomy_Dinosauria Saurischia Theropoda Neotheropoda Tetanurae Avetheropoda Coelurosauria Tyrannoraptora Tyrannosauroidea  \\\n0                                                  0.0                                                                                          \n1                                                  0.0                                                                                          \n2                                                  0.0                                                                                          \n3                                                  0.0                                                                                          \n4                                                  0.0                                                                                          \n..                                                 ...                                                                                          \n241                                                0.0                                                                                          \n242                                                0.0                                                                                          \n243                                                0.0                                                                                          \n244                                                0.0                                                                                          \n245                                                0.0                                                                                          \n\n    onehotencoder__taxonomy_Dinosauria Saurischia Theropoda Neotheropoda Tetanurae Avetheropoda Coelurosauria Tyrannoraptora Tyrannosauroidea Tyrannosauridae Albertosaurinae  \\\n0                                                  0.0                                                                                                                          \n1                                                  0.0                                                                                                                          \n2                                                  0.0                                                                                                                          \n3                                                  0.0                                                                                                                          \n4                                                  0.0                                                                                                                          \n..                                                 ...                                                                                                                          \n241                                                0.0                                                                                                                          \n242                                                0.0                                                                                                                          \n243                                                0.0                                                                                                                          \n244                                                0.0                                                                                                                          \n245                                                0.0                                                                                                                          \n\n    onehotencoder__taxonomy_Dinosauria Saurischia Theropoda Neotheropoda Tetanurae Avetheropoda Coelurosauria Tyrannoraptora Tyrannosauroidea Tyrannosauridae Tyrannosaurinae  \\\n0                                                  0.0                                                                                                                          \n1                                                  0.0                                                                                                                          \n2                                                  0.0                                                                                                                          \n3                                                  0.0                                                                                                                          \n4                                                  0.0                                                                                                                          \n..                                                 ...                                                                                                                          \n241                                                0.0                                                                                                                          \n242                                                0.0                                                                                                                          \n243                                                0.0                                                                                                                          \n244                                                0.0                                                                                                                          \n245                                                0.0                                                                                                                          \n\n    onehotencoder__taxonomy_Dinosauria Saurischia Theropoda Neotheropoda Tetanurae Spinosauroidea Megalosauridae Eustreptospondylinae  \\\n0                                                  0.0                                                                                  \n1                                                  0.0                                                                                  \n2                                                  0.0                                                                                  \n3                                                  0.0                                                                                  \n4                                                  0.0                                                                                  \n..                                                 ...                                                                                  \n241                                                0.0                                                                                  \n242                                                0.0                                                                                  \n243                                                0.0                                                                                  \n244                                                0.0                                                                                  \n245                                                0.0                                                                                  \n\n    onehotencoder__taxonomy_Dinosauria Saurischia Theropoda Neotheropoda Tetanurae Spinosauroidea Megalosauridae Megalosaurinae  \\\n0                                                  0.0                                                                            \n1                                                  0.0                                                                            \n2                                                  0.0                                                                            \n3                                                  0.0                                                                            \n4                                                  0.0                                                                            \n..                                                 ...                                                                            \n241                                                0.0                                                                            \n242                                                0.0                                                                            \n243                                                0.0                                                                            \n244                                                0.0                                                                            \n245                                                0.0                                                                            \n\n    onehotencoder__taxonomy_Dinosauria Saurischia Theropoda Neotheropoda Tetanurae Spinosauroidea Spinosauridae Baryonychinae  \\\n0                                                  0.0                                                                          \n1                                                  0.0                                                                          \n2                                                  0.0                                                                          \n3                                                  0.0                                                                          \n4                                                  0.0                                                                          \n..                                                 ...                                                                          \n241                                                0.0                                                                          \n242                                                0.0                                                                          \n243                                                0.0                                                                          \n244                                                0.0                                                                          \n245                                                0.0                                                                          \n\n    onehotencoder__taxonomy_Dinosauria Saurischia Theropoda Neotheropoda Tetanurae Spinosauroidea Spinosauridae Spinosaurinae  \\\n0                                                  0.0                                                                          \n1                                                  0.0                                                                          \n2                                                  0.0                                                                          \n3                                                  0.0                                                                          \n4                                                  0.0                                                                          \n..                                                 ...                                                                          \n241                                                0.0                                                                          \n242                                                0.0                                                                          \n243                                                0.0                                                                          \n244                                                0.0                                                                          \n245                                                0.0                                                                          \n\n    remainder__data  \n0             train  \n1             train  \n2             train  \n3             train  \n4             train  \n..              ...  \n241           train  \n242           train  \n243           train  \n244           train  \n245           train  \n\n[246 rows x 146 columns]",
      "text/html": "<div>\n<style scoped>\n    .dataframe tbody tr th:only-of-type {\n        vertical-align: middle;\n    }\n\n    .dataframe tbody tr th {\n        vertical-align: top;\n    }\n\n    .dataframe thead th {\n        text-align: right;\n    }\n</style>\n<table border=\"1\" class=\"dataframe\">\n  <thead>\n    <tr style=\"text-align: right;\">\n      <th></th>\n      <th>onehotencoder__diet_carnivorous</th>\n      <th>onehotencoder__diet_herbivorous</th>\n      <th>onehotencoder__diet_herbivorous/omnivorous</th>\n      <th>onehotencoder__diet_omnivorous</th>\n      <th>onehotencoder__diet_unknown</th>\n      <th>onehotencoder__short_period_EarlyCretaceous</th>\n      <th>onehotencoder__short_period_EarlyJurassic</th>\n      <th>onehotencoder__short_period_LateCretaceous</th>\n      <th>onehotencoder__short_period_LateJurassic</th>\n      <th>onehotencoder__short_period_LateTriassic</th>\n      <th>...</th>\n      <th>onehotencoder__taxonomy_Dinosauria Saurischia Theropoda Neotheropoda Tetanurae Avetheropoda Coelurosauria Tyrannoraptora Maniraptoriformes Ornithomimosauria</th>\n      <th>onehotencoder__taxonomy_Dinosauria Saurischia Theropoda Neotheropoda Tetanurae Avetheropoda Coelurosauria Tyrannoraptora Maniraptoriformes Ornithomimosauria Ornithomimidae</th>\n      <th>onehotencoder__taxonomy_Dinosauria Saurischia Theropoda Neotheropoda Tetanurae Avetheropoda Coelurosauria Tyrannoraptora Tyrannosauroidea</th>\n      <th>onehotencoder__taxonomy_Dinosauria Saurischia Theropoda Neotheropoda Tetanurae Avetheropoda Coelurosauria Tyrannoraptora Tyrannosauroidea Tyrannosauridae Albertosaurinae</th>\n      <th>onehotencoder__taxonomy_Dinosauria Saurischia Theropoda Neotheropoda Tetanurae Avetheropoda Coelurosauria Tyrannoraptora Tyrannosauroidea Tyrannosauridae Tyrannosaurinae</th>\n      <th>onehotencoder__taxonomy_Dinosauria Saurischia Theropoda Neotheropoda Tetanurae Spinosauroidea Megalosauridae Eustreptospondylinae</th>\n      <th>onehotencoder__taxonomy_Dinosauria Saurischia Theropoda Neotheropoda Tetanurae Spinosauroidea Megalosauridae Megalosaurinae</th>\n      <th>onehotencoder__taxonomy_Dinosauria Saurischia Theropoda Neotheropoda Tetanurae Spinosauroidea Spinosauridae Baryonychinae</th>\n      <th>onehotencoder__taxonomy_Dinosauria Saurischia Theropoda Neotheropoda Tetanurae Spinosauroidea Spinosauridae Spinosaurinae</th>\n      <th>remainder__data</th>\n    </tr>\n  </thead>\n  <tbody>\n    <tr>\n      <th>0</th>\n      <td>1.0</td>\n      <td>0.0</td>\n      <td>0.0</td>\n      <td>0.0</td>\n      <td>0.0</td>\n      <td>0.0</td>\n      <td>0.0</td>\n      <td>0.0</td>\n      <td>0.0</td>\n      <td>1.0</td>\n      <td>...</td>\n      <td>0.0</td>\n      <td>0.0</td>\n      <td>0.0</td>\n      <td>0.0</td>\n      <td>0.0</td>\n      <td>0.0</td>\n      <td>0.0</td>\n      <td>0.0</td>\n      <td>0.0</td>\n      <td>train</td>\n    </tr>\n    <tr>\n      <th>1</th>\n      <td>0.0</td>\n      <td>0.0</td>\n      <td>1.0</td>\n      <td>0.0</td>\n      <td>0.0</td>\n      <td>0.0</td>\n      <td>0.0</td>\n      <td>0.0</td>\n      <td>0.0</td>\n      <td>1.0</td>\n      <td>...</td>\n      <td>0.0</td>\n      <td>0.0</td>\n      <td>0.0</td>\n      <td>0.0</td>\n      <td>0.0</td>\n      <td>0.0</td>\n      <td>0.0</td>\n      <td>0.0</td>\n      <td>0.0</td>\n      <td>train</td>\n    </tr>\n    <tr>\n      <th>2</th>\n      <td>0.0</td>\n      <td>1.0</td>\n      <td>0.0</td>\n      <td>0.0</td>\n      <td>0.0</td>\n      <td>0.0</td>\n      <td>0.0</td>\n      <td>1.0</td>\n      <td>0.0</td>\n      <td>0.0</td>\n      <td>...</td>\n      <td>0.0</td>\n      <td>0.0</td>\n      <td>0.0</td>\n      <td>0.0</td>\n      <td>0.0</td>\n      <td>0.0</td>\n      <td>0.0</td>\n      <td>0.0</td>\n      <td>0.0</td>\n      <td>train</td>\n    </tr>\n    <tr>\n      <th>3</th>\n      <td>0.0</td>\n      <td>1.0</td>\n      <td>0.0</td>\n      <td>0.0</td>\n      <td>0.0</td>\n      <td>0.0</td>\n      <td>0.0</td>\n      <td>1.0</td>\n      <td>0.0</td>\n      <td>0.0</td>\n      <td>...</td>\n      <td>0.0</td>\n      <td>0.0</td>\n      <td>0.0</td>\n      <td>0.0</td>\n      <td>0.0</td>\n      <td>0.0</td>\n      <td>0.0</td>\n      <td>0.0</td>\n      <td>0.0</td>\n      <td>train</td>\n    </tr>\n    <tr>\n      <th>4</th>\n      <td>0.0</td>\n      <td>1.0</td>\n      <td>0.0</td>\n      <td>0.0</td>\n      <td>0.0</td>\n      <td>1.0</td>\n      <td>0.0</td>\n      <td>0.0</td>\n      <td>0.0</td>\n      <td>0.0</td>\n      <td>...</td>\n      <td>0.0</td>\n      <td>0.0</td>\n      <td>0.0</td>\n      <td>0.0</td>\n      <td>0.0</td>\n      <td>0.0</td>\n      <td>0.0</td>\n      <td>0.0</td>\n      <td>0.0</td>\n      <td>train</td>\n    </tr>\n    <tr>\n      <th>...</th>\n      <td>...</td>\n      <td>...</td>\n      <td>...</td>\n      <td>...</td>\n      <td>...</td>\n      <td>...</td>\n      <td>...</td>\n      <td>...</td>\n      <td>...</td>\n      <td>...</td>\n      <td>...</td>\n      <td>...</td>\n      <td>...</td>\n      <td>...</td>\n      <td>...</td>\n      <td>...</td>\n      <td>...</td>\n      <td>...</td>\n      <td>...</td>\n      <td>...</td>\n      <td>...</td>\n    </tr>\n    <tr>\n      <th>241</th>\n      <td>0.0</td>\n      <td>1.0</td>\n      <td>0.0</td>\n      <td>0.0</td>\n      <td>0.0</td>\n      <td>1.0</td>\n      <td>0.0</td>\n      <td>0.0</td>\n      <td>0.0</td>\n      <td>0.0</td>\n      <td>...</td>\n      <td>0.0</td>\n      <td>0.0</td>\n      <td>0.0</td>\n      <td>0.0</td>\n      <td>0.0</td>\n      <td>0.0</td>\n      <td>0.0</td>\n      <td>0.0</td>\n      <td>0.0</td>\n      <td>train</td>\n    </tr>\n    <tr>\n      <th>242</th>\n      <td>0.0</td>\n      <td>1.0</td>\n      <td>0.0</td>\n      <td>0.0</td>\n      <td>0.0</td>\n      <td>1.0</td>\n      <td>0.0</td>\n      <td>0.0</td>\n      <td>0.0</td>\n      <td>0.0</td>\n      <td>...</td>\n      <td>0.0</td>\n      <td>0.0</td>\n      <td>0.0</td>\n      <td>0.0</td>\n      <td>0.0</td>\n      <td>0.0</td>\n      <td>0.0</td>\n      <td>0.0</td>\n      <td>0.0</td>\n      <td>train</td>\n    </tr>\n    <tr>\n      <th>243</th>\n      <td>1.0</td>\n      <td>0.0</td>\n      <td>0.0</td>\n      <td>0.0</td>\n      <td>0.0</td>\n      <td>1.0</td>\n      <td>0.0</td>\n      <td>0.0</td>\n      <td>0.0</td>\n      <td>0.0</td>\n      <td>...</td>\n      <td>0.0</td>\n      <td>0.0</td>\n      <td>0.0</td>\n      <td>0.0</td>\n      <td>0.0</td>\n      <td>0.0</td>\n      <td>0.0</td>\n      <td>0.0</td>\n      <td>0.0</td>\n      <td>train</td>\n    </tr>\n    <tr>\n      <th>244</th>\n      <td>1.0</td>\n      <td>0.0</td>\n      <td>0.0</td>\n      <td>0.0</td>\n      <td>0.0</td>\n      <td>0.0</td>\n      <td>0.0</td>\n      <td>1.0</td>\n      <td>0.0</td>\n      <td>0.0</td>\n      <td>...</td>\n      <td>0.0</td>\n      <td>0.0</td>\n      <td>0.0</td>\n      <td>0.0</td>\n      <td>0.0</td>\n      <td>0.0</td>\n      <td>0.0</td>\n      <td>0.0</td>\n      <td>0.0</td>\n      <td>train</td>\n    </tr>\n    <tr>\n      <th>245</th>\n      <td>0.0</td>\n      <td>0.0</td>\n      <td>0.0</td>\n      <td>1.0</td>\n      <td>0.0</td>\n      <td>0.0</td>\n      <td>0.0</td>\n      <td>0.0</td>\n      <td>0.0</td>\n      <td>1.0</td>\n      <td>...</td>\n      <td>0.0</td>\n      <td>0.0</td>\n      <td>0.0</td>\n      <td>0.0</td>\n      <td>0.0</td>\n      <td>0.0</td>\n      <td>0.0</td>\n      <td>0.0</td>\n      <td>0.0</td>\n      <td>train</td>\n    </tr>\n  </tbody>\n</table>\n<p>246 rows × 146 columns</p>\n</div>"
     },
     "execution_count": 54,
     "metadata": {},
     "output_type": "execute_result"
    }
   ],
   "source": [
    "train_X"
   ],
   "metadata": {
    "collapsed": false,
    "ExecuteTime": {
     "start_time": "2023-04-28T19:19:35.401529Z",
     "end_time": "2023-04-28T19:19:35.431201Z"
    }
   }
  },
  {
   "cell_type": "code",
   "execution_count": 55,
   "outputs": [
    {
     "data": {
      "text/plain": "    onehotencoder__diet_carnivorous onehotencoder__diet_herbivorous  \\\n246                             0.0                             1.0   \n247                             0.0                             1.0   \n248                             1.0                             0.0   \n249                             1.0                             0.0   \n250                             0.0                             0.0   \n..                              ...                             ...   \n303                             0.0                             1.0   \n304                             0.0                             1.0   \n305                             1.0                             0.0   \n306                             0.0                             1.0   \n307                             0.0                             1.0   \n\n    onehotencoder__diet_herbivorous/omnivorous onehotencoder__diet_omnivorous  \\\n246                                        0.0                            0.0   \n247                                        0.0                            0.0   \n248                                        0.0                            0.0   \n249                                        0.0                            0.0   \n250                                        0.0                            1.0   \n..                                         ...                            ...   \n303                                        0.0                            0.0   \n304                                        0.0                            0.0   \n305                                        0.0                            0.0   \n306                                        0.0                            0.0   \n307                                        0.0                            0.0   \n\n    onehotencoder__diet_unknown onehotencoder__short_period_EarlyCretaceous  \\\n246                         0.0                                         0.0   \n247                         0.0                                         0.0   \n248                         0.0                                         0.0   \n249                         0.0                                         1.0   \n250                         0.0                                         0.0   \n..                          ...                                         ...   \n303                         0.0                                         0.0   \n304                         0.0                                         0.0   \n305                         0.0                                         0.0   \n306                         0.0                                         0.0   \n307                         0.0                                         0.0   \n\n    onehotencoder__short_period_EarlyJurassic  \\\n246                                       0.0   \n247                                       0.0   \n248                                       0.0   \n249                                       0.0   \n250                                       0.0   \n..                                        ...   \n303                                       0.0   \n304                                       0.0   \n305                                       0.0   \n306                                       0.0   \n307                                       0.0   \n\n    onehotencoder__short_period_LateCretaceous  \\\n246                                        1.0   \n247                                        0.0   \n248                                        1.0   \n249                                        0.0   \n250                                        0.0   \n..                                         ...   \n303                                        0.0   \n304                                        1.0   \n305                                        1.0   \n306                                        1.0   \n307                                        1.0   \n\n    onehotencoder__short_period_LateJurassic  \\\n246                                      0.0   \n247                                      1.0   \n248                                      0.0   \n249                                      0.0   \n250                                      0.0   \n..                                       ...   \n303                                      0.0   \n304                                      0.0   \n305                                      0.0   \n306                                      0.0   \n307                                      0.0   \n\n    onehotencoder__short_period_LateTriassic  ...  \\\n246                                      0.0  ...   \n247                                      0.0  ...   \n248                                      0.0  ...   \n249                                      0.0  ...   \n250                                      0.0  ...   \n..                                       ...  ...   \n303                                      0.0  ...   \n304                                      0.0  ...   \n305                                      0.0  ...   \n306                                      0.0  ...   \n307                                      0.0  ...   \n\n    onehotencoder__taxonomy_Dinosauria Saurischia Theropoda Neotheropoda Tetanurae Avetheropoda Coelurosauria Tyrannoraptora Maniraptoriformes Ornithomimosauria  \\\n246                                                0.0                                                                                                             \n247                                                0.0                                                                                                             \n248                                                0.0                                                                                                             \n249                                                0.0                                                                                                             \n250                                                0.0                                                                                                             \n..                                                 ...                                                                                                             \n303                                                0.0                                                                                                             \n304                                                0.0                                                                                                             \n305                                                0.0                                                                                                             \n306                                                0.0                                                                                                             \n307                                                0.0                                                                                                             \n\n    onehotencoder__taxonomy_Dinosauria Saurischia Theropoda Neotheropoda Tetanurae Avetheropoda Coelurosauria Tyrannoraptora Maniraptoriformes Ornithomimosauria Ornithomimidae  \\\n246                                                0.0                                                                                                                            \n247                                                0.0                                                                                                                            \n248                                                0.0                                                                                                                            \n249                                                0.0                                                                                                                            \n250                                                0.0                                                                                                                            \n..                                                 ...                                                                                                                            \n303                                                0.0                                                                                                                            \n304                                                0.0                                                                                                                            \n305                                                0.0                                                                                                                            \n306                                                0.0                                                                                                                            \n307                                                0.0                                                                                                                            \n\n    onehotencoder__taxonomy_Dinosauria Saurischia Theropoda Neotheropoda Tetanurae Avetheropoda Coelurosauria Tyrannoraptora Tyrannosauroidea  \\\n246                                                0.0                                                                                          \n247                                                0.0                                                                                          \n248                                                0.0                                                                                          \n249                                                0.0                                                                                          \n250                                                0.0                                                                                          \n..                                                 ...                                                                                          \n303                                                0.0                                                                                          \n304                                                0.0                                                                                          \n305                                                0.0                                                                                          \n306                                                0.0                                                                                          \n307                                                0.0                                                                                          \n\n    onehotencoder__taxonomy_Dinosauria Saurischia Theropoda Neotheropoda Tetanurae Avetheropoda Coelurosauria Tyrannoraptora Tyrannosauroidea Tyrannosauridae Albertosaurinae  \\\n246                                                0.0                                                                                                                          \n247                                                0.0                                                                                                                          \n248                                                1.0                                                                                                                          \n249                                                0.0                                                                                                                          \n250                                                0.0                                                                                                                          \n..                                                 ...                                                                                                                          \n303                                                0.0                                                                                                                          \n304                                                0.0                                                                                                                          \n305                                                0.0                                                                                                                          \n306                                                0.0                                                                                                                          \n307                                                0.0                                                                                                                          \n\n    onehotencoder__taxonomy_Dinosauria Saurischia Theropoda Neotheropoda Tetanurae Avetheropoda Coelurosauria Tyrannoraptora Tyrannosauroidea Tyrannosauridae Tyrannosaurinae  \\\n246                                                0.0                                                                                                                          \n247                                                0.0                                                                                                                          \n248                                                0.0                                                                                                                          \n249                                                0.0                                                                                                                          \n250                                                0.0                                                                                                                          \n..                                                 ...                                                                                                                          \n303                                                0.0                                                                                                                          \n304                                                0.0                                                                                                                          \n305                                                0.0                                                                                                                          \n306                                                0.0                                                                                                                          \n307                                                0.0                                                                                                                          \n\n    onehotencoder__taxonomy_Dinosauria Saurischia Theropoda Neotheropoda Tetanurae Spinosauroidea Megalosauridae Eustreptospondylinae  \\\n246                                                0.0                                                                                  \n247                                                0.0                                                                                  \n248                                                0.0                                                                                  \n249                                                0.0                                                                                  \n250                                                0.0                                                                                  \n..                                                 ...                                                                                  \n303                                                0.0                                                                                  \n304                                                0.0                                                                                  \n305                                                0.0                                                                                  \n306                                                0.0                                                                                  \n307                                                0.0                                                                                  \n\n    onehotencoder__taxonomy_Dinosauria Saurischia Theropoda Neotheropoda Tetanurae Spinosauroidea Megalosauridae Megalosaurinae  \\\n246                                                0.0                                                                            \n247                                                0.0                                                                            \n248                                                0.0                                                                            \n249                                                0.0                                                                            \n250                                                0.0                                                                            \n..                                                 ...                                                                            \n303                                                0.0                                                                            \n304                                                0.0                                                                            \n305                                                0.0                                                                            \n306                                                0.0                                                                            \n307                                                0.0                                                                            \n\n    onehotencoder__taxonomy_Dinosauria Saurischia Theropoda Neotheropoda Tetanurae Spinosauroidea Spinosauridae Baryonychinae  \\\n246                                                0.0                                                                          \n247                                                0.0                                                                          \n248                                                0.0                                                                          \n249                                                0.0                                                                          \n250                                                0.0                                                                          \n..                                                 ...                                                                          \n303                                                0.0                                                                          \n304                                                0.0                                                                          \n305                                                0.0                                                                          \n306                                                0.0                                                                          \n307                                                0.0                                                                          \n\n    onehotencoder__taxonomy_Dinosauria Saurischia Theropoda Neotheropoda Tetanurae Spinosauroidea Spinosauridae Spinosaurinae  \\\n246                                                0.0                                                                          \n247                                                0.0                                                                          \n248                                                0.0                                                                          \n249                                                0.0                                                                          \n250                                                0.0                                                                          \n..                                                 ...                                                                          \n303                                                0.0                                                                          \n304                                                0.0                                                                          \n305                                                0.0                                                                          \n306                                                0.0                                                                          \n307                                                0.0                                                                          \n\n    remainder__data  \n246            test  \n247            test  \n248            test  \n249            test  \n250            test  \n..              ...  \n303            test  \n304            test  \n305            test  \n306            test  \n307            test  \n\n[62 rows x 146 columns]",
      "text/html": "<div>\n<style scoped>\n    .dataframe tbody tr th:only-of-type {\n        vertical-align: middle;\n    }\n\n    .dataframe tbody tr th {\n        vertical-align: top;\n    }\n\n    .dataframe thead th {\n        text-align: right;\n    }\n</style>\n<table border=\"1\" class=\"dataframe\">\n  <thead>\n    <tr style=\"text-align: right;\">\n      <th></th>\n      <th>onehotencoder__diet_carnivorous</th>\n      <th>onehotencoder__diet_herbivorous</th>\n      <th>onehotencoder__diet_herbivorous/omnivorous</th>\n      <th>onehotencoder__diet_omnivorous</th>\n      <th>onehotencoder__diet_unknown</th>\n      <th>onehotencoder__short_period_EarlyCretaceous</th>\n      <th>onehotencoder__short_period_EarlyJurassic</th>\n      <th>onehotencoder__short_period_LateCretaceous</th>\n      <th>onehotencoder__short_period_LateJurassic</th>\n      <th>onehotencoder__short_period_LateTriassic</th>\n      <th>...</th>\n      <th>onehotencoder__taxonomy_Dinosauria Saurischia Theropoda Neotheropoda Tetanurae Avetheropoda Coelurosauria Tyrannoraptora Maniraptoriformes Ornithomimosauria</th>\n      <th>onehotencoder__taxonomy_Dinosauria Saurischia Theropoda Neotheropoda Tetanurae Avetheropoda Coelurosauria Tyrannoraptora Maniraptoriformes Ornithomimosauria Ornithomimidae</th>\n      <th>onehotencoder__taxonomy_Dinosauria Saurischia Theropoda Neotheropoda Tetanurae Avetheropoda Coelurosauria Tyrannoraptora Tyrannosauroidea</th>\n      <th>onehotencoder__taxonomy_Dinosauria Saurischia Theropoda Neotheropoda Tetanurae Avetheropoda Coelurosauria Tyrannoraptora Tyrannosauroidea Tyrannosauridae Albertosaurinae</th>\n      <th>onehotencoder__taxonomy_Dinosauria Saurischia Theropoda Neotheropoda Tetanurae Avetheropoda Coelurosauria Tyrannoraptora Tyrannosauroidea Tyrannosauridae Tyrannosaurinae</th>\n      <th>onehotencoder__taxonomy_Dinosauria Saurischia Theropoda Neotheropoda Tetanurae Spinosauroidea Megalosauridae Eustreptospondylinae</th>\n      <th>onehotencoder__taxonomy_Dinosauria Saurischia Theropoda Neotheropoda Tetanurae Spinosauroidea Megalosauridae Megalosaurinae</th>\n      <th>onehotencoder__taxonomy_Dinosauria Saurischia Theropoda Neotheropoda Tetanurae Spinosauroidea Spinosauridae Baryonychinae</th>\n      <th>onehotencoder__taxonomy_Dinosauria Saurischia Theropoda Neotheropoda Tetanurae Spinosauroidea Spinosauridae Spinosaurinae</th>\n      <th>remainder__data</th>\n    </tr>\n  </thead>\n  <tbody>\n    <tr>\n      <th>246</th>\n      <td>0.0</td>\n      <td>1.0</td>\n      <td>0.0</td>\n      <td>0.0</td>\n      <td>0.0</td>\n      <td>0.0</td>\n      <td>0.0</td>\n      <td>1.0</td>\n      <td>0.0</td>\n      <td>0.0</td>\n      <td>...</td>\n      <td>0.0</td>\n      <td>0.0</td>\n      <td>0.0</td>\n      <td>0.0</td>\n      <td>0.0</td>\n      <td>0.0</td>\n      <td>0.0</td>\n      <td>0.0</td>\n      <td>0.0</td>\n      <td>test</td>\n    </tr>\n    <tr>\n      <th>247</th>\n      <td>0.0</td>\n      <td>1.0</td>\n      <td>0.0</td>\n      <td>0.0</td>\n      <td>0.0</td>\n      <td>0.0</td>\n      <td>0.0</td>\n      <td>0.0</td>\n      <td>1.0</td>\n      <td>0.0</td>\n      <td>...</td>\n      <td>0.0</td>\n      <td>0.0</td>\n      <td>0.0</td>\n      <td>0.0</td>\n      <td>0.0</td>\n      <td>0.0</td>\n      <td>0.0</td>\n      <td>0.0</td>\n      <td>0.0</td>\n      <td>test</td>\n    </tr>\n    <tr>\n      <th>248</th>\n      <td>1.0</td>\n      <td>0.0</td>\n      <td>0.0</td>\n      <td>0.0</td>\n      <td>0.0</td>\n      <td>0.0</td>\n      <td>0.0</td>\n      <td>1.0</td>\n      <td>0.0</td>\n      <td>0.0</td>\n      <td>...</td>\n      <td>0.0</td>\n      <td>0.0</td>\n      <td>0.0</td>\n      <td>1.0</td>\n      <td>0.0</td>\n      <td>0.0</td>\n      <td>0.0</td>\n      <td>0.0</td>\n      <td>0.0</td>\n      <td>test</td>\n    </tr>\n    <tr>\n      <th>249</th>\n      <td>1.0</td>\n      <td>0.0</td>\n      <td>0.0</td>\n      <td>0.0</td>\n      <td>0.0</td>\n      <td>1.0</td>\n      <td>0.0</td>\n      <td>0.0</td>\n      <td>0.0</td>\n      <td>0.0</td>\n      <td>...</td>\n      <td>0.0</td>\n      <td>0.0</td>\n      <td>0.0</td>\n      <td>0.0</td>\n      <td>0.0</td>\n      <td>0.0</td>\n      <td>0.0</td>\n      <td>0.0</td>\n      <td>0.0</td>\n      <td>test</td>\n    </tr>\n    <tr>\n      <th>250</th>\n      <td>0.0</td>\n      <td>0.0</td>\n      <td>0.0</td>\n      <td>1.0</td>\n      <td>0.0</td>\n      <td>0.0</td>\n      <td>0.0</td>\n      <td>0.0</td>\n      <td>0.0</td>\n      <td>0.0</td>\n      <td>...</td>\n      <td>0.0</td>\n      <td>0.0</td>\n      <td>0.0</td>\n      <td>0.0</td>\n      <td>0.0</td>\n      <td>0.0</td>\n      <td>0.0</td>\n      <td>0.0</td>\n      <td>0.0</td>\n      <td>test</td>\n    </tr>\n    <tr>\n      <th>...</th>\n      <td>...</td>\n      <td>...</td>\n      <td>...</td>\n      <td>...</td>\n      <td>...</td>\n      <td>...</td>\n      <td>...</td>\n      <td>...</td>\n      <td>...</td>\n      <td>...</td>\n      <td>...</td>\n      <td>...</td>\n      <td>...</td>\n      <td>...</td>\n      <td>...</td>\n      <td>...</td>\n      <td>...</td>\n      <td>...</td>\n      <td>...</td>\n      <td>...</td>\n      <td>...</td>\n    </tr>\n    <tr>\n      <th>303</th>\n      <td>0.0</td>\n      <td>1.0</td>\n      <td>0.0</td>\n      <td>0.0</td>\n      <td>0.0</td>\n      <td>0.0</td>\n      <td>0.0</td>\n      <td>0.0</td>\n      <td>0.0</td>\n      <td>0.0</td>\n      <td>...</td>\n      <td>0.0</td>\n      <td>0.0</td>\n      <td>0.0</td>\n      <td>0.0</td>\n      <td>0.0</td>\n      <td>0.0</td>\n      <td>0.0</td>\n      <td>0.0</td>\n      <td>0.0</td>\n      <td>test</td>\n    </tr>\n    <tr>\n      <th>304</th>\n      <td>0.0</td>\n      <td>1.0</td>\n      <td>0.0</td>\n      <td>0.0</td>\n      <td>0.0</td>\n      <td>0.0</td>\n      <td>0.0</td>\n      <td>1.0</td>\n      <td>0.0</td>\n      <td>0.0</td>\n      <td>...</td>\n      <td>0.0</td>\n      <td>0.0</td>\n      <td>0.0</td>\n      <td>0.0</td>\n      <td>0.0</td>\n      <td>0.0</td>\n      <td>0.0</td>\n      <td>0.0</td>\n      <td>0.0</td>\n      <td>test</td>\n    </tr>\n    <tr>\n      <th>305</th>\n      <td>1.0</td>\n      <td>0.0</td>\n      <td>0.0</td>\n      <td>0.0</td>\n      <td>0.0</td>\n      <td>0.0</td>\n      <td>0.0</td>\n      <td>1.0</td>\n      <td>0.0</td>\n      <td>0.0</td>\n      <td>...</td>\n      <td>0.0</td>\n      <td>0.0</td>\n      <td>0.0</td>\n      <td>0.0</td>\n      <td>0.0</td>\n      <td>0.0</td>\n      <td>0.0</td>\n      <td>0.0</td>\n      <td>0.0</td>\n      <td>test</td>\n    </tr>\n    <tr>\n      <th>306</th>\n      <td>0.0</td>\n      <td>1.0</td>\n      <td>0.0</td>\n      <td>0.0</td>\n      <td>0.0</td>\n      <td>0.0</td>\n      <td>0.0</td>\n      <td>1.0</td>\n      <td>0.0</td>\n      <td>0.0</td>\n      <td>...</td>\n      <td>0.0</td>\n      <td>0.0</td>\n      <td>0.0</td>\n      <td>0.0</td>\n      <td>0.0</td>\n      <td>0.0</td>\n      <td>0.0</td>\n      <td>0.0</td>\n      <td>0.0</td>\n      <td>test</td>\n    </tr>\n    <tr>\n      <th>307</th>\n      <td>0.0</td>\n      <td>1.0</td>\n      <td>0.0</td>\n      <td>0.0</td>\n      <td>0.0</td>\n      <td>0.0</td>\n      <td>0.0</td>\n      <td>1.0</td>\n      <td>0.0</td>\n      <td>0.0</td>\n      <td>...</td>\n      <td>0.0</td>\n      <td>0.0</td>\n      <td>0.0</td>\n      <td>0.0</td>\n      <td>0.0</td>\n      <td>0.0</td>\n      <td>0.0</td>\n      <td>0.0</td>\n      <td>0.0</td>\n      <td>test</td>\n    </tr>\n  </tbody>\n</table>\n<p>62 rows × 146 columns</p>\n</div>"
     },
     "execution_count": 55,
     "metadata": {},
     "output_type": "execute_result"
    }
   ],
   "source": [
    "test_X"
   ],
   "metadata": {
    "collapsed": false,
    "ExecuteTime": {
     "start_time": "2023-04-28T19:19:38.577442Z",
     "end_time": "2023-04-28T19:19:38.608378Z"
    }
   }
  },
  {
   "cell_type": "code",
   "execution_count": 27,
   "outputs": [
    {
     "data": {
      "text/plain": "Empty DataFrame\nColumns: [onehotencoder__diet_carnivorous, onehotencoder__diet_herbivorous, onehotencoder__diet_herbivorous/omnivorous, onehotencoder__diet_omnivorous, onehotencoder__short_period_EarlyCretaceous, onehotencoder__short_period_EarlyJurassic, onehotencoder__short_period_LateCretaceous, onehotencoder__short_period_LateJurassic, onehotencoder__short_period_LateTriassic, onehotencoder__short_period_MidJurassic, onehotencoder__lived_in_Antarctica, onehotencoder__lived_in_Argentina, onehotencoder__lived_in_Australia, onehotencoder__lived_in_Brazil, onehotencoder__lived_in_Canada, onehotencoder__lived_in_China, onehotencoder__lived_in_Egypt, onehotencoder__lived_in_France, onehotencoder__lived_in_Germany, onehotencoder__lived_in_India, onehotencoder__lived_in_Japan, onehotencoder__lived_in_Kazakhstan, onehotencoder__lived_in_Madagascar, onehotencoder__lived_in_Mongolia, onehotencoder__lived_in_Morocco, onehotencoder__lived_in_Niger, onehotencoder__lived_in_North Africa, onehotencoder__lived_in_Romania, onehotencoder__lived_in_Russia, onehotencoder__lived_in_South Africa, onehotencoder__lived_in_Spain, onehotencoder__lived_in_Switzerland, onehotencoder__lived_in_Tanzania, onehotencoder__lived_in_Tunisia, onehotencoder__lived_in_USA, onehotencoder__lived_in_United Kingdom, onehotencoder__lived_in_Uruguay, onehotencoder__lived_in_Uzbekistan, onehotencoder__lived_in_Wales, onehotencoder__lived_in_Zimbabwe, onehotencoder__taxonomy_end_Abelisauria, onehotencoder__taxonomy_end_Abelisauridae, onehotencoder__taxonomy_end_Abelisaurinae, onehotencoder__taxonomy_end_Albertosaurinae, onehotencoder__taxonomy_end_Allosauridae, onehotencoder__taxonomy_end_Alvarezsauridae, onehotencoder__taxonomy_end_Anchisauria, onehotencoder__taxonomy_end_Anchisauridae, onehotencoder__taxonomy_end_Ankylopollexia, onehotencoder__taxonomy_end_Ankylosauria, onehotencoder__taxonomy_end_Ankylosauridae, onehotencoder__taxonomy_end_Avetheropoda, onehotencoder__taxonomy_end_Avimimidae, onehotencoder__taxonomy_end_Bagaceratopsidae, onehotencoder__taxonomy_end_Baryonychinae, onehotencoder__taxonomy_end_Brachiosauridae, onehotencoder__taxonomy_end_Caenagnathidae, onehotencoder__taxonomy_end_Carcharodontosauridae, onehotencoder__taxonomy_end_Carnosauria, onehotencoder__taxonomy_end_Centrosaurinae, onehotencoder__taxonomy_end_Ceratosauria, onehotencoder__taxonomy_end_Cetiosauridae, onehotencoder__taxonomy_end_Chasmosaurinae, onehotencoder__taxonomy_end_Coelophysidae, onehotencoder__taxonomy_end_Coelophysoidea, onehotencoder__taxonomy_end_Coelurosauria, onehotencoder__taxonomy_end_Compsognathidae, onehotencoder__taxonomy_end_Coronosauria, onehotencoder__taxonomy_end_Dicraeosauridae, onehotencoder__taxonomy_end_Diplodocidae, onehotencoder__taxonomy_end_Diplodocoidea, onehotencoder__taxonomy_end_Dromaeosauridae, onehotencoder__taxonomy_end_Dryosauridae, onehotencoder__taxonomy_end_Eumaniraptora, onehotencoder__taxonomy_end_Euornithopoda, onehotencoder__taxonomy_end_Eusauropoda, onehotencoder__taxonomy_end_Eustreptospondylinae, onehotencoder__taxonomy_end_Giganotosaurinae, onehotencoder__taxonomy_end_Goyocephala, onehotencoder__taxonomy_end_Hadrosauridae, onehotencoder__taxonomy_end_Hadrosaurinae, onehotencoder__taxonomy_end_Herrerasauridae, onehotencoder__taxonomy_end_Heterodontosauridae, onehotencoder__taxonomy_end_Homalocephaloidea, onehotencoder__taxonomy_end_Huayangosauridae, onehotencoder__taxonomy_end_Hypsilophodontidae, onehotencoder__taxonomy_end_Iguanadontia, onehotencoder__taxonomy_end_Iguanodontoidea, onehotencoder__taxonomy_end_Ingeniinae, onehotencoder__taxonomy_end_Lambeosaurinae, onehotencoder__taxonomy_end_Lithostrotia, onehotencoder__taxonomy_end_Macronaria, onehotencoder__taxonomy_end_Megalosaurinae, onehotencoder__taxonomy_end_Melanorosauridae, onehotencoder__taxonomy_end_Nemegtosauridae, onehotencoder__taxonomy_end_Neoceratopsia, onehotencoder__taxonomy_end_Neoceratosauria, onehotencoder__taxonomy_end_Neotheropoda, onehotencoder__taxonomy_end_Nodosauridae, onehotencoder__taxonomy_end_Ornithischia, ...]\nIndex: []\n\n[0 rows x 190 columns]",
      "text/html": "<div>\n<style scoped>\n    .dataframe tbody tr th:only-of-type {\n        vertical-align: middle;\n    }\n\n    .dataframe tbody tr th {\n        vertical-align: top;\n    }\n\n    .dataframe thead th {\n        text-align: right;\n    }\n</style>\n<table border=\"1\" class=\"dataframe\">\n  <thead>\n    <tr style=\"text-align: right;\">\n      <th></th>\n      <th>onehotencoder__diet_carnivorous</th>\n      <th>onehotencoder__diet_herbivorous</th>\n      <th>onehotencoder__diet_herbivorous/omnivorous</th>\n      <th>onehotencoder__diet_omnivorous</th>\n      <th>onehotencoder__short_period_EarlyCretaceous</th>\n      <th>onehotencoder__short_period_EarlyJurassic</th>\n      <th>onehotencoder__short_period_LateCretaceous</th>\n      <th>onehotencoder__short_period_LateJurassic</th>\n      <th>onehotencoder__short_period_LateTriassic</th>\n      <th>onehotencoder__short_period_MidJurassic</th>\n      <th>...</th>\n      <th>onehotencoder__taxonomy_before_end_Stegosauria</th>\n      <th>onehotencoder__taxonomy_before_end_Stegosauridae</th>\n      <th>onehotencoder__taxonomy_before_end_Tetanurae</th>\n      <th>onehotencoder__taxonomy_before_end_Therizinosauroidea</th>\n      <th>onehotencoder__taxonomy_before_end_Theropoda</th>\n      <th>onehotencoder__taxonomy_before_end_Titanosauria</th>\n      <th>onehotencoder__taxonomy_before_end_Titanosauriformes</th>\n      <th>onehotencoder__taxonomy_before_end_Tyrannoraptora</th>\n      <th>onehotencoder__taxonomy_before_end_Tyrannosauridae</th>\n      <th>remainder__data</th>\n    </tr>\n  </thead>\n  <tbody>\n  </tbody>\n</table>\n<p>0 rows × 190 columns</p>\n</div>"
     },
     "execution_count": 27,
     "metadata": {},
     "output_type": "execute_result"
    }
   ],
   "source": [
    "test_X"
   ],
   "metadata": {
    "collapsed": false,
    "ExecuteTime": {
     "start_time": "2023-04-28T19:16:55.889700Z",
     "end_time": "2023-04-28T19:16:55.913850Z"
    }
   }
  },
  {
   "cell_type": "code",
   "execution_count": 56,
   "outputs": [
    {
     "data": {
      "text/plain": "    onehotencoder__diet_carnivorous onehotencoder__diet_herbivorous  \\\n0                               1.0                             0.0   \n1                               0.0                             0.0   \n2                               0.0                             1.0   \n3                               0.0                             1.0   \n4                               0.0                             1.0   \n..                              ...                             ...   \n303                             0.0                             1.0   \n304                             0.0                             1.0   \n305                             1.0                             0.0   \n306                             0.0                             1.0   \n307                             0.0                             1.0   \n\n    onehotencoder__diet_herbivorous/omnivorous onehotencoder__diet_omnivorous  \\\n0                                          0.0                            0.0   \n1                                          1.0                            0.0   \n2                                          0.0                            0.0   \n3                                          0.0                            0.0   \n4                                          0.0                            0.0   \n..                                         ...                            ...   \n303                                        0.0                            0.0   \n304                                        0.0                            0.0   \n305                                        0.0                            0.0   \n306                                        0.0                            0.0   \n307                                        0.0                            0.0   \n\n    onehotencoder__diet_unknown onehotencoder__short_period_EarlyCretaceous  \\\n0                           0.0                                         0.0   \n1                           0.0                                         0.0   \n2                           0.0                                         0.0   \n3                           0.0                                         0.0   \n4                           0.0                                         1.0   \n..                          ...                                         ...   \n303                         0.0                                         0.0   \n304                         0.0                                         0.0   \n305                         0.0                                         0.0   \n306                         0.0                                         0.0   \n307                         0.0                                         0.0   \n\n    onehotencoder__short_period_EarlyJurassic  \\\n0                                         0.0   \n1                                         0.0   \n2                                         0.0   \n3                                         0.0   \n4                                         0.0   \n..                                        ...   \n303                                       0.0   \n304                                       0.0   \n305                                       0.0   \n306                                       0.0   \n307                                       0.0   \n\n    onehotencoder__short_period_LateCretaceous  \\\n0                                          0.0   \n1                                          0.0   \n2                                          1.0   \n3                                          1.0   \n4                                          0.0   \n..                                         ...   \n303                                        0.0   \n304                                        1.0   \n305                                        1.0   \n306                                        1.0   \n307                                        1.0   \n\n    onehotencoder__short_period_LateJurassic  \\\n0                                        0.0   \n1                                        0.0   \n2                                        0.0   \n3                                        0.0   \n4                                        0.0   \n..                                       ...   \n303                                      0.0   \n304                                      0.0   \n305                                      0.0   \n306                                      0.0   \n307                                      0.0   \n\n    onehotencoder__short_period_LateTriassic  ...  \\\n0                                        1.0  ...   \n1                                        1.0  ...   \n2                                        0.0  ...   \n3                                        0.0  ...   \n4                                        0.0  ...   \n..                                       ...  ...   \n303                                      0.0  ...   \n304                                      0.0  ...   \n305                                      0.0  ...   \n306                                      0.0  ...   \n307                                      0.0  ...   \n\n    onehotencoder__taxonomy_Dinosauria Saurischia Theropoda Neotheropoda Tetanurae Avetheropoda Coelurosauria Tyrannoraptora Maniraptoriformes Ornithomimosauria  \\\n0                                                  0.0                                                                                                             \n1                                                  0.0                                                                                                             \n2                                                  0.0                                                                                                             \n3                                                  0.0                                                                                                             \n4                                                  0.0                                                                                                             \n..                                                 ...                                                                                                             \n303                                                0.0                                                                                                             \n304                                                0.0                                                                                                             \n305                                                0.0                                                                                                             \n306                                                0.0                                                                                                             \n307                                                0.0                                                                                                             \n\n    onehotencoder__taxonomy_Dinosauria Saurischia Theropoda Neotheropoda Tetanurae Avetheropoda Coelurosauria Tyrannoraptora Maniraptoriformes Ornithomimosauria Ornithomimidae  \\\n0                                                  0.0                                                                                                                            \n1                                                  0.0                                                                                                                            \n2                                                  0.0                                                                                                                            \n3                                                  0.0                                                                                                                            \n4                                                  0.0                                                                                                                            \n..                                                 ...                                                                                                                            \n303                                                0.0                                                                                                                            \n304                                                0.0                                                                                                                            \n305                                                0.0                                                                                                                            \n306                                                0.0                                                                                                                            \n307                                                0.0                                                                                                                            \n\n    onehotencoder__taxonomy_Dinosauria Saurischia Theropoda Neotheropoda Tetanurae Avetheropoda Coelurosauria Tyrannoraptora Tyrannosauroidea  \\\n0                                                  0.0                                                                                          \n1                                                  0.0                                                                                          \n2                                                  0.0                                                                                          \n3                                                  0.0                                                                                          \n4                                                  0.0                                                                                          \n..                                                 ...                                                                                          \n303                                                0.0                                                                                          \n304                                                0.0                                                                                          \n305                                                0.0                                                                                          \n306                                                0.0                                                                                          \n307                                                0.0                                                                                          \n\n    onehotencoder__taxonomy_Dinosauria Saurischia Theropoda Neotheropoda Tetanurae Avetheropoda Coelurosauria Tyrannoraptora Tyrannosauroidea Tyrannosauridae Albertosaurinae  \\\n0                                                  0.0                                                                                                                          \n1                                                  0.0                                                                                                                          \n2                                                  0.0                                                                                                                          \n3                                                  0.0                                                                                                                          \n4                                                  0.0                                                                                                                          \n..                                                 ...                                                                                                                          \n303                                                0.0                                                                                                                          \n304                                                0.0                                                                                                                          \n305                                                0.0                                                                                                                          \n306                                                0.0                                                                                                                          \n307                                                0.0                                                                                                                          \n\n    onehotencoder__taxonomy_Dinosauria Saurischia Theropoda Neotheropoda Tetanurae Avetheropoda Coelurosauria Tyrannoraptora Tyrannosauroidea Tyrannosauridae Tyrannosaurinae  \\\n0                                                  0.0                                                                                                                          \n1                                                  0.0                                                                                                                          \n2                                                  0.0                                                                                                                          \n3                                                  0.0                                                                                                                          \n4                                                  0.0                                                                                                                          \n..                                                 ...                                                                                                                          \n303                                                0.0                                                                                                                          \n304                                                0.0                                                                                                                          \n305                                                0.0                                                                                                                          \n306                                                0.0                                                                                                                          \n307                                                0.0                                                                                                                          \n\n    onehotencoder__taxonomy_Dinosauria Saurischia Theropoda Neotheropoda Tetanurae Spinosauroidea Megalosauridae Eustreptospondylinae  \\\n0                                                  0.0                                                                                  \n1                                                  0.0                                                                                  \n2                                                  0.0                                                                                  \n3                                                  0.0                                                                                  \n4                                                  0.0                                                                                  \n..                                                 ...                                                                                  \n303                                                0.0                                                                                  \n304                                                0.0                                                                                  \n305                                                0.0                                                                                  \n306                                                0.0                                                                                  \n307                                                0.0                                                                                  \n\n    onehotencoder__taxonomy_Dinosauria Saurischia Theropoda Neotheropoda Tetanurae Spinosauroidea Megalosauridae Megalosaurinae  \\\n0                                                  0.0                                                                            \n1                                                  0.0                                                                            \n2                                                  0.0                                                                            \n3                                                  0.0                                                                            \n4                                                  0.0                                                                            \n..                                                 ...                                                                            \n303                                                0.0                                                                            \n304                                                0.0                                                                            \n305                                                0.0                                                                            \n306                                                0.0                                                                            \n307                                                0.0                                                                            \n\n    onehotencoder__taxonomy_Dinosauria Saurischia Theropoda Neotheropoda Tetanurae Spinosauroidea Spinosauridae Baryonychinae  \\\n0                                                  0.0                                                                          \n1                                                  0.0                                                                          \n2                                                  0.0                                                                          \n3                                                  0.0                                                                          \n4                                                  0.0                                                                          \n..                                                 ...                                                                          \n303                                                0.0                                                                          \n304                                                0.0                                                                          \n305                                                0.0                                                                          \n306                                                0.0                                                                          \n307                                                0.0                                                                          \n\n    onehotencoder__taxonomy_Dinosauria Saurischia Theropoda Neotheropoda Tetanurae Spinosauroidea Spinosauridae Spinosaurinae  \\\n0                                                  0.0                                                                          \n1                                                  0.0                                                                          \n2                                                  0.0                                                                          \n3                                                  0.0                                                                          \n4                                                  0.0                                                                          \n..                                                 ...                                                                          \n303                                                0.0                                                                          \n304                                                0.0                                                                          \n305                                                0.0                                                                          \n306                                                0.0                                                                          \n307                                                0.0                                                                          \n\n    remainder__data  \n0             train  \n1             train  \n2             train  \n3             train  \n4             train  \n..              ...  \n303            test  \n304            test  \n305            test  \n306            test  \n307            test  \n\n[308 rows x 146 columns]",
      "text/html": "<div>\n<style scoped>\n    .dataframe tbody tr th:only-of-type {\n        vertical-align: middle;\n    }\n\n    .dataframe tbody tr th {\n        vertical-align: top;\n    }\n\n    .dataframe thead th {\n        text-align: right;\n    }\n</style>\n<table border=\"1\" class=\"dataframe\">\n  <thead>\n    <tr style=\"text-align: right;\">\n      <th></th>\n      <th>onehotencoder__diet_carnivorous</th>\n      <th>onehotencoder__diet_herbivorous</th>\n      <th>onehotencoder__diet_herbivorous/omnivorous</th>\n      <th>onehotencoder__diet_omnivorous</th>\n      <th>onehotencoder__diet_unknown</th>\n      <th>onehotencoder__short_period_EarlyCretaceous</th>\n      <th>onehotencoder__short_period_EarlyJurassic</th>\n      <th>onehotencoder__short_period_LateCretaceous</th>\n      <th>onehotencoder__short_period_LateJurassic</th>\n      <th>onehotencoder__short_period_LateTriassic</th>\n      <th>...</th>\n      <th>onehotencoder__taxonomy_Dinosauria Saurischia Theropoda Neotheropoda Tetanurae Avetheropoda Coelurosauria Tyrannoraptora Maniraptoriformes Ornithomimosauria</th>\n      <th>onehotencoder__taxonomy_Dinosauria Saurischia Theropoda Neotheropoda Tetanurae Avetheropoda Coelurosauria Tyrannoraptora Maniraptoriformes Ornithomimosauria Ornithomimidae</th>\n      <th>onehotencoder__taxonomy_Dinosauria Saurischia Theropoda Neotheropoda Tetanurae Avetheropoda Coelurosauria Tyrannoraptora Tyrannosauroidea</th>\n      <th>onehotencoder__taxonomy_Dinosauria Saurischia Theropoda Neotheropoda Tetanurae Avetheropoda Coelurosauria Tyrannoraptora Tyrannosauroidea Tyrannosauridae Albertosaurinae</th>\n      <th>onehotencoder__taxonomy_Dinosauria Saurischia Theropoda Neotheropoda Tetanurae Avetheropoda Coelurosauria Tyrannoraptora Tyrannosauroidea Tyrannosauridae Tyrannosaurinae</th>\n      <th>onehotencoder__taxonomy_Dinosauria Saurischia Theropoda Neotheropoda Tetanurae Spinosauroidea Megalosauridae Eustreptospondylinae</th>\n      <th>onehotencoder__taxonomy_Dinosauria Saurischia Theropoda Neotheropoda Tetanurae Spinosauroidea Megalosauridae Megalosaurinae</th>\n      <th>onehotencoder__taxonomy_Dinosauria Saurischia Theropoda Neotheropoda Tetanurae Spinosauroidea Spinosauridae Baryonychinae</th>\n      <th>onehotencoder__taxonomy_Dinosauria Saurischia Theropoda Neotheropoda Tetanurae Spinosauroidea Spinosauridae Spinosaurinae</th>\n      <th>remainder__data</th>\n    </tr>\n  </thead>\n  <tbody>\n    <tr>\n      <th>0</th>\n      <td>1.0</td>\n      <td>0.0</td>\n      <td>0.0</td>\n      <td>0.0</td>\n      <td>0.0</td>\n      <td>0.0</td>\n      <td>0.0</td>\n      <td>0.0</td>\n      <td>0.0</td>\n      <td>1.0</td>\n      <td>...</td>\n      <td>0.0</td>\n      <td>0.0</td>\n      <td>0.0</td>\n      <td>0.0</td>\n      <td>0.0</td>\n      <td>0.0</td>\n      <td>0.0</td>\n      <td>0.0</td>\n      <td>0.0</td>\n      <td>train</td>\n    </tr>\n    <tr>\n      <th>1</th>\n      <td>0.0</td>\n      <td>0.0</td>\n      <td>1.0</td>\n      <td>0.0</td>\n      <td>0.0</td>\n      <td>0.0</td>\n      <td>0.0</td>\n      <td>0.0</td>\n      <td>0.0</td>\n      <td>1.0</td>\n      <td>...</td>\n      <td>0.0</td>\n      <td>0.0</td>\n      <td>0.0</td>\n      <td>0.0</td>\n      <td>0.0</td>\n      <td>0.0</td>\n      <td>0.0</td>\n      <td>0.0</td>\n      <td>0.0</td>\n      <td>train</td>\n    </tr>\n    <tr>\n      <th>2</th>\n      <td>0.0</td>\n      <td>1.0</td>\n      <td>0.0</td>\n      <td>0.0</td>\n      <td>0.0</td>\n      <td>0.0</td>\n      <td>0.0</td>\n      <td>1.0</td>\n      <td>0.0</td>\n      <td>0.0</td>\n      <td>...</td>\n      <td>0.0</td>\n      <td>0.0</td>\n      <td>0.0</td>\n      <td>0.0</td>\n      <td>0.0</td>\n      <td>0.0</td>\n      <td>0.0</td>\n      <td>0.0</td>\n      <td>0.0</td>\n      <td>train</td>\n    </tr>\n    <tr>\n      <th>3</th>\n      <td>0.0</td>\n      <td>1.0</td>\n      <td>0.0</td>\n      <td>0.0</td>\n      <td>0.0</td>\n      <td>0.0</td>\n      <td>0.0</td>\n      <td>1.0</td>\n      <td>0.0</td>\n      <td>0.0</td>\n      <td>...</td>\n      <td>0.0</td>\n      <td>0.0</td>\n      <td>0.0</td>\n      <td>0.0</td>\n      <td>0.0</td>\n      <td>0.0</td>\n      <td>0.0</td>\n      <td>0.0</td>\n      <td>0.0</td>\n      <td>train</td>\n    </tr>\n    <tr>\n      <th>4</th>\n      <td>0.0</td>\n      <td>1.0</td>\n      <td>0.0</td>\n      <td>0.0</td>\n      <td>0.0</td>\n      <td>1.0</td>\n      <td>0.0</td>\n      <td>0.0</td>\n      <td>0.0</td>\n      <td>0.0</td>\n      <td>...</td>\n      <td>0.0</td>\n      <td>0.0</td>\n      <td>0.0</td>\n      <td>0.0</td>\n      <td>0.0</td>\n      <td>0.0</td>\n      <td>0.0</td>\n      <td>0.0</td>\n      <td>0.0</td>\n      <td>train</td>\n    </tr>\n    <tr>\n      <th>...</th>\n      <td>...</td>\n      <td>...</td>\n      <td>...</td>\n      <td>...</td>\n      <td>...</td>\n      <td>...</td>\n      <td>...</td>\n      <td>...</td>\n      <td>...</td>\n      <td>...</td>\n      <td>...</td>\n      <td>...</td>\n      <td>...</td>\n      <td>...</td>\n      <td>...</td>\n      <td>...</td>\n      <td>...</td>\n      <td>...</td>\n      <td>...</td>\n      <td>...</td>\n      <td>...</td>\n    </tr>\n    <tr>\n      <th>303</th>\n      <td>0.0</td>\n      <td>1.0</td>\n      <td>0.0</td>\n      <td>0.0</td>\n      <td>0.0</td>\n      <td>0.0</td>\n      <td>0.0</td>\n      <td>0.0</td>\n      <td>0.0</td>\n      <td>0.0</td>\n      <td>...</td>\n      <td>0.0</td>\n      <td>0.0</td>\n      <td>0.0</td>\n      <td>0.0</td>\n      <td>0.0</td>\n      <td>0.0</td>\n      <td>0.0</td>\n      <td>0.0</td>\n      <td>0.0</td>\n      <td>test</td>\n    </tr>\n    <tr>\n      <th>304</th>\n      <td>0.0</td>\n      <td>1.0</td>\n      <td>0.0</td>\n      <td>0.0</td>\n      <td>0.0</td>\n      <td>0.0</td>\n      <td>0.0</td>\n      <td>1.0</td>\n      <td>0.0</td>\n      <td>0.0</td>\n      <td>...</td>\n      <td>0.0</td>\n      <td>0.0</td>\n      <td>0.0</td>\n      <td>0.0</td>\n      <td>0.0</td>\n      <td>0.0</td>\n      <td>0.0</td>\n      <td>0.0</td>\n      <td>0.0</td>\n      <td>test</td>\n    </tr>\n    <tr>\n      <th>305</th>\n      <td>1.0</td>\n      <td>0.0</td>\n      <td>0.0</td>\n      <td>0.0</td>\n      <td>0.0</td>\n      <td>0.0</td>\n      <td>0.0</td>\n      <td>1.0</td>\n      <td>0.0</td>\n      <td>0.0</td>\n      <td>...</td>\n      <td>0.0</td>\n      <td>0.0</td>\n      <td>0.0</td>\n      <td>0.0</td>\n      <td>0.0</td>\n      <td>0.0</td>\n      <td>0.0</td>\n      <td>0.0</td>\n      <td>0.0</td>\n      <td>test</td>\n    </tr>\n    <tr>\n      <th>306</th>\n      <td>0.0</td>\n      <td>1.0</td>\n      <td>0.0</td>\n      <td>0.0</td>\n      <td>0.0</td>\n      <td>0.0</td>\n      <td>0.0</td>\n      <td>1.0</td>\n      <td>0.0</td>\n      <td>0.0</td>\n      <td>...</td>\n      <td>0.0</td>\n      <td>0.0</td>\n      <td>0.0</td>\n      <td>0.0</td>\n      <td>0.0</td>\n      <td>0.0</td>\n      <td>0.0</td>\n      <td>0.0</td>\n      <td>0.0</td>\n      <td>test</td>\n    </tr>\n    <tr>\n      <th>307</th>\n      <td>0.0</td>\n      <td>1.0</td>\n      <td>0.0</td>\n      <td>0.0</td>\n      <td>0.0</td>\n      <td>0.0</td>\n      <td>0.0</td>\n      <td>1.0</td>\n      <td>0.0</td>\n      <td>0.0</td>\n      <td>...</td>\n      <td>0.0</td>\n      <td>0.0</td>\n      <td>0.0</td>\n      <td>0.0</td>\n      <td>0.0</td>\n      <td>0.0</td>\n      <td>0.0</td>\n      <td>0.0</td>\n      <td>0.0</td>\n      <td>test</td>\n    </tr>\n  </tbody>\n</table>\n<p>308 rows × 146 columns</p>\n</div>"
     },
     "execution_count": 56,
     "metadata": {},
     "output_type": "execute_result"
    }
   ],
   "source": [
    "train_test_X_dummies"
   ],
   "metadata": {
    "collapsed": false,
    "ExecuteTime": {
     "start_time": "2023-04-28T19:22:05.147381Z",
     "end_time": "2023-04-28T19:22:05.178167Z"
    }
   }
  },
  {
   "cell_type": "code",
   "execution_count": 61,
   "outputs": [],
   "source": [
    "train_X=train_X.drop(\"remainder__data\", axis=1)\n",
    "test_X = test_X.drop(\"remainder__data\", axis=1)"
   ],
   "metadata": {
    "collapsed": false,
    "ExecuteTime": {
     "start_time": "2023-04-28T20:20:14.320297Z",
     "end_time": "2023-04-28T20:20:14.344797Z"
    }
   }
  },
  {
   "cell_type": "code",
   "execution_count": 62,
   "outputs": [
    {
     "name": "stdout",
     "output_type": "stream",
     "text": [
      "0.0%\n",
      "0.1%\n",
      "0.2%\n",
      "0.3%\n",
      "0.4%\n",
      "0.5%\n",
      "0.6%\n",
      "0.7000000000000001%\n",
      "0.8%\n",
      "0.8999999999999999%\n",
      "1.0%\n",
      "1.0999999999999999%\n",
      "1.2%\n",
      "1.3%\n",
      "1.4000000000000001%\n",
      "1.5%\n",
      "1.6%\n",
      "1.7000000000000002%\n",
      "1.7999999999999998%\n",
      "1.9%\n",
      "2.0%\n",
      "2.1%\n",
      "2.1999999999999997%\n",
      "2.3%\n",
      "2.4%\n",
      "2.5%\n",
      "2.6%\n",
      "2.7%\n",
      "2.8000000000000003%\n",
      "2.9000000000000004%\n",
      "3.0%\n",
      "3.1%\n",
      "3.2%\n",
      "3.3000000000000003%\n",
      "3.4000000000000004%\n",
      "3.5000000000000004%\n",
      "3.5999999999999996%\n",
      "3.6999999999999997%\n",
      "3.8%\n",
      "3.9%\n",
      "4.0%\n",
      "4.1000000000000005%\n",
      "4.2%\n",
      "4.3%\n",
      "4.3999999999999995%\n",
      "4.5%\n",
      "4.6%\n",
      "4.7%\n",
      "4.8%\n",
      "4.9%\n",
      "5.0%\n",
      "5.1%\n",
      "5.2%\n",
      "5.3%\n",
      "5.4%\n",
      "5.5%\n",
      "5.6000000000000005%\n",
      "5.7%\n",
      "5.800000000000001%\n",
      "5.8999999999999995%\n",
      "6.0%\n",
      "6.1%\n",
      "6.2%\n",
      "6.3%\n",
      "6.4%\n",
      "6.5%\n",
      "6.6000000000000005%\n",
      "6.7%\n",
      "6.800000000000001%\n",
      "6.9%\n",
      "7.000000000000001%\n",
      "7.1%\n",
      "7.199999999999999%\n",
      "7.3%\n",
      "7.3999999999999995%\n",
      "7.5%\n",
      "7.6%\n",
      "7.7%\n",
      "7.8%\n",
      "7.9%\n",
      "8.0%\n",
      "8.1%\n",
      "8.200000000000001%\n",
      "8.3%\n",
      "8.4%\n",
      "8.5%\n",
      "8.6%\n",
      "8.7%\n",
      "8.799999999999999%\n",
      "8.9%\n",
      "9.0%\n",
      "9.1%\n",
      "9.2%\n",
      "9.3%\n",
      "9.4%\n",
      "9.5%\n",
      "9.6%\n",
      "9.700000000000001%\n",
      "9.8%\n",
      "9.9%\n",
      "10.0%\n",
      "10.100000000000001%\n",
      "10.2%\n",
      "10.299999999999999%\n",
      "10.4%\n",
      "10.5%\n",
      "10.6%\n",
      "10.7%\n",
      "10.8%\n",
      "10.9%\n",
      "11.0%\n",
      "11.1%\n",
      "11.200000000000001%\n",
      "11.3%\n",
      "11.4%\n",
      "11.5%\n",
      "11.600000000000001%\n",
      "11.700000000000001%\n",
      "11.799999999999999%\n",
      "11.899999999999999%\n",
      "12.0%\n",
      "12.1%\n",
      "12.2%\n",
      "12.3%\n",
      "12.4%\n",
      "12.5%\n",
      "12.6%\n",
      "12.7%\n",
      "12.8%\n",
      "12.9%\n",
      "13.0%\n",
      "13.100000000000001%\n",
      "13.200000000000001%\n",
      "13.3%\n",
      "13.4%\n",
      "13.5%\n",
      "13.600000000000001%\n",
      "13.700000000000001%\n",
      "13.8%\n",
      "13.900000000000002%\n",
      "14.000000000000002%\n",
      "14.099999999999998%\n",
      "14.2%\n",
      "14.299999999999999%\n",
      "14.399999999999999%\n",
      "14.499999999999998%\n",
      "14.6%\n",
      "14.7%\n",
      "14.799999999999999%\n",
      "14.899999999999999%\n",
      "15.0%\n",
      "15.1%\n",
      "15.2%\n",
      "15.299999999999999%\n",
      "15.4%\n",
      "15.5%\n",
      "15.6%\n",
      "15.7%\n",
      "15.8%\n",
      "15.9%\n",
      "16.0%\n",
      "16.1%\n",
      "16.2%\n",
      "16.3%\n",
      "16.400000000000002%\n",
      "16.5%\n",
      "16.6%\n",
      "16.7%\n",
      "16.8%\n",
      "16.900000000000002%\n",
      "17.0%\n",
      "17.1%\n",
      "17.2%\n",
      "17.299999999999997%\n",
      "17.4%\n",
      "17.5%\n",
      "17.599999999999998%\n",
      "17.7%\n",
      "17.8%\n",
      "17.9%\n",
      "18.0%\n",
      "18.099999999999998%\n",
      "18.2%\n",
      "18.3%\n",
      "18.4%\n",
      "18.5%\n",
      "18.6%\n",
      "18.7%\n",
      "18.8%\n",
      "18.9%\n",
      "19.0%\n",
      "19.1%\n",
      "19.2%\n",
      "19.3%\n",
      "19.400000000000002%\n",
      "19.5%\n",
      "19.6%\n",
      "19.7%\n",
      "19.8%\n",
      "19.900000000000002%\n",
      "20.0%\n",
      "20.1%\n",
      "20.200000000000003%\n",
      "20.3%\n",
      "20.4%\n",
      "20.5%\n",
      "20.599999999999998%\n",
      "20.7%\n",
      "20.8%\n",
      "20.9%\n",
      "21.0%\n",
      "21.099999999999998%\n",
      "21.2%\n",
      "21.3%\n",
      "21.4%\n",
      "21.5%\n",
      "21.6%\n",
      "21.7%\n",
      "21.8%\n",
      "21.9%\n",
      "22.0%\n",
      "22.1%\n",
      "22.2%\n",
      "22.3%\n",
      "22.400000000000002%\n",
      "22.5%\n",
      "22.6%\n",
      "22.7%\n",
      "22.8%\n",
      "22.900000000000002%\n",
      "23.0%\n",
      "23.1%\n",
      "23.200000000000003%\n",
      "23.3%\n",
      "23.400000000000002%\n",
      "23.5%\n",
      "23.599999999999998%\n",
      "23.7%\n",
      "23.799999999999997%\n",
      "23.9%\n",
      "24.0%\n",
      "24.099999999999998%\n",
      "24.2%\n",
      "24.3%\n",
      "24.4%\n",
      "24.5%\n",
      "24.6%\n",
      "24.7%\n",
      "24.8%\n",
      "24.9%\n",
      "25.0%\n",
      "25.1%\n",
      "25.2%\n",
      "25.3%\n",
      "25.4%\n",
      "25.5%\n",
      "25.6%\n",
      "25.7%\n",
      "25.8%\n",
      "25.900000000000002%\n",
      "26.0%\n",
      "26.1%\n",
      "26.200000000000003%\n",
      "26.3%\n",
      "26.400000000000002%\n",
      "26.5%\n",
      "26.6%\n",
      "26.700000000000003%\n",
      "26.8%\n",
      "26.900000000000002%\n",
      "27.0%\n",
      "27.1%\n",
      "27.200000000000003%\n",
      "27.3%\n",
      "27.400000000000002%\n",
      "27.500000000000004%\n",
      "27.6%\n",
      "27.700000000000003%\n",
      "27.800000000000004%\n",
      "27.900000000000002%\n",
      "28.000000000000004%\n",
      "28.1%\n",
      "28.199999999999996%\n",
      "28.299999999999997%\n",
      "28.4%\n",
      "28.499999999999996%\n",
      "28.599999999999998%\n",
      "28.7%\n",
      "28.799999999999997%\n",
      "28.9%\n",
      "28.999999999999996%\n",
      "29.099999999999998%\n",
      "29.2%\n",
      "29.299999999999997%\n",
      "29.4%\n",
      "29.5%\n",
      "29.599999999999998%\n",
      "29.7%\n",
      "29.799999999999997%\n",
      "29.9%\n",
      "30.0%\n",
      "30.099999999999998%\n",
      "30.2%\n",
      "30.3%\n",
      "30.4%\n",
      "30.5%\n",
      "30.599999999999998%\n",
      "30.7%\n",
      "30.8%\n",
      "30.9%\n",
      "31.0%\n",
      "31.1%\n",
      "31.2%\n",
      "31.3%\n",
      "31.4%\n",
      "31.5%\n",
      "31.6%\n",
      "31.7%\n",
      "31.8%\n",
      "31.900000000000002%\n",
      "32.0%\n",
      "32.1%\n",
      "32.2%\n",
      "32.300000000000004%\n",
      "32.4%\n",
      "32.5%\n",
      "32.6%\n",
      "32.7%\n",
      "32.800000000000004%\n",
      "32.9%\n",
      "33.0%\n",
      "33.1%\n",
      "33.2%\n",
      "33.300000000000004%\n",
      "33.4%\n",
      "33.5%\n",
      "33.6%\n",
      "33.7%\n",
      "33.800000000000004%\n",
      "33.900000000000006%\n",
      "34.0%\n",
      "34.1%\n",
      "34.2%\n",
      "34.300000000000004%\n",
      "34.4%\n",
      "34.5%\n",
      "34.599999999999994%\n",
      "34.699999999999996%\n",
      "34.8%\n",
      "34.9%\n",
      "35.0%\n",
      "35.099999999999994%\n",
      "35.199999999999996%\n",
      "35.3%\n",
      "35.4%\n",
      "35.5%\n",
      "35.6%\n",
      "35.699999999999996%\n",
      "35.8%\n",
      "35.9%\n",
      "36.0%\n",
      "36.1%\n",
      "36.199999999999996%\n",
      "36.3%\n",
      "36.4%\n",
      "36.5%\n",
      "36.6%\n",
      "36.7%\n",
      "36.8%\n",
      "36.9%\n",
      "37.0%\n",
      "37.1%\n",
      "37.2%\n",
      "37.3%\n",
      "37.4%\n",
      "37.5%\n",
      "37.6%\n",
      "37.7%\n",
      "37.8%\n",
      "37.9%\n",
      "38.0%\n",
      "38.1%\n",
      "38.2%\n",
      "38.3%\n",
      "38.4%\n",
      "38.5%\n",
      "38.6%\n",
      "38.7%\n",
      "38.800000000000004%\n",
      "38.9%\n",
      "39.0%\n",
      "39.1%\n",
      "39.2%\n",
      "39.300000000000004%\n",
      "39.4%\n",
      "39.5%\n",
      "39.6%\n",
      "39.7%\n",
      "39.800000000000004%\n",
      "39.900000000000006%\n",
      "40.0%\n",
      "40.1%\n",
      "40.2%\n",
      "40.300000000000004%\n",
      "40.400000000000006%\n",
      "40.5%\n",
      "40.6%\n",
      "40.699999999999996%\n",
      "40.8%\n",
      "40.9%\n",
      "41.0%\n",
      "41.099999999999994%\n",
      "41.199999999999996%\n",
      "41.3%\n",
      "41.4%\n",
      "41.5%\n",
      "41.6%\n",
      "41.699999999999996%\n",
      "41.8%\n",
      "41.9%\n",
      "42.0%\n",
      "42.1%\n",
      "42.199999999999996%\n",
      "42.3%\n",
      "42.4%\n",
      "42.5%\n",
      "42.6%\n",
      "42.699999999999996%\n",
      "42.8%\n",
      "42.9%\n",
      "43.0%\n",
      "43.1%\n",
      "43.2%\n",
      "43.3%\n",
      "43.4%\n",
      "43.5%\n",
      "43.6%\n",
      "43.7%\n",
      "43.8%\n",
      "43.9%\n",
      "44.0%\n",
      "44.1%\n",
      "44.2%\n",
      "44.3%\n",
      "44.4%\n",
      "44.5%\n",
      "44.6%\n",
      "44.7%\n",
      "44.800000000000004%\n",
      "44.9%\n",
      "45.0%\n",
      "45.1%\n",
      "45.2%\n",
      "45.300000000000004%\n",
      "45.4%\n",
      "45.5%\n",
      "45.6%\n",
      "45.7%\n",
      "45.800000000000004%\n",
      "45.9%\n",
      "46.0%\n",
      "46.1%\n",
      "46.2%\n",
      "46.300000000000004%\n",
      "46.400000000000006%\n",
      "46.5%\n",
      "46.6%\n",
      "46.7%\n",
      "46.800000000000004%\n",
      "46.9%\n",
      "47.0%\n",
      "47.099999999999994%\n",
      "47.199999999999996%\n",
      "47.3%\n",
      "47.4%\n",
      "47.5%\n",
      "47.599999999999994%\n",
      "47.699999999999996%\n",
      "47.8%\n",
      "47.9%\n",
      "48.0%\n",
      "48.1%\n",
      "48.199999999999996%\n",
      "48.3%\n",
      "48.4%\n",
      "48.5%\n",
      "48.6%\n",
      "48.699999999999996%\n",
      "48.8%\n",
      "48.9%\n",
      "49.0%\n",
      "49.1%\n",
      "49.2%\n",
      "49.3%\n",
      "49.4%\n",
      "49.5%\n",
      "49.6%\n",
      "49.7%\n",
      "49.8%\n",
      "49.9%\n",
      "50.0%\n",
      "50.1%\n",
      "50.2%\n",
      "50.3%\n",
      "50.4%\n",
      "50.5%\n",
      "50.6%\n",
      "50.7%\n",
      "50.8%\n",
      "50.9%\n",
      "51.0%\n",
      "51.1%\n",
      "51.2%\n",
      "51.300000000000004%\n",
      "51.4%\n",
      "51.5%\n",
      "51.6%\n",
      "51.7%\n",
      "51.800000000000004%\n",
      "51.9%\n",
      "52.0%\n",
      "52.1%\n",
      "52.2%\n",
      "52.300000000000004%\n",
      "52.400000000000006%\n",
      "52.5%\n",
      "52.6%\n",
      "52.7%\n",
      "52.800000000000004%\n",
      "52.900000000000006%\n",
      "53.0%\n",
      "53.1%\n",
      "53.2%\n",
      "53.300000000000004%\n",
      "53.400000000000006%\n",
      "53.5%\n",
      "53.6%\n",
      "53.7%\n",
      "53.800000000000004%\n",
      "53.900000000000006%\n",
      "54.0%\n",
      "54.1%\n",
      "54.2%\n",
      "54.300000000000004%\n",
      "54.400000000000006%\n",
      "54.50000000000001%\n",
      "54.6%\n",
      "54.7%\n",
      "54.800000000000004%\n",
      "54.900000000000006%\n",
      "55.00000000000001%\n",
      "55.1%\n",
      "55.2%\n",
      "55.300000000000004%\n",
      "55.400000000000006%\n",
      "55.50000000000001%\n",
      "55.60000000000001%\n",
      "55.7%\n",
      "55.800000000000004%\n",
      "55.900000000000006%\n",
      "56.00000000000001%\n",
      "56.10000000000001%\n",
      "56.2%\n",
      "56.3%\n",
      "56.39999999999999%\n",
      "56.49999999999999%\n",
      "56.599999999999994%\n",
      "56.699999999999996%\n",
      "56.8%\n",
      "56.89999999999999%\n",
      "56.99999999999999%\n",
      "57.099999999999994%\n",
      "57.199999999999996%\n",
      "57.3%\n",
      "57.4%\n",
      "57.49999999999999%\n",
      "57.599999999999994%\n",
      "57.699999999999996%\n",
      "57.8%\n",
      "57.9%\n",
      "57.99999999999999%\n",
      "58.099999999999994%\n",
      "58.199999999999996%\n",
      "58.3%\n",
      "58.4%\n",
      "58.5%\n",
      "58.599999999999994%\n",
      "58.699999999999996%\n",
      "58.8%\n",
      "58.9%\n",
      "59.0%\n",
      "59.099999999999994%\n",
      "59.199999999999996%\n",
      "59.3%\n",
      "59.4%\n",
      "59.5%\n",
      "59.599999999999994%\n",
      "59.699999999999996%\n",
      "59.8%\n",
      "59.9%\n",
      "60.0%\n",
      "60.099999999999994%\n",
      "60.199999999999996%\n",
      "60.3%\n",
      "60.4%\n",
      "60.5%\n",
      "60.6%\n",
      "60.699999999999996%\n",
      "60.8%\n",
      "60.9%\n",
      "61.0%\n",
      "61.1%\n",
      "61.199999999999996%\n",
      "61.3%\n",
      "61.4%\n",
      "61.5%\n",
      "61.6%\n",
      "61.7%\n",
      "61.8%\n",
      "61.9%\n",
      "62.0%\n",
      "62.1%\n",
      "62.2%\n",
      "62.3%\n",
      "62.4%\n",
      "62.5%\n",
      "62.6%\n",
      "62.7%\n",
      "62.8%\n",
      "62.9%\n",
      "63.0%\n",
      "63.1%\n",
      "63.2%\n",
      "63.3%\n",
      "63.4%\n",
      "63.5%\n",
      "63.6%\n",
      "63.7%\n",
      "63.800000000000004%\n",
      "63.9%\n",
      "64.0%\n",
      "64.1%\n",
      "64.2%\n",
      "64.3%\n",
      "64.4%\n",
      "64.5%\n",
      "64.60000000000001%\n",
      "64.7%\n",
      "64.8%\n",
      "64.9%\n",
      "65.0%\n",
      "65.10000000000001%\n",
      "65.2%\n",
      "65.3%\n",
      "65.4%\n",
      "65.5%\n",
      "65.60000000000001%\n",
      "65.7%\n",
      "65.8%\n",
      "65.9%\n",
      "66.0%\n",
      "66.10000000000001%\n",
      "66.2%\n",
      "66.3%\n",
      "66.4%\n",
      "66.5%\n",
      "66.60000000000001%\n",
      "66.7%\n",
      "66.8%\n",
      "66.9%\n",
      "67.0%\n",
      "67.10000000000001%\n",
      "67.2%\n",
      "67.30000000000001%\n",
      "67.4%\n",
      "67.5%\n",
      "67.60000000000001%\n",
      "67.7%\n",
      "67.80000000000001%\n",
      "67.9%\n",
      "68.0%\n",
      "68.10000000000001%\n",
      "68.2%\n",
      "68.30000000000001%\n",
      "68.4%\n",
      "68.5%\n",
      "68.60000000000001%\n",
      "68.7%\n",
      "68.8%\n",
      "68.89999999999999%\n",
      "69.0%\n",
      "69.1%\n",
      "69.19999999999999%\n",
      "69.3%\n",
      "69.39999999999999%\n",
      "69.5%\n",
      "69.6%\n",
      "69.69999999999999%\n",
      "69.8%\n",
      "69.89999999999999%\n",
      "70.0%\n",
      "70.1%\n",
      "70.19999999999999%\n",
      "70.3%\n",
      "70.39999999999999%\n",
      "70.5%\n",
      "70.6%\n",
      "70.7%\n",
      "70.8%\n",
      "70.89999999999999%\n",
      "71.0%\n",
      "71.1%\n",
      "71.2%\n",
      "71.3%\n",
      "71.39999999999999%\n",
      "71.5%\n",
      "71.6%\n",
      "71.7%\n",
      "71.8%\n",
      "71.89999999999999%\n",
      "72.0%\n",
      "72.1%\n",
      "72.2%\n",
      "72.3%\n",
      "72.39999999999999%\n",
      "72.5%\n",
      "72.6%\n",
      "72.7%\n",
      "72.8%\n",
      "72.89999999999999%\n",
      "73.0%\n",
      "73.1%\n",
      "73.2%\n",
      "73.3%\n",
      "73.4%\n",
      "73.5%\n",
      "73.6%\n",
      "73.7%\n",
      "73.8%\n",
      "73.9%\n",
      "74.0%\n",
      "74.1%\n",
      "74.2%\n",
      "74.3%\n",
      "74.4%\n",
      "74.5%\n",
      "74.6%\n",
      "74.7%\n",
      "74.8%\n",
      "74.9%\n",
      "75.0%\n",
      "75.1%\n",
      "75.2%\n",
      "75.3%\n",
      "75.4%\n",
      "75.5%\n",
      "75.6%\n",
      "75.7%\n",
      "75.8%\n",
      "75.9%\n",
      "76.0%\n",
      "76.1%\n",
      "76.2%\n",
      "76.3%\n",
      "76.4%\n",
      "76.5%\n",
      "76.6%\n",
      "76.7%\n",
      "76.8%\n",
      "76.9%\n",
      "77.0%\n",
      "77.10000000000001%\n",
      "77.2%\n",
      "77.3%\n",
      "77.4%\n",
      "77.5%\n",
      "77.60000000000001%\n",
      "77.7%\n",
      "77.8%\n",
      "77.9%\n",
      "78.0%\n",
      "78.10000000000001%\n",
      "78.2%\n",
      "78.3%\n",
      "78.4%\n",
      "78.5%\n",
      "78.60000000000001%\n",
      "78.7%\n",
      "78.8%\n",
      "78.9%\n",
      "79.0%\n",
      "79.10000000000001%\n",
      "79.2%\n",
      "79.3%\n",
      "79.4%\n",
      "79.5%\n",
      "79.60000000000001%\n",
      "79.7%\n",
      "79.80000000000001%\n",
      "79.9%\n",
      "80.0%\n",
      "80.10000000000001%\n",
      "80.2%\n",
      "80.30000000000001%\n",
      "80.4%\n",
      "80.5%\n",
      "80.60000000000001%\n",
      "80.7%\n",
      "80.80000000000001%\n",
      "80.9%\n",
      "81.0%\n",
      "81.10000000000001%\n",
      "81.2%\n",
      "81.3%\n",
      "81.39999999999999%\n",
      "81.5%\n",
      "81.6%\n",
      "81.69999999999999%\n",
      "81.8%\n",
      "81.89999999999999%\n",
      "82.0%\n",
      "82.1%\n",
      "82.19999999999999%\n",
      "82.3%\n",
      "82.39999999999999%\n",
      "82.5%\n",
      "82.6%\n",
      "82.69999999999999%\n",
      "82.8%\n",
      "82.89999999999999%\n",
      "83.0%\n",
      "83.1%\n",
      "83.2%\n",
      "83.3%\n",
      "83.39999999999999%\n",
      "83.5%\n",
      "83.6%\n",
      "83.7%\n",
      "83.8%\n",
      "83.89999999999999%\n",
      "84.0%\n",
      "84.1%\n",
      "84.2%\n",
      "84.3%\n",
      "84.39999999999999%\n",
      "84.5%\n",
      "84.6%\n",
      "84.7%\n",
      "84.8%\n",
      "84.89999999999999%\n",
      "85.0%\n",
      "85.1%\n",
      "85.2%\n",
      "85.3%\n",
      "85.39999999999999%\n",
      "85.5%\n",
      "85.6%\n",
      "85.7%\n",
      "85.8%\n",
      "85.9%\n",
      "86.0%\n",
      "86.1%\n",
      "86.2%\n",
      "86.3%\n",
      "86.4%\n",
      "86.5%\n",
      "86.6%\n",
      "86.7%\n",
      "86.8%\n",
      "86.9%\n",
      "87.0%\n",
      "87.1%\n",
      "87.2%\n",
      "87.3%\n",
      "87.4%\n",
      "87.5%\n",
      "87.6%\n",
      "87.7%\n",
      "87.8%\n",
      "87.9%\n",
      "88.0%\n",
      "88.1%\n",
      "88.2%\n",
      "88.3%\n",
      "88.4%\n",
      "88.5%\n",
      "88.6%\n",
      "88.7%\n",
      "88.8%\n",
      "88.9%\n",
      "89.0%\n",
      "89.1%\n",
      "89.2%\n",
      "89.3%\n",
      "89.4%\n",
      "89.5%\n",
      "89.60000000000001%\n",
      "89.7%\n",
      "89.8%\n",
      "89.9%\n",
      "90.0%\n",
      "90.10000000000001%\n",
      "90.2%\n",
      "90.3%\n",
      "90.4%\n",
      "90.5%\n",
      "90.60000000000001%\n",
      "90.7%\n",
      "90.8%\n",
      "90.9%\n",
      "91.0%\n",
      "91.10000000000001%\n",
      "91.2%\n",
      "91.3%\n",
      "91.4%\n",
      "91.5%\n",
      "91.60000000000001%\n",
      "91.7%\n",
      "91.8%\n",
      "91.9%\n",
      "92.0%\n",
      "92.10000000000001%\n",
      "92.2%\n",
      "92.30000000000001%\n",
      "92.4%\n",
      "92.5%\n",
      "92.60000000000001%\n",
      "92.7%\n",
      "92.80000000000001%\n",
      "92.9%\n",
      "93.0%\n",
      "93.10000000000001%\n",
      "93.2%\n",
      "93.30000000000001%\n",
      "93.4%\n",
      "93.5%\n",
      "93.60000000000001%\n",
      "93.7%\n",
      "93.8%\n",
      "93.89999999999999%\n",
      "94.0%\n",
      "94.1%\n",
      "94.19999999999999%\n",
      "94.3%\n",
      "94.39999999999999%\n",
      "94.5%\n",
      "94.6%\n",
      "94.69999999999999%\n",
      "94.8%\n",
      "94.89999999999999%\n",
      "95.0%\n",
      "95.1%\n",
      "95.19999999999999%\n",
      "95.3%\n",
      "95.39999999999999%\n",
      "95.5%\n",
      "95.6%\n",
      "95.7%\n",
      "95.8%\n",
      "95.89999999999999%\n",
      "96.0%\n",
      "96.1%\n",
      "96.2%\n",
      "96.3%\n",
      "96.39999999999999%\n",
      "96.5%\n",
      "96.6%\n",
      "96.7%\n",
      "96.8%\n",
      "96.89999999999999%\n",
      "97.0%\n",
      "97.1%\n",
      "97.2%\n",
      "97.3%\n",
      "97.39999999999999%\n",
      "97.5%\n",
      "97.6%\n",
      "97.7%\n",
      "97.8%\n",
      "97.89999999999999%\n",
      "98.0%\n",
      "98.1%\n",
      "98.2%\n",
      "98.3%\n",
      "98.4%\n",
      "98.5%\n",
      "98.6%\n",
      "98.7%\n",
      "98.8%\n",
      "98.9%\n",
      "99.0%\n",
      "99.1%\n",
      "99.2%\n",
      "99.3%\n",
      "99.4%\n",
      "99.5%\n",
      "99.6%\n",
      "99.7%\n",
      "99.8%\n",
      "99.9%\n",
      "Max linear accuracy on : 428 with 0.96 (rbf: 0.86)\n",
      "Max rbf accuracy on : 257 with 0.92\n"
     ]
    }
   ],
   "source": [
    "from sklearn.model_selection import train_test_split\n",
    "linears = []\n",
    "rbfs = []\n",
    "\n",
    "for random_state in range(1000):\n",
    "    print(f\"{100*(random_state/1000)}%\")\n",
    "    X_train, X_test, y_train, y_test = train_test_split(train_X, train_y, test_size=0.20, random_state=random_state)\n",
    "\n",
    "    linear_svm_classifier = svm.SVC(kernel=\"linear\") # linear kernel\n",
    "    rbf_svm_classifier = svm.SVC(kernel=\"rbf\") # rbf kernel\n",
    "\n",
    "\n",
    "    # fit classifiers && train models\n",
    "    linear_svm_classifier.fit(X_train, y_train)\n",
    "    rbf_svm_classifier.fit(X_train, y_train)\n",
    "\n",
    "    # make predictions using trained models\n",
    "    linear_y_pred = linear_svm_classifier.predict(X_test)\n",
    "    rbf_y_pred = rbf_svm_classifier.predict(X_test)\n",
    "\n",
    "    # evaluate scores\n",
    "\n",
    "\n",
    "    linears.append(metrics.accuracy_score(y_test, linear_y_pred))\n",
    "    rbfs.append(metrics.accuracy_score(y_test, rbf_y_pred))\n",
    "\n",
    "\n",
    "\n",
    "print(f\"Max linear accuracy on : {linears.index(max(linears))} with {max(linears)} (rbf: {rbfs[linears.index(max(linears))]})\")\n",
    "print(f\"Max rbf accuracy on : {rbfs.index(max(rbfs))} with {max(rbfs)}\")"
   ],
   "metadata": {
    "collapsed": false,
    "ExecuteTime": {
     "start_time": "2023-04-28T20:20:15.586616Z",
     "end_time": "2023-04-28T20:20:33.276404Z"
    }
   }
  },
  {
   "cell_type": "code",
   "execution_count": 77,
   "outputs": [
    {
     "name": "stdout",
     "output_type": "stream",
     "text": [
      "(196,)\n",
      "-\n",
      "(50,)\n",
      "(197,)\n",
      "-\n",
      "(49,)\n",
      "(197,)\n",
      "-\n",
      "(49,)\n",
      "(197,)\n",
      "-\n",
      "(49,)\n",
      "(197,)\n",
      "-\n",
      "(49,)\n"
     ]
    }
   ],
   "source": [
    "skf = StratifiedKFold(n_splits=5)\n",
    "for x,y in skf.split(train_X, train_y):\n",
    "    print(train_y[x].shape)\n",
    "    print(\"-\")\n",
    "    print(train_y[y].shape)"
   ],
   "metadata": {
    "collapsed": false,
    "ExecuteTime": {
     "start_time": "2023-04-28T20:27:14.648550Z",
     "end_time": "2023-04-28T20:27:14.666647Z"
    }
   }
  },
  {
   "cell_type": "code",
   "execution_count": 82,
   "outputs": [
    {
     "name": "stdout",
     "output_type": "stream",
     "text": [
      "Mean accuracy: 0.8333061224489796\n",
      "Mean accuracy rbf: 0.7844897959183673\n"
     ]
    }
   ],
   "source": [
    "# Load the dataset\n",
    "# Initialize stratified k-fold cross-validation\n",
    "skf = StratifiedKFold(n_splits=5)  #the number of folds is 5\n",
    "\n",
    "# Perform stratified k-fold cross-validation\n",
    "rbf_accuracy_scores = []\n",
    "linear_accuracy_scores = []\n",
    "for train_index, test_index in skf.split(train_X, train_y):\n",
    "    X_train, X_test = train_X.iloc[train_index], train_X.iloc[test_index]\n",
    "    y_train, y_test = train_y[train_index], train_y[test_index]\n",
    "\n",
    "    linear_svm_classifier = svm.SVC(kernel=\"linear\") # linear kernel\n",
    "    rbf_svm_classifier = svm.SVC(kernel=\"rbf\") # rbf kernel\n",
    "\n",
    "\n",
    "    # fit classifiers && train models\n",
    "    linear_svm_classifier.fit(X_train, y_train)\n",
    "    rbf_svm_classifier.fit(X_train, y_train)\n",
    "\n",
    "    # make predictions using trained models\n",
    "    linear_y_pred = linear_svm_classifier.predict(X_test)\n",
    "    rbf_y_pred = rbf_svm_classifier.predict(X_test)\n",
    "\n",
    "    # evaluate scores\n",
    "\n",
    "\n",
    "    linear_accuracy_scores.append(metrics.accuracy_score(y_test, linear_y_pred))\n",
    "    rbf_accuracy_scores.append(metrics.accuracy_score(y_test, rbf_y_pred))\n",
    "\n",
    "\n",
    "# Calculate the mean accuracy\n",
    "mean_accuracy = np.mean(linear_accuracy_scores)\n",
    "rbf_mean_accuracy = np.mean(rbf_accuracy_scores)\n",
    "print(\"Mean accuracy:\", mean_accuracy)\n",
    "print(\"Mean accuracy rbf:\", rbf_mean_accuracy)\n"
   ],
   "metadata": {
    "collapsed": false,
    "ExecuteTime": {
     "start_time": "2023-04-28T20:32:26.554004Z",
     "end_time": "2023-04-28T20:32:26.667836Z"
    }
   }
  },
  {
   "cell_type": "code",
   "execution_count": 84,
   "outputs": [
    {
     "name": "stdout",
     "output_type": "stream",
     "text": [
      "Mean weighted-average F1-score across 10 folds: 0.8421161967661966\n"
     ]
    }
   ],
   "source": [
    "from sklearn.metrics import f1_score\n",
    "\n",
    "f1_scores = []\n",
    "k = 10\n",
    "skf = StratifiedKFold(n_splits=k)\n",
    "\n",
    "# Perform k-fold stratified cross-validation\n",
    "for train_index, test_index in skf.split(train_X, train_y):\n",
    "    X_train, X_test = train_X.iloc[train_index], train_X.iloc[test_index]\n",
    "    y_train, y_test = train_y[train_index], train_y[test_index]\n",
    "\n",
    "    linear_svm_classifier = svm.SVC(kernel=\"linear\") # linear kernel\n",
    "    # fit classifiers && train models\n",
    "    linear_svm_classifier.fit(X_train, y_train)\n",
    "    # make predictions using trained models\n",
    "    linear_y_pred = linear_svm_classifier.predict(X_test)\n",
    "\n",
    "    # Compute the weighted-average F1-score for this fold\n",
    "    fold_f1_score = f1_score(y_test, linear_y_pred, average='weighted')\n",
    "    f1_scores.append(fold_f1_score)\n",
    "\n",
    "# Calculate the mean F1-score across all folds\n",
    "mean_weighted_f1_score = np.mean(f1_scores)\n",
    "print(\"Mean weighted-average F1-score across\", k, \"folds:\", mean_weighted_f1_score)"
   ],
   "metadata": {
    "collapsed": false,
    "ExecuteTime": {
     "start_time": "2023-04-28T20:34:09.044639Z",
     "end_time": "2023-04-28T20:34:09.168826Z"
    }
   }
  },
  {
   "cell_type": "code",
   "execution_count": 168,
   "outputs": [
    {
     "name": "stdout",
     "output_type": "stream",
     "text": [
      "accuracy linear: 0.9782608695652174\n",
      "accuracy rbf: 0.9347826086956522\n"
     ]
    }
   ],
   "source": [
    "X_train, X_test, y_train, y_test = train_test_split(train_X, train_y, test_size=0.20, random_state=66)\n",
    "from sklearn import svm\n",
    "\n",
    "linear_svm_classifier = svm.SVC(kernel=\"linear\") # linear kernel\n",
    "rbf_svm_classifier = svm.SVC(kernel=\"rbf\") # rbf kernel\n",
    "\n",
    "\n",
    "# fit classifiers && train models\n",
    "linear_svm_classifier.fit(X_train, y_train)\n",
    "rbf_svm_classifier.fit(X_train, y_train)\n",
    "\n",
    "# make predictions using trained models\n",
    "linear_y_pred = linear_svm_classifier.predict(X_test)\n",
    "rbf_y_pred = rbf_svm_classifier.predict(X_test)\n",
    "\n",
    "# evaluate scores\n",
    "from sklearn import metrics\n",
    "\n",
    "print(f\"accuracy linear: {metrics.accuracy_score(y_test, linear_y_pred)}\")\n",
    "print(f\"accuracy rbf: {metrics.accuracy_score(y_test, rbf_y_pred)}\")"
   ],
   "metadata": {
    "collapsed": false,
    "ExecuteTime": {
     "start_time": "2023-04-27T15:03:12.711129Z",
     "end_time": "2023-04-27T15:03:12.765462Z"
    }
   }
  },
  {
   "cell_type": "code",
   "execution_count": 175,
   "outputs": [],
   "source": [
    "test_X[\"type_linear\"] = linear_svm_classifier.predict(test_X[train_X.columns])\n",
    "test_X[\"type_rbf\"] = linear_svm_classifier.predict(test_X[train_X.columns])\n"
   ],
   "metadata": {
    "collapsed": false,
    "ExecuteTime": {
     "start_time": "2023-04-27T15:06:15.551605Z",
     "end_time": "2023-04-27T15:06:15.585134Z"
    }
   }
  },
  {
   "cell_type": "code",
   "execution_count": 181,
   "outputs": [
    {
     "name": "stderr",
     "output_type": "stream",
     "text": [
      "C:\\Users\\alini\\AppData\\Local\\Temp\\ipykernel_25668\\1550707187.py:5: SettingWithCopyWarning: \n",
      "A value is trying to be set on a copy of a slice from a DataFrame\n",
      "\n",
      "See the caveats in the documentation: https://pandas.pydata.org/pandas-docs/stable/user_guide/indexing.html#returning-a-view-versus-a-copy\n",
      "  linear_svm_results.rename(columns={\"type_linear\":\"type\"}, inplace=True)\n",
      "C:\\Users\\alini\\AppData\\Local\\Temp\\ipykernel_25668\\1550707187.py:7: SettingWithCopyWarning: \n",
      "A value is trying to be set on a copy of a slice from a DataFrame\n",
      "\n",
      "See the caveats in the documentation: https://pandas.pydata.org/pandas-docs/stable/user_guide/indexing.html#returning-a-view-versus-a-copy\n",
      "  rbf_svm_results.rename(columns={\"type_rbf\":\"type\"}, inplace=True)\n"
     ]
    }
   ],
   "source": [
    "results=test_X.reset_index().reset_index()\n",
    "results.rename(columns={\"level_0\":\"id\"}, inplace=True)\n",
    "results[\"id\"] = results[\"id\"] + 1\n",
    "linear_svm_results = results[[\"id\",\"type_linear\"]]\n",
    "linear_svm_results.rename(columns={\"type_linear\":\"type\"}, inplace=True)\n",
    "rbf_svm_results = results[[\"id\",\"type_rbf\"]]\n",
    "rbf_svm_results.rename(columns={\"type_rbf\":\"type\"}, inplace=True)"
   ],
   "metadata": {
    "collapsed": false,
    "ExecuteTime": {
     "start_time": "2023-04-27T15:08:56.258378Z",
     "end_time": "2023-04-27T15:08:56.305445Z"
    }
   }
  },
  {
   "cell_type": "code",
   "execution_count": 182,
   "outputs": [
    {
     "data": {
      "text/plain": "    id               type\n0    1           sauropod\n1    2       euornithopod\n2    3     large theropod\n3    4     large theropod\n4    5           sauropod\n..  ..                ...\n57  58           sauropod\n58  59  armoured dinosaur\n59  60     small theropod\n60  61        ceratopsian\n61  62       euornithopod\n\n[62 rows x 2 columns]",
      "text/html": "<div>\n<style scoped>\n    .dataframe tbody tr th:only-of-type {\n        vertical-align: middle;\n    }\n\n    .dataframe tbody tr th {\n        vertical-align: top;\n    }\n\n    .dataframe thead th {\n        text-align: right;\n    }\n</style>\n<table border=\"1\" class=\"dataframe\">\n  <thead>\n    <tr style=\"text-align: right;\">\n      <th></th>\n      <th>id</th>\n      <th>type</th>\n    </tr>\n  </thead>\n  <tbody>\n    <tr>\n      <th>0</th>\n      <td>1</td>\n      <td>sauropod</td>\n    </tr>\n    <tr>\n      <th>1</th>\n      <td>2</td>\n      <td>euornithopod</td>\n    </tr>\n    <tr>\n      <th>2</th>\n      <td>3</td>\n      <td>large theropod</td>\n    </tr>\n    <tr>\n      <th>3</th>\n      <td>4</td>\n      <td>large theropod</td>\n    </tr>\n    <tr>\n      <th>4</th>\n      <td>5</td>\n      <td>sauropod</td>\n    </tr>\n    <tr>\n      <th>...</th>\n      <td>...</td>\n      <td>...</td>\n    </tr>\n    <tr>\n      <th>57</th>\n      <td>58</td>\n      <td>sauropod</td>\n    </tr>\n    <tr>\n      <th>58</th>\n      <td>59</td>\n      <td>armoured dinosaur</td>\n    </tr>\n    <tr>\n      <th>59</th>\n      <td>60</td>\n      <td>small theropod</td>\n    </tr>\n    <tr>\n      <th>60</th>\n      <td>61</td>\n      <td>ceratopsian</td>\n    </tr>\n    <tr>\n      <th>61</th>\n      <td>62</td>\n      <td>euornithopod</td>\n    </tr>\n  </tbody>\n</table>\n<p>62 rows × 2 columns</p>\n</div>"
     },
     "execution_count": 182,
     "metadata": {},
     "output_type": "execute_result"
    }
   ],
   "source": [
    "rbf_svm_results"
   ],
   "metadata": {
    "collapsed": false,
    "ExecuteTime": {
     "start_time": "2023-04-27T15:09:02.984424Z",
     "end_time": "2023-04-27T15:09:03.008497Z"
    }
   }
  },
  {
   "cell_type": "code",
   "execution_count": 183,
   "outputs": [
    {
     "data": {
      "text/plain": "    id               type\n0    1           sauropod\n1    2       euornithopod\n2    3     large theropod\n3    4     large theropod\n4    5           sauropod\n..  ..                ...\n57  58           sauropod\n58  59  armoured dinosaur\n59  60     small theropod\n60  61        ceratopsian\n61  62       euornithopod\n\n[62 rows x 2 columns]",
      "text/html": "<div>\n<style scoped>\n    .dataframe tbody tr th:only-of-type {\n        vertical-align: middle;\n    }\n\n    .dataframe tbody tr th {\n        vertical-align: top;\n    }\n\n    .dataframe thead th {\n        text-align: right;\n    }\n</style>\n<table border=\"1\" class=\"dataframe\">\n  <thead>\n    <tr style=\"text-align: right;\">\n      <th></th>\n      <th>id</th>\n      <th>type</th>\n    </tr>\n  </thead>\n  <tbody>\n    <tr>\n      <th>0</th>\n      <td>1</td>\n      <td>sauropod</td>\n    </tr>\n    <tr>\n      <th>1</th>\n      <td>2</td>\n      <td>euornithopod</td>\n    </tr>\n    <tr>\n      <th>2</th>\n      <td>3</td>\n      <td>large theropod</td>\n    </tr>\n    <tr>\n      <th>3</th>\n      <td>4</td>\n      <td>large theropod</td>\n    </tr>\n    <tr>\n      <th>4</th>\n      <td>5</td>\n      <td>sauropod</td>\n    </tr>\n    <tr>\n      <th>...</th>\n      <td>...</td>\n      <td>...</td>\n    </tr>\n    <tr>\n      <th>57</th>\n      <td>58</td>\n      <td>sauropod</td>\n    </tr>\n    <tr>\n      <th>58</th>\n      <td>59</td>\n      <td>armoured dinosaur</td>\n    </tr>\n    <tr>\n      <th>59</th>\n      <td>60</td>\n      <td>small theropod</td>\n    </tr>\n    <tr>\n      <th>60</th>\n      <td>61</td>\n      <td>ceratopsian</td>\n    </tr>\n    <tr>\n      <th>61</th>\n      <td>62</td>\n      <td>euornithopod</td>\n    </tr>\n  </tbody>\n</table>\n<p>62 rows × 2 columns</p>\n</div>"
     },
     "execution_count": 183,
     "metadata": {},
     "output_type": "execute_result"
    }
   ],
   "source": [
    "linear_svm_results"
   ],
   "metadata": {
    "collapsed": false,
    "ExecuteTime": {
     "start_time": "2023-04-27T15:09:24.123019Z",
     "end_time": "2023-04-27T15:09:24.126216Z"
    }
   }
  },
  {
   "cell_type": "code",
   "execution_count": 193,
   "outputs": [
    {
     "data": {
      "text/plain": "1.0"
     },
     "execution_count": 193,
     "metadata": {},
     "output_type": "execute_result"
    }
   ],
   "source": [
    "(linear_svm_results == rbf_svm_results).mean().mean()"
   ],
   "metadata": {
    "collapsed": false,
    "ExecuteTime": {
     "start_time": "2023-04-27T15:11:29.755350Z",
     "end_time": "2023-04-27T15:11:29.783416Z"
    }
   }
  },
  {
   "cell_type": "code",
   "execution_count": 195,
   "outputs": [],
   "source": [
    "linear_svm_results.to_csv(\"submission_2_linear_svm.csv\",index=False)\n",
    "rbf_svm_results.to_csv(\"submission_2_rbf_svm.csv\",index=False)"
   ],
   "metadata": {
    "collapsed": false,
    "ExecuteTime": {
     "start_time": "2023-04-27T15:12:16.490313Z",
     "end_time": "2023-04-27T15:12:16.520761Z"
    }
   }
  },
  {
   "cell_type": "code",
   "execution_count": 78,
   "outputs": [
    {
     "ename": "TypeError",
     "evalue": "NDFrame.astype() got an unexpected keyword argument 'categories'",
     "output_type": "error",
     "traceback": [
      "\u001B[1;31m---------------------------------------------------------------------------\u001B[0m",
      "\u001B[1;31mTypeError\u001B[0m                                 Traceback (most recent call last)",
      "Cell \u001B[1;32mIn[78], line 2\u001B[0m\n\u001B[0;32m      1\u001B[0m categories \u001B[38;5;241m=\u001B[39m [\u001B[38;5;124m\"\u001B[39m\u001B[38;5;124mdiet\u001B[39m\u001B[38;5;124m\"\u001B[39m, \u001B[38;5;124m\"\u001B[39m\u001B[38;5;124mperiod\u001B[39m\u001B[38;5;124m\"\u001B[39m, \u001B[38;5;124m\"\u001B[39m\u001B[38;5;124mlived_in\u001B[39m\u001B[38;5;124m\"\u001B[39m, \u001B[38;5;124m\"\u001B[39m\u001B[38;5;124mlength\u001B[39m\u001B[38;5;124m\"\u001B[39m, \u001B[38;5;124m\"\u001B[39m\u001B[38;5;124mtaxonomy\u001B[39m\u001B[38;5;124m\"\u001B[39m]\n\u001B[1;32m----> 2\u001B[0m train \u001B[38;5;241m=\u001B[39m \u001B[43mtrain\u001B[49m\u001B[38;5;241;43m.\u001B[39;49m\u001B[43mastype\u001B[49m\u001B[43m(\u001B[49m\u001B[38;5;124;43m\"\u001B[39;49m\u001B[38;5;124;43mcategory\u001B[39;49m\u001B[38;5;124;43m\"\u001B[39;49m\u001B[43m,\u001B[49m\u001B[43m \u001B[49m\u001B[43mcategories\u001B[49m\u001B[38;5;241;43m=\u001B[39;49m\u001B[43mcategories\u001B[49m\u001B[43m)\u001B[49m\n\u001B[0;32m      3\u001B[0m test \u001B[38;5;241m=\u001B[39m test\u001B[38;5;241m.\u001B[39mastype(\u001B[38;5;124m\"\u001B[39m\u001B[38;5;124mcategory\u001B[39m\u001B[38;5;124m\"\u001B[39m, categories\u001B[38;5;241m=\u001B[39mcategories)\n",
      "\u001B[1;31mTypeError\u001B[0m: NDFrame.astype() got an unexpected keyword argument 'categories'"
     ]
    }
   ],
   "source": [
    "categories = [\"diet\", \"period\", \"lived_in\", \"length\", \"taxonomy\"]\n",
    "train = train.astype(\"category\", categories=categories)\n",
    "test = test.astype(\"category\", categories=categories)"
   ],
   "metadata": {
    "collapsed": false
   }
  },
  {
   "cell_type": "code",
   "execution_count": 486,
   "outputs": [
    {
     "data": {
      "text/plain": "is_herb                  int64\nis_omni                  int64\nis_carnivorous           int64\nshort_period            object\ntaxonomy                object\nlived_in                object\ntaxonomy_end            object\ntaxonomy_before_end     object\nlength                 float64\ndtype: object"
     },
     "execution_count": 486,
     "metadata": {},
     "output_type": "execute_result"
    }
   ],
   "source": [
    "tX = testX.copy(deep=True)\n",
    "for category in to_numeric_categories:\n",
    "    tX[category].replace(category_dict[category][0], category_dict[category][1], inplace=True)\n",
    "\n",
    "tX.dtypes"
   ],
   "metadata": {
    "collapsed": false,
    "ExecuteTime": {
     "start_time": "2023-04-27T09:45:14.676684Z",
     "end_time": "2023-04-27T09:45:14.704700Z"
    }
   }
  },
  {
   "cell_type": "code",
   "execution_count": 487,
   "outputs": [
    {
     "data": {
      "text/plain": "    is_herb  is_omni  is_carnivorous short_period  \\\n0         1        0               0            1   \n1         1        0               0            4   \n2         0        0               1            1   \n3         0        0               1            2   \n4         0        1               0          USA   \n..      ...      ...             ...          ...   \n57        1        0               0            3   \n58        1        0               0            1   \n59        0        0               1            1   \n60        1        0               0            1   \n61        1        0               0            1   \n\n                                             taxonomy lived_in  \\\n0                                                   2       27   \n1   Dinosauria Saurischia Sauropodomorpha Sauropod...        2   \n2                                                  60        2   \n3                                                  29        2   \n4   Dinosauria Saurischia Theropoda Neotheropoda T...      NaN   \n..                                                ...      ...   \n57                                                 11        1   \n58                                                 27        4   \n59                                                 16       14   \n60                                                  9        6   \n61                                                  8        6   \n\n        taxonomy_end taxonomy_before_end  length  \n0                  2                   2     5.0  \n1     Camarasauridae   Camarasauromorpha    23.0  \n2                 60                  12     8.6  \n3                 29                  15    12.0  \n4   Oviraptorosauria                  38     3.0  \n..               ...                 ...     ...  \n57                11                  11     5.0  \n58                27                  23     6.0  \n59                16                  14     8.1  \n60                 9                   9     6.0  \n61                 8                   8     3.0  \n\n[62 rows x 9 columns]",
      "text/html": "<div>\n<style scoped>\n    .dataframe tbody tr th:only-of-type {\n        vertical-align: middle;\n    }\n\n    .dataframe tbody tr th {\n        vertical-align: top;\n    }\n\n    .dataframe thead th {\n        text-align: right;\n    }\n</style>\n<table border=\"1\" class=\"dataframe\">\n  <thead>\n    <tr style=\"text-align: right;\">\n      <th></th>\n      <th>is_herb</th>\n      <th>is_omni</th>\n      <th>is_carnivorous</th>\n      <th>short_period</th>\n      <th>taxonomy</th>\n      <th>lived_in</th>\n      <th>taxonomy_end</th>\n      <th>taxonomy_before_end</th>\n      <th>length</th>\n    </tr>\n  </thead>\n  <tbody>\n    <tr>\n      <th>0</th>\n      <td>1</td>\n      <td>0</td>\n      <td>0</td>\n      <td>1</td>\n      <td>2</td>\n      <td>27</td>\n      <td>2</td>\n      <td>2</td>\n      <td>5.0</td>\n    </tr>\n    <tr>\n      <th>1</th>\n      <td>1</td>\n      <td>0</td>\n      <td>0</td>\n      <td>4</td>\n      <td>Dinosauria Saurischia Sauropodomorpha Sauropod...</td>\n      <td>2</td>\n      <td>Camarasauridae</td>\n      <td>Camarasauromorpha</td>\n      <td>23.0</td>\n    </tr>\n    <tr>\n      <th>2</th>\n      <td>0</td>\n      <td>0</td>\n      <td>1</td>\n      <td>1</td>\n      <td>60</td>\n      <td>2</td>\n      <td>60</td>\n      <td>12</td>\n      <td>8.6</td>\n    </tr>\n    <tr>\n      <th>3</th>\n      <td>0</td>\n      <td>0</td>\n      <td>1</td>\n      <td>2</td>\n      <td>29</td>\n      <td>2</td>\n      <td>29</td>\n      <td>15</td>\n      <td>12.0</td>\n    </tr>\n    <tr>\n      <th>4</th>\n      <td>0</td>\n      <td>1</td>\n      <td>0</td>\n      <td>USA</td>\n      <td>Dinosauria Saurischia Theropoda Neotheropoda T...</td>\n      <td>NaN</td>\n      <td>Oviraptorosauria</td>\n      <td>38</td>\n      <td>3.0</td>\n    </tr>\n    <tr>\n      <th>...</th>\n      <td>...</td>\n      <td>...</td>\n      <td>...</td>\n      <td>...</td>\n      <td>...</td>\n      <td>...</td>\n      <td>...</td>\n      <td>...</td>\n      <td>...</td>\n    </tr>\n    <tr>\n      <th>57</th>\n      <td>1</td>\n      <td>0</td>\n      <td>0</td>\n      <td>3</td>\n      <td>11</td>\n      <td>1</td>\n      <td>11</td>\n      <td>11</td>\n      <td>5.0</td>\n    </tr>\n    <tr>\n      <th>58</th>\n      <td>1</td>\n      <td>0</td>\n      <td>0</td>\n      <td>1</td>\n      <td>27</td>\n      <td>4</td>\n      <td>27</td>\n      <td>23</td>\n      <td>6.0</td>\n    </tr>\n    <tr>\n      <th>59</th>\n      <td>0</td>\n      <td>0</td>\n      <td>1</td>\n      <td>1</td>\n      <td>16</td>\n      <td>14</td>\n      <td>16</td>\n      <td>14</td>\n      <td>8.1</td>\n    </tr>\n    <tr>\n      <th>60</th>\n      <td>1</td>\n      <td>0</td>\n      <td>0</td>\n      <td>1</td>\n      <td>9</td>\n      <td>6</td>\n      <td>9</td>\n      <td>9</td>\n      <td>6.0</td>\n    </tr>\n    <tr>\n      <th>61</th>\n      <td>1</td>\n      <td>0</td>\n      <td>0</td>\n      <td>1</td>\n      <td>8</td>\n      <td>6</td>\n      <td>8</td>\n      <td>8</td>\n      <td>3.0</td>\n    </tr>\n  </tbody>\n</table>\n<p>62 rows × 9 columns</p>\n</div>"
     },
     "execution_count": 487,
     "metadata": {},
     "output_type": "execute_result"
    }
   ],
   "source": [
    "tX"
   ],
   "metadata": {
    "collapsed": false,
    "ExecuteTime": {
     "start_time": "2023-04-27T09:45:15.930516Z",
     "end_time": "2023-04-27T09:45:15.936908Z"
    }
   }
  },
  {
   "cell_type": "code",
   "execution_count": 488,
   "outputs": [
    {
     "data": {
      "text/plain": "    is_herb  is_omni  is_carnivorous  short_period  taxonomy  lived_in  \\\n0         1        0               0           1.0       2.0      27.0   \n1         1        0               0           4.0       NaN       2.0   \n2         0        0               1           1.0      60.0       2.0   \n3         0        0               1           2.0      29.0       2.0   \n4         0        1               0           NaN       NaN       NaN   \n..      ...      ...             ...           ...       ...       ...   \n57        1        0               0           3.0      11.0       1.0   \n58        1        0               0           1.0      27.0       4.0   \n59        0        0               1           1.0      16.0      14.0   \n60        1        0               0           1.0       9.0       6.0   \n61        1        0               0           1.0       8.0       6.0   \n\n    taxonomy_end  taxonomy_before_end  length  \n0            2.0                  2.0     5.0  \n1            NaN                  NaN    23.0  \n2           60.0                 12.0     8.6  \n3           29.0                 15.0    12.0  \n4            NaN                 38.0     3.0  \n..           ...                  ...     ...  \n57          11.0                 11.0     5.0  \n58          27.0                 23.0     6.0  \n59          16.0                 14.0     8.1  \n60           9.0                  9.0     6.0  \n61           8.0                  8.0     3.0  \n\n[62 rows x 9 columns]",
      "text/html": "<div>\n<style scoped>\n    .dataframe tbody tr th:only-of-type {\n        vertical-align: middle;\n    }\n\n    .dataframe tbody tr th {\n        vertical-align: top;\n    }\n\n    .dataframe thead th {\n        text-align: right;\n    }\n</style>\n<table border=\"1\" class=\"dataframe\">\n  <thead>\n    <tr style=\"text-align: right;\">\n      <th></th>\n      <th>is_herb</th>\n      <th>is_omni</th>\n      <th>is_carnivorous</th>\n      <th>short_period</th>\n      <th>taxonomy</th>\n      <th>lived_in</th>\n      <th>taxonomy_end</th>\n      <th>taxonomy_before_end</th>\n      <th>length</th>\n    </tr>\n  </thead>\n  <tbody>\n    <tr>\n      <th>0</th>\n      <td>1</td>\n      <td>0</td>\n      <td>0</td>\n      <td>1.0</td>\n      <td>2.0</td>\n      <td>27.0</td>\n      <td>2.0</td>\n      <td>2.0</td>\n      <td>5.0</td>\n    </tr>\n    <tr>\n      <th>1</th>\n      <td>1</td>\n      <td>0</td>\n      <td>0</td>\n      <td>4.0</td>\n      <td>NaN</td>\n      <td>2.0</td>\n      <td>NaN</td>\n      <td>NaN</td>\n      <td>23.0</td>\n    </tr>\n    <tr>\n      <th>2</th>\n      <td>0</td>\n      <td>0</td>\n      <td>1</td>\n      <td>1.0</td>\n      <td>60.0</td>\n      <td>2.0</td>\n      <td>60.0</td>\n      <td>12.0</td>\n      <td>8.6</td>\n    </tr>\n    <tr>\n      <th>3</th>\n      <td>0</td>\n      <td>0</td>\n      <td>1</td>\n      <td>2.0</td>\n      <td>29.0</td>\n      <td>2.0</td>\n      <td>29.0</td>\n      <td>15.0</td>\n      <td>12.0</td>\n    </tr>\n    <tr>\n      <th>4</th>\n      <td>0</td>\n      <td>1</td>\n      <td>0</td>\n      <td>NaN</td>\n      <td>NaN</td>\n      <td>NaN</td>\n      <td>NaN</td>\n      <td>38.0</td>\n      <td>3.0</td>\n    </tr>\n    <tr>\n      <th>...</th>\n      <td>...</td>\n      <td>...</td>\n      <td>...</td>\n      <td>...</td>\n      <td>...</td>\n      <td>...</td>\n      <td>...</td>\n      <td>...</td>\n      <td>...</td>\n    </tr>\n    <tr>\n      <th>57</th>\n      <td>1</td>\n      <td>0</td>\n      <td>0</td>\n      <td>3.0</td>\n      <td>11.0</td>\n      <td>1.0</td>\n      <td>11.0</td>\n      <td>11.0</td>\n      <td>5.0</td>\n    </tr>\n    <tr>\n      <th>58</th>\n      <td>1</td>\n      <td>0</td>\n      <td>0</td>\n      <td>1.0</td>\n      <td>27.0</td>\n      <td>4.0</td>\n      <td>27.0</td>\n      <td>23.0</td>\n      <td>6.0</td>\n    </tr>\n    <tr>\n      <th>59</th>\n      <td>0</td>\n      <td>0</td>\n      <td>1</td>\n      <td>1.0</td>\n      <td>16.0</td>\n      <td>14.0</td>\n      <td>16.0</td>\n      <td>14.0</td>\n      <td>8.1</td>\n    </tr>\n    <tr>\n      <th>60</th>\n      <td>1</td>\n      <td>0</td>\n      <td>0</td>\n      <td>1.0</td>\n      <td>9.0</td>\n      <td>6.0</td>\n      <td>9.0</td>\n      <td>9.0</td>\n      <td>6.0</td>\n    </tr>\n    <tr>\n      <th>61</th>\n      <td>1</td>\n      <td>0</td>\n      <td>0</td>\n      <td>1.0</td>\n      <td>8.0</td>\n      <td>6.0</td>\n      <td>8.0</td>\n      <td>8.0</td>\n      <td>3.0</td>\n    </tr>\n  </tbody>\n</table>\n<p>62 rows × 9 columns</p>\n</div>"
     },
     "execution_count": 488,
     "metadata": {},
     "output_type": "execute_result"
    }
   ],
   "source": [
    "def replace_unknown(x):\n",
    "\n",
    "    if str(x).isdigit():\n",
    "        return np.uint8(x)\n",
    "    else:\n",
    "        return np.NaN\n",
    "\n",
    "for cg in to_numeric_categories:\n",
    "    tX[cg] = tX[cg].apply(replace_unknown)\n",
    "\n",
    "tX\n"
   ],
   "metadata": {
    "collapsed": false,
    "ExecuteTime": {
     "start_time": "2023-04-27T09:45:18.261526Z",
     "end_time": "2023-04-27T09:45:18.296526Z"
    }
   }
  },
  {
   "cell_type": "code",
   "execution_count": 489,
   "outputs": [],
   "source": [
    "from sklearn.compose import ColumnTransformer\n",
    "from sklearn.preprocessing import OneHotEncoder\n",
    "from sklearn.impute import SimpleImputer\n",
    "from sklearn.pipeline import Pipeline\n",
    "import numpy as np\n",
    "\n",
    "categorical_transformer = Pipeline(steps=[\n",
    "    ('imputer', SimpleImputer(strategy='constant', fill_value='missing')),\n",
    "    ('encoder', OneHotEncoder(handle_unknown='ignore'))])\n",
    "\n",
    "preprocessor = ColumnTransformer(\n",
    "    transformers=[\n",
    "        ('cat', categorical_transformer, [0])\n",
    "    ])"
   ],
   "metadata": {
    "collapsed": false,
    "ExecuteTime": {
     "start_time": "2023-04-27T09:45:21.432654Z",
     "end_time": "2023-04-27T09:45:21.458776Z"
    }
   }
  },
  {
   "cell_type": "code",
   "execution_count": 490,
   "outputs": [
    {
     "ename": "ValueError",
     "evalue": "'fill_value'=missing is invalid. Expected a numerical value when imputing numerical data",
     "output_type": "error",
     "traceback": [
      "\u001B[1;31m---------------------------------------------------------------------------\u001B[0m",
      "\u001B[1;31mValueError\u001B[0m                                Traceback (most recent call last)",
      "Cell \u001B[1;32mIn[490], line 1\u001B[0m\n\u001B[1;32m----> 1\u001B[0m \u001B[43mpreprocessor\u001B[49m\u001B[38;5;241;43m.\u001B[39;49m\u001B[43mfit_transform\u001B[49m\u001B[43m(\u001B[49m\u001B[43mtX\u001B[49m\u001B[43m)\u001B[49m\n",
      "File \u001B[1;32mC:\\ProgramData\\anaconda3\\lib\\site-packages\\sklearn\\utils\\_set_output.py:142\u001B[0m, in \u001B[0;36m_wrap_method_output.<locals>.wrapped\u001B[1;34m(self, X, *args, **kwargs)\u001B[0m\n\u001B[0;32m    140\u001B[0m \u001B[38;5;129m@wraps\u001B[39m(f)\n\u001B[0;32m    141\u001B[0m \u001B[38;5;28;01mdef\u001B[39;00m \u001B[38;5;21mwrapped\u001B[39m(\u001B[38;5;28mself\u001B[39m, X, \u001B[38;5;241m*\u001B[39margs, \u001B[38;5;241m*\u001B[39m\u001B[38;5;241m*\u001B[39mkwargs):\n\u001B[1;32m--> 142\u001B[0m     data_to_wrap \u001B[38;5;241m=\u001B[39m f(\u001B[38;5;28mself\u001B[39m, X, \u001B[38;5;241m*\u001B[39margs, \u001B[38;5;241m*\u001B[39m\u001B[38;5;241m*\u001B[39mkwargs)\n\u001B[0;32m    143\u001B[0m     \u001B[38;5;28;01mif\u001B[39;00m \u001B[38;5;28misinstance\u001B[39m(data_to_wrap, \u001B[38;5;28mtuple\u001B[39m):\n\u001B[0;32m    144\u001B[0m         \u001B[38;5;66;03m# only wrap the first output for cross decomposition\u001B[39;00m\n\u001B[0;32m    145\u001B[0m         \u001B[38;5;28;01mreturn\u001B[39;00m (\n\u001B[0;32m    146\u001B[0m             _wrap_data_with_container(method, data_to_wrap[\u001B[38;5;241m0\u001B[39m], X, \u001B[38;5;28mself\u001B[39m),\n\u001B[0;32m    147\u001B[0m             \u001B[38;5;241m*\u001B[39mdata_to_wrap[\u001B[38;5;241m1\u001B[39m:],\n\u001B[0;32m    148\u001B[0m         )\n",
      "File \u001B[1;32mC:\\ProgramData\\anaconda3\\lib\\site-packages\\sklearn\\compose\\_column_transformer.py:727\u001B[0m, in \u001B[0;36mColumnTransformer.fit_transform\u001B[1;34m(self, X, y)\u001B[0m\n\u001B[0;32m    724\u001B[0m \u001B[38;5;28mself\u001B[39m\u001B[38;5;241m.\u001B[39m_validate_column_callables(X)\n\u001B[0;32m    725\u001B[0m \u001B[38;5;28mself\u001B[39m\u001B[38;5;241m.\u001B[39m_validate_remainder(X)\n\u001B[1;32m--> 727\u001B[0m result \u001B[38;5;241m=\u001B[39m \u001B[38;5;28;43mself\u001B[39;49m\u001B[38;5;241;43m.\u001B[39;49m\u001B[43m_fit_transform\u001B[49m\u001B[43m(\u001B[49m\u001B[43mX\u001B[49m\u001B[43m,\u001B[49m\u001B[43m \u001B[49m\u001B[43my\u001B[49m\u001B[43m,\u001B[49m\u001B[43m \u001B[49m\u001B[43m_fit_transform_one\u001B[49m\u001B[43m)\u001B[49m\n\u001B[0;32m    729\u001B[0m \u001B[38;5;28;01mif\u001B[39;00m \u001B[38;5;129;01mnot\u001B[39;00m result:\n\u001B[0;32m    730\u001B[0m     \u001B[38;5;28mself\u001B[39m\u001B[38;5;241m.\u001B[39m_update_fitted_transformers([])\n",
      "File \u001B[1;32mC:\\ProgramData\\anaconda3\\lib\\site-packages\\sklearn\\compose\\_column_transformer.py:658\u001B[0m, in \u001B[0;36mColumnTransformer._fit_transform\u001B[1;34m(self, X, y, func, fitted, column_as_strings)\u001B[0m\n\u001B[0;32m    652\u001B[0m transformers \u001B[38;5;241m=\u001B[39m \u001B[38;5;28mlist\u001B[39m(\n\u001B[0;32m    653\u001B[0m     \u001B[38;5;28mself\u001B[39m\u001B[38;5;241m.\u001B[39m_iter(\n\u001B[0;32m    654\u001B[0m         fitted\u001B[38;5;241m=\u001B[39mfitted, replace_strings\u001B[38;5;241m=\u001B[39m\u001B[38;5;28;01mTrue\u001B[39;00m, column_as_strings\u001B[38;5;241m=\u001B[39mcolumn_as_strings\n\u001B[0;32m    655\u001B[0m     )\n\u001B[0;32m    656\u001B[0m )\n\u001B[0;32m    657\u001B[0m \u001B[38;5;28;01mtry\u001B[39;00m:\n\u001B[1;32m--> 658\u001B[0m     \u001B[38;5;28;01mreturn\u001B[39;00m \u001B[43mParallel\u001B[49m\u001B[43m(\u001B[49m\u001B[43mn_jobs\u001B[49m\u001B[38;5;241;43m=\u001B[39;49m\u001B[38;5;28;43mself\u001B[39;49m\u001B[38;5;241;43m.\u001B[39;49m\u001B[43mn_jobs\u001B[49m\u001B[43m)\u001B[49m\u001B[43m(\u001B[49m\n\u001B[0;32m    659\u001B[0m \u001B[43m        \u001B[49m\u001B[43mdelayed\u001B[49m\u001B[43m(\u001B[49m\u001B[43mfunc\u001B[49m\u001B[43m)\u001B[49m\u001B[43m(\u001B[49m\n\u001B[0;32m    660\u001B[0m \u001B[43m            \u001B[49m\u001B[43mtransformer\u001B[49m\u001B[38;5;241;43m=\u001B[39;49m\u001B[43mclone\u001B[49m\u001B[43m(\u001B[49m\u001B[43mtrans\u001B[49m\u001B[43m)\u001B[49m\u001B[43m \u001B[49m\u001B[38;5;28;43;01mif\u001B[39;49;00m\u001B[43m \u001B[49m\u001B[38;5;129;43;01mnot\u001B[39;49;00m\u001B[43m \u001B[49m\u001B[43mfitted\u001B[49m\u001B[43m \u001B[49m\u001B[38;5;28;43;01melse\u001B[39;49;00m\u001B[43m \u001B[49m\u001B[43mtrans\u001B[49m\u001B[43m,\u001B[49m\n\u001B[0;32m    661\u001B[0m \u001B[43m            \u001B[49m\u001B[43mX\u001B[49m\u001B[38;5;241;43m=\u001B[39;49m\u001B[43m_safe_indexing\u001B[49m\u001B[43m(\u001B[49m\u001B[43mX\u001B[49m\u001B[43m,\u001B[49m\u001B[43m \u001B[49m\u001B[43mcolumn\u001B[49m\u001B[43m,\u001B[49m\u001B[43m \u001B[49m\u001B[43maxis\u001B[49m\u001B[38;5;241;43m=\u001B[39;49m\u001B[38;5;241;43m1\u001B[39;49m\u001B[43m)\u001B[49m\u001B[43m,\u001B[49m\n\u001B[0;32m    662\u001B[0m \u001B[43m            \u001B[49m\u001B[43my\u001B[49m\u001B[38;5;241;43m=\u001B[39;49m\u001B[43my\u001B[49m\u001B[43m,\u001B[49m\n\u001B[0;32m    663\u001B[0m \u001B[43m            \u001B[49m\u001B[43mweight\u001B[49m\u001B[38;5;241;43m=\u001B[39;49m\u001B[43mweight\u001B[49m\u001B[43m,\u001B[49m\n\u001B[0;32m    664\u001B[0m \u001B[43m            \u001B[49m\u001B[43mmessage_clsname\u001B[49m\u001B[38;5;241;43m=\u001B[39;49m\u001B[38;5;124;43m\"\u001B[39;49m\u001B[38;5;124;43mColumnTransformer\u001B[39;49m\u001B[38;5;124;43m\"\u001B[39;49m\u001B[43m,\u001B[49m\n\u001B[0;32m    665\u001B[0m \u001B[43m            \u001B[49m\u001B[43mmessage\u001B[49m\u001B[38;5;241;43m=\u001B[39;49m\u001B[38;5;28;43mself\u001B[39;49m\u001B[38;5;241;43m.\u001B[39;49m\u001B[43m_log_message\u001B[49m\u001B[43m(\u001B[49m\u001B[43mname\u001B[49m\u001B[43m,\u001B[49m\u001B[43m \u001B[49m\u001B[43midx\u001B[49m\u001B[43m,\u001B[49m\u001B[43m \u001B[49m\u001B[38;5;28;43mlen\u001B[39;49m\u001B[43m(\u001B[49m\u001B[43mtransformers\u001B[49m\u001B[43m)\u001B[49m\u001B[43m)\u001B[49m\u001B[43m,\u001B[49m\n\u001B[0;32m    666\u001B[0m \u001B[43m        \u001B[49m\u001B[43m)\u001B[49m\n\u001B[0;32m    667\u001B[0m \u001B[43m        \u001B[49m\u001B[38;5;28;43;01mfor\u001B[39;49;00m\u001B[43m \u001B[49m\u001B[43midx\u001B[49m\u001B[43m,\u001B[49m\u001B[43m \u001B[49m\u001B[43m(\u001B[49m\u001B[43mname\u001B[49m\u001B[43m,\u001B[49m\u001B[43m \u001B[49m\u001B[43mtrans\u001B[49m\u001B[43m,\u001B[49m\u001B[43m \u001B[49m\u001B[43mcolumn\u001B[49m\u001B[43m,\u001B[49m\u001B[43m \u001B[49m\u001B[43mweight\u001B[49m\u001B[43m)\u001B[49m\u001B[43m \u001B[49m\u001B[38;5;129;43;01min\u001B[39;49;00m\u001B[43m \u001B[49m\u001B[38;5;28;43menumerate\u001B[39;49m\u001B[43m(\u001B[49m\u001B[43mtransformers\u001B[49m\u001B[43m,\u001B[49m\u001B[43m \u001B[49m\u001B[38;5;241;43m1\u001B[39;49m\u001B[43m)\u001B[49m\n\u001B[0;32m    668\u001B[0m \u001B[43m    \u001B[49m\u001B[43m)\u001B[49m\n\u001B[0;32m    669\u001B[0m \u001B[38;5;28;01mexcept\u001B[39;00m \u001B[38;5;167;01mValueError\u001B[39;00m \u001B[38;5;28;01mas\u001B[39;00m e:\n\u001B[0;32m    670\u001B[0m     \u001B[38;5;28;01mif\u001B[39;00m \u001B[38;5;124m\"\u001B[39m\u001B[38;5;124mExpected 2D array, got 1D array instead\u001B[39m\u001B[38;5;124m\"\u001B[39m \u001B[38;5;129;01min\u001B[39;00m \u001B[38;5;28mstr\u001B[39m(e):\n",
      "File \u001B[1;32mC:\\ProgramData\\anaconda3\\lib\\site-packages\\sklearn\\utils\\parallel.py:63\u001B[0m, in \u001B[0;36mParallel.__call__\u001B[1;34m(self, iterable)\u001B[0m\n\u001B[0;32m     58\u001B[0m config \u001B[38;5;241m=\u001B[39m get_config()\n\u001B[0;32m     59\u001B[0m iterable_with_config \u001B[38;5;241m=\u001B[39m (\n\u001B[0;32m     60\u001B[0m     (_with_config(delayed_func, config), args, kwargs)\n\u001B[0;32m     61\u001B[0m     \u001B[38;5;28;01mfor\u001B[39;00m delayed_func, args, kwargs \u001B[38;5;129;01min\u001B[39;00m iterable\n\u001B[0;32m     62\u001B[0m )\n\u001B[1;32m---> 63\u001B[0m \u001B[38;5;28;01mreturn\u001B[39;00m \u001B[38;5;28;43msuper\u001B[39;49m\u001B[43m(\u001B[49m\u001B[43m)\u001B[49m\u001B[38;5;241;43m.\u001B[39;49m\u001B[38;5;21;43m__call__\u001B[39;49m\u001B[43m(\u001B[49m\u001B[43miterable_with_config\u001B[49m\u001B[43m)\u001B[49m\n",
      "File \u001B[1;32mC:\\ProgramData\\anaconda3\\lib\\site-packages\\joblib\\parallel.py:1048\u001B[0m, in \u001B[0;36mParallel.__call__\u001B[1;34m(self, iterable)\u001B[0m\n\u001B[0;32m   1039\u001B[0m \u001B[38;5;28;01mtry\u001B[39;00m:\n\u001B[0;32m   1040\u001B[0m     \u001B[38;5;66;03m# Only set self._iterating to True if at least a batch\u001B[39;00m\n\u001B[0;32m   1041\u001B[0m     \u001B[38;5;66;03m# was dispatched. In particular this covers the edge\u001B[39;00m\n\u001B[1;32m   (...)\u001B[0m\n\u001B[0;32m   1045\u001B[0m     \u001B[38;5;66;03m# was very quick and its callback already dispatched all the\u001B[39;00m\n\u001B[0;32m   1046\u001B[0m     \u001B[38;5;66;03m# remaining jobs.\u001B[39;00m\n\u001B[0;32m   1047\u001B[0m     \u001B[38;5;28mself\u001B[39m\u001B[38;5;241m.\u001B[39m_iterating \u001B[38;5;241m=\u001B[39m \u001B[38;5;28;01mFalse\u001B[39;00m\n\u001B[1;32m-> 1048\u001B[0m     \u001B[38;5;28;01mif\u001B[39;00m \u001B[38;5;28;43mself\u001B[39;49m\u001B[38;5;241;43m.\u001B[39;49m\u001B[43mdispatch_one_batch\u001B[49m\u001B[43m(\u001B[49m\u001B[43miterator\u001B[49m\u001B[43m)\u001B[49m:\n\u001B[0;32m   1049\u001B[0m         \u001B[38;5;28mself\u001B[39m\u001B[38;5;241m.\u001B[39m_iterating \u001B[38;5;241m=\u001B[39m \u001B[38;5;28mself\u001B[39m\u001B[38;5;241m.\u001B[39m_original_iterator \u001B[38;5;129;01mis\u001B[39;00m \u001B[38;5;129;01mnot\u001B[39;00m \u001B[38;5;28;01mNone\u001B[39;00m\n\u001B[0;32m   1051\u001B[0m     \u001B[38;5;28;01mwhile\u001B[39;00m \u001B[38;5;28mself\u001B[39m\u001B[38;5;241m.\u001B[39mdispatch_one_batch(iterator):\n",
      "File \u001B[1;32mC:\\ProgramData\\anaconda3\\lib\\site-packages\\joblib\\parallel.py:864\u001B[0m, in \u001B[0;36mParallel.dispatch_one_batch\u001B[1;34m(self, iterator)\u001B[0m\n\u001B[0;32m    862\u001B[0m     \u001B[38;5;28;01mreturn\u001B[39;00m \u001B[38;5;28;01mFalse\u001B[39;00m\n\u001B[0;32m    863\u001B[0m \u001B[38;5;28;01melse\u001B[39;00m:\n\u001B[1;32m--> 864\u001B[0m     \u001B[38;5;28;43mself\u001B[39;49m\u001B[38;5;241;43m.\u001B[39;49m\u001B[43m_dispatch\u001B[49m\u001B[43m(\u001B[49m\u001B[43mtasks\u001B[49m\u001B[43m)\u001B[49m\n\u001B[0;32m    865\u001B[0m     \u001B[38;5;28;01mreturn\u001B[39;00m \u001B[38;5;28;01mTrue\u001B[39;00m\n",
      "File \u001B[1;32mC:\\ProgramData\\anaconda3\\lib\\site-packages\\joblib\\parallel.py:782\u001B[0m, in \u001B[0;36mParallel._dispatch\u001B[1;34m(self, batch)\u001B[0m\n\u001B[0;32m    780\u001B[0m \u001B[38;5;28;01mwith\u001B[39;00m \u001B[38;5;28mself\u001B[39m\u001B[38;5;241m.\u001B[39m_lock:\n\u001B[0;32m    781\u001B[0m     job_idx \u001B[38;5;241m=\u001B[39m \u001B[38;5;28mlen\u001B[39m(\u001B[38;5;28mself\u001B[39m\u001B[38;5;241m.\u001B[39m_jobs)\n\u001B[1;32m--> 782\u001B[0m     job \u001B[38;5;241m=\u001B[39m \u001B[38;5;28;43mself\u001B[39;49m\u001B[38;5;241;43m.\u001B[39;49m\u001B[43m_backend\u001B[49m\u001B[38;5;241;43m.\u001B[39;49m\u001B[43mapply_async\u001B[49m\u001B[43m(\u001B[49m\u001B[43mbatch\u001B[49m\u001B[43m,\u001B[49m\u001B[43m \u001B[49m\u001B[43mcallback\u001B[49m\u001B[38;5;241;43m=\u001B[39;49m\u001B[43mcb\u001B[49m\u001B[43m)\u001B[49m\n\u001B[0;32m    783\u001B[0m     \u001B[38;5;66;03m# A job can complete so quickly than its callback is\u001B[39;00m\n\u001B[0;32m    784\u001B[0m     \u001B[38;5;66;03m# called before we get here, causing self._jobs to\u001B[39;00m\n\u001B[0;32m    785\u001B[0m     \u001B[38;5;66;03m# grow. To ensure correct results ordering, .insert is\u001B[39;00m\n\u001B[0;32m    786\u001B[0m     \u001B[38;5;66;03m# used (rather than .append) in the following line\u001B[39;00m\n\u001B[0;32m    787\u001B[0m     \u001B[38;5;28mself\u001B[39m\u001B[38;5;241m.\u001B[39m_jobs\u001B[38;5;241m.\u001B[39minsert(job_idx, job)\n",
      "File \u001B[1;32mC:\\ProgramData\\anaconda3\\lib\\site-packages\\joblib\\_parallel_backends.py:208\u001B[0m, in \u001B[0;36mSequentialBackend.apply_async\u001B[1;34m(self, func, callback)\u001B[0m\n\u001B[0;32m    206\u001B[0m \u001B[38;5;28;01mdef\u001B[39;00m \u001B[38;5;21mapply_async\u001B[39m(\u001B[38;5;28mself\u001B[39m, func, callback\u001B[38;5;241m=\u001B[39m\u001B[38;5;28;01mNone\u001B[39;00m):\n\u001B[0;32m    207\u001B[0m     \u001B[38;5;124;03m\"\"\"Schedule a func to be run\"\"\"\u001B[39;00m\n\u001B[1;32m--> 208\u001B[0m     result \u001B[38;5;241m=\u001B[39m \u001B[43mImmediateResult\u001B[49m\u001B[43m(\u001B[49m\u001B[43mfunc\u001B[49m\u001B[43m)\u001B[49m\n\u001B[0;32m    209\u001B[0m     \u001B[38;5;28;01mif\u001B[39;00m callback:\n\u001B[0;32m    210\u001B[0m         callback(result)\n",
      "File \u001B[1;32mC:\\ProgramData\\anaconda3\\lib\\site-packages\\joblib\\_parallel_backends.py:572\u001B[0m, in \u001B[0;36mImmediateResult.__init__\u001B[1;34m(self, batch)\u001B[0m\n\u001B[0;32m    569\u001B[0m \u001B[38;5;28;01mdef\u001B[39;00m \u001B[38;5;21m__init__\u001B[39m(\u001B[38;5;28mself\u001B[39m, batch):\n\u001B[0;32m    570\u001B[0m     \u001B[38;5;66;03m# Don't delay the application, to avoid keeping the input\u001B[39;00m\n\u001B[0;32m    571\u001B[0m     \u001B[38;5;66;03m# arguments in memory\u001B[39;00m\n\u001B[1;32m--> 572\u001B[0m     \u001B[38;5;28mself\u001B[39m\u001B[38;5;241m.\u001B[39mresults \u001B[38;5;241m=\u001B[39m \u001B[43mbatch\u001B[49m\u001B[43m(\u001B[49m\u001B[43m)\u001B[49m\n",
      "File \u001B[1;32mC:\\ProgramData\\anaconda3\\lib\\site-packages\\joblib\\parallel.py:263\u001B[0m, in \u001B[0;36mBatchedCalls.__call__\u001B[1;34m(self)\u001B[0m\n\u001B[0;32m    259\u001B[0m \u001B[38;5;28;01mdef\u001B[39;00m \u001B[38;5;21m__call__\u001B[39m(\u001B[38;5;28mself\u001B[39m):\n\u001B[0;32m    260\u001B[0m     \u001B[38;5;66;03m# Set the default nested backend to self._backend but do not set the\u001B[39;00m\n\u001B[0;32m    261\u001B[0m     \u001B[38;5;66;03m# change the default number of processes to -1\u001B[39;00m\n\u001B[0;32m    262\u001B[0m     \u001B[38;5;28;01mwith\u001B[39;00m parallel_backend(\u001B[38;5;28mself\u001B[39m\u001B[38;5;241m.\u001B[39m_backend, n_jobs\u001B[38;5;241m=\u001B[39m\u001B[38;5;28mself\u001B[39m\u001B[38;5;241m.\u001B[39m_n_jobs):\n\u001B[1;32m--> 263\u001B[0m         \u001B[38;5;28;01mreturn\u001B[39;00m [func(\u001B[38;5;241m*\u001B[39margs, \u001B[38;5;241m*\u001B[39m\u001B[38;5;241m*\u001B[39mkwargs)\n\u001B[0;32m    264\u001B[0m                 \u001B[38;5;28;01mfor\u001B[39;00m func, args, kwargs \u001B[38;5;129;01min\u001B[39;00m \u001B[38;5;28mself\u001B[39m\u001B[38;5;241m.\u001B[39mitems]\n",
      "File \u001B[1;32mC:\\ProgramData\\anaconda3\\lib\\site-packages\\joblib\\parallel.py:263\u001B[0m, in \u001B[0;36m<listcomp>\u001B[1;34m(.0)\u001B[0m\n\u001B[0;32m    259\u001B[0m \u001B[38;5;28;01mdef\u001B[39;00m \u001B[38;5;21m__call__\u001B[39m(\u001B[38;5;28mself\u001B[39m):\n\u001B[0;32m    260\u001B[0m     \u001B[38;5;66;03m# Set the default nested backend to self._backend but do not set the\u001B[39;00m\n\u001B[0;32m    261\u001B[0m     \u001B[38;5;66;03m# change the default number of processes to -1\u001B[39;00m\n\u001B[0;32m    262\u001B[0m     \u001B[38;5;28;01mwith\u001B[39;00m parallel_backend(\u001B[38;5;28mself\u001B[39m\u001B[38;5;241m.\u001B[39m_backend, n_jobs\u001B[38;5;241m=\u001B[39m\u001B[38;5;28mself\u001B[39m\u001B[38;5;241m.\u001B[39m_n_jobs):\n\u001B[1;32m--> 263\u001B[0m         \u001B[38;5;28;01mreturn\u001B[39;00m [func(\u001B[38;5;241m*\u001B[39margs, \u001B[38;5;241m*\u001B[39m\u001B[38;5;241m*\u001B[39mkwargs)\n\u001B[0;32m    264\u001B[0m                 \u001B[38;5;28;01mfor\u001B[39;00m func, args, kwargs \u001B[38;5;129;01min\u001B[39;00m \u001B[38;5;28mself\u001B[39m\u001B[38;5;241m.\u001B[39mitems]\n",
      "File \u001B[1;32mC:\\ProgramData\\anaconda3\\lib\\site-packages\\sklearn\\utils\\parallel.py:123\u001B[0m, in \u001B[0;36m_FuncWrapper.__call__\u001B[1;34m(self, *args, **kwargs)\u001B[0m\n\u001B[0;32m    121\u001B[0m     config \u001B[38;5;241m=\u001B[39m {}\n\u001B[0;32m    122\u001B[0m \u001B[38;5;28;01mwith\u001B[39;00m config_context(\u001B[38;5;241m*\u001B[39m\u001B[38;5;241m*\u001B[39mconfig):\n\u001B[1;32m--> 123\u001B[0m     \u001B[38;5;28;01mreturn\u001B[39;00m \u001B[38;5;28mself\u001B[39m\u001B[38;5;241m.\u001B[39mfunction(\u001B[38;5;241m*\u001B[39margs, \u001B[38;5;241m*\u001B[39m\u001B[38;5;241m*\u001B[39mkwargs)\n",
      "File \u001B[1;32mC:\\ProgramData\\anaconda3\\lib\\site-packages\\sklearn\\pipeline.py:893\u001B[0m, in \u001B[0;36m_fit_transform_one\u001B[1;34m(transformer, X, y, weight, message_clsname, message, **fit_params)\u001B[0m\n\u001B[0;32m    891\u001B[0m \u001B[38;5;28;01mwith\u001B[39;00m _print_elapsed_time(message_clsname, message):\n\u001B[0;32m    892\u001B[0m     \u001B[38;5;28;01mif\u001B[39;00m \u001B[38;5;28mhasattr\u001B[39m(transformer, \u001B[38;5;124m\"\u001B[39m\u001B[38;5;124mfit_transform\u001B[39m\u001B[38;5;124m\"\u001B[39m):\n\u001B[1;32m--> 893\u001B[0m         res \u001B[38;5;241m=\u001B[39m transformer\u001B[38;5;241m.\u001B[39mfit_transform(X, y, \u001B[38;5;241m*\u001B[39m\u001B[38;5;241m*\u001B[39mfit_params)\n\u001B[0;32m    894\u001B[0m     \u001B[38;5;28;01melse\u001B[39;00m:\n\u001B[0;32m    895\u001B[0m         res \u001B[38;5;241m=\u001B[39m transformer\u001B[38;5;241m.\u001B[39mfit(X, y, \u001B[38;5;241m*\u001B[39m\u001B[38;5;241m*\u001B[39mfit_params)\u001B[38;5;241m.\u001B[39mtransform(X)\n",
      "File \u001B[1;32mC:\\ProgramData\\anaconda3\\lib\\site-packages\\sklearn\\pipeline.py:437\u001B[0m, in \u001B[0;36mPipeline.fit_transform\u001B[1;34m(self, X, y, **fit_params)\u001B[0m\n\u001B[0;32m    410\u001B[0m \u001B[38;5;124;03m\"\"\"Fit the model and transform with the final estimator.\u001B[39;00m\n\u001B[0;32m    411\u001B[0m \n\u001B[0;32m    412\u001B[0m \u001B[38;5;124;03mFits all the transformers one after the other and transform the\u001B[39;00m\n\u001B[1;32m   (...)\u001B[0m\n\u001B[0;32m    434\u001B[0m \u001B[38;5;124;03m    Transformed samples.\u001B[39;00m\n\u001B[0;32m    435\u001B[0m \u001B[38;5;124;03m\"\"\"\u001B[39;00m\n\u001B[0;32m    436\u001B[0m fit_params_steps \u001B[38;5;241m=\u001B[39m \u001B[38;5;28mself\u001B[39m\u001B[38;5;241m.\u001B[39m_check_fit_params(\u001B[38;5;241m*\u001B[39m\u001B[38;5;241m*\u001B[39mfit_params)\n\u001B[1;32m--> 437\u001B[0m Xt \u001B[38;5;241m=\u001B[39m \u001B[38;5;28mself\u001B[39m\u001B[38;5;241m.\u001B[39m_fit(X, y, \u001B[38;5;241m*\u001B[39m\u001B[38;5;241m*\u001B[39mfit_params_steps)\n\u001B[0;32m    439\u001B[0m last_step \u001B[38;5;241m=\u001B[39m \u001B[38;5;28mself\u001B[39m\u001B[38;5;241m.\u001B[39m_final_estimator\n\u001B[0;32m    440\u001B[0m \u001B[38;5;28;01mwith\u001B[39;00m _print_elapsed_time(\u001B[38;5;124m\"\u001B[39m\u001B[38;5;124mPipeline\u001B[39m\u001B[38;5;124m\"\u001B[39m, \u001B[38;5;28mself\u001B[39m\u001B[38;5;241m.\u001B[39m_log_message(\u001B[38;5;28mlen\u001B[39m(\u001B[38;5;28mself\u001B[39m\u001B[38;5;241m.\u001B[39msteps) \u001B[38;5;241m-\u001B[39m \u001B[38;5;241m1\u001B[39m)):\n",
      "File \u001B[1;32mC:\\ProgramData\\anaconda3\\lib\\site-packages\\sklearn\\pipeline.py:359\u001B[0m, in \u001B[0;36mPipeline._fit\u001B[1;34m(self, X, y, **fit_params_steps)\u001B[0m\n\u001B[0;32m    357\u001B[0m     cloned_transformer \u001B[38;5;241m=\u001B[39m clone(transformer)\n\u001B[0;32m    358\u001B[0m \u001B[38;5;66;03m# Fit or load from cache the current transformer\u001B[39;00m\n\u001B[1;32m--> 359\u001B[0m X, fitted_transformer \u001B[38;5;241m=\u001B[39m fit_transform_one_cached(\n\u001B[0;32m    360\u001B[0m     cloned_transformer,\n\u001B[0;32m    361\u001B[0m     X,\n\u001B[0;32m    362\u001B[0m     y,\n\u001B[0;32m    363\u001B[0m     \u001B[38;5;28;01mNone\u001B[39;00m,\n\u001B[0;32m    364\u001B[0m     message_clsname\u001B[38;5;241m=\u001B[39m\u001B[38;5;124m\"\u001B[39m\u001B[38;5;124mPipeline\u001B[39m\u001B[38;5;124m\"\u001B[39m,\n\u001B[0;32m    365\u001B[0m     message\u001B[38;5;241m=\u001B[39m\u001B[38;5;28mself\u001B[39m\u001B[38;5;241m.\u001B[39m_log_message(step_idx),\n\u001B[0;32m    366\u001B[0m     \u001B[38;5;241m*\u001B[39m\u001B[38;5;241m*\u001B[39mfit_params_steps[name],\n\u001B[0;32m    367\u001B[0m )\n\u001B[0;32m    368\u001B[0m \u001B[38;5;66;03m# Replace the transformer of the step with the fitted\u001B[39;00m\n\u001B[0;32m    369\u001B[0m \u001B[38;5;66;03m# transformer. This is necessary when loading the transformer\u001B[39;00m\n\u001B[0;32m    370\u001B[0m \u001B[38;5;66;03m# from the cache.\u001B[39;00m\n\u001B[0;32m    371\u001B[0m \u001B[38;5;28mself\u001B[39m\u001B[38;5;241m.\u001B[39msteps[step_idx] \u001B[38;5;241m=\u001B[39m (name, fitted_transformer)\n",
      "File \u001B[1;32mC:\\ProgramData\\anaconda3\\lib\\site-packages\\joblib\\memory.py:349\u001B[0m, in \u001B[0;36mNotMemorizedFunc.__call__\u001B[1;34m(self, *args, **kwargs)\u001B[0m\n\u001B[0;32m    348\u001B[0m \u001B[38;5;28;01mdef\u001B[39;00m \u001B[38;5;21m__call__\u001B[39m(\u001B[38;5;28mself\u001B[39m, \u001B[38;5;241m*\u001B[39margs, \u001B[38;5;241m*\u001B[39m\u001B[38;5;241m*\u001B[39mkwargs):\n\u001B[1;32m--> 349\u001B[0m     \u001B[38;5;28;01mreturn\u001B[39;00m \u001B[38;5;28mself\u001B[39m\u001B[38;5;241m.\u001B[39mfunc(\u001B[38;5;241m*\u001B[39margs, \u001B[38;5;241m*\u001B[39m\u001B[38;5;241m*\u001B[39mkwargs)\n",
      "File \u001B[1;32mC:\\ProgramData\\anaconda3\\lib\\site-packages\\sklearn\\pipeline.py:893\u001B[0m, in \u001B[0;36m_fit_transform_one\u001B[1;34m(transformer, X, y, weight, message_clsname, message, **fit_params)\u001B[0m\n\u001B[0;32m    891\u001B[0m \u001B[38;5;28;01mwith\u001B[39;00m _print_elapsed_time(message_clsname, message):\n\u001B[0;32m    892\u001B[0m     \u001B[38;5;28;01mif\u001B[39;00m \u001B[38;5;28mhasattr\u001B[39m(transformer, \u001B[38;5;124m\"\u001B[39m\u001B[38;5;124mfit_transform\u001B[39m\u001B[38;5;124m\"\u001B[39m):\n\u001B[1;32m--> 893\u001B[0m         res \u001B[38;5;241m=\u001B[39m transformer\u001B[38;5;241m.\u001B[39mfit_transform(X, y, \u001B[38;5;241m*\u001B[39m\u001B[38;5;241m*\u001B[39mfit_params)\n\u001B[0;32m    894\u001B[0m     \u001B[38;5;28;01melse\u001B[39;00m:\n\u001B[0;32m    895\u001B[0m         res \u001B[38;5;241m=\u001B[39m transformer\u001B[38;5;241m.\u001B[39mfit(X, y, \u001B[38;5;241m*\u001B[39m\u001B[38;5;241m*\u001B[39mfit_params)\u001B[38;5;241m.\u001B[39mtransform(X)\n",
      "File \u001B[1;32mC:\\ProgramData\\anaconda3\\lib\\site-packages\\sklearn\\utils\\_set_output.py:142\u001B[0m, in \u001B[0;36m_wrap_method_output.<locals>.wrapped\u001B[1;34m(self, X, *args, **kwargs)\u001B[0m\n\u001B[0;32m    140\u001B[0m \u001B[38;5;129m@wraps\u001B[39m(f)\n\u001B[0;32m    141\u001B[0m \u001B[38;5;28;01mdef\u001B[39;00m \u001B[38;5;21mwrapped\u001B[39m(\u001B[38;5;28mself\u001B[39m, X, \u001B[38;5;241m*\u001B[39margs, \u001B[38;5;241m*\u001B[39m\u001B[38;5;241m*\u001B[39mkwargs):\n\u001B[1;32m--> 142\u001B[0m     data_to_wrap \u001B[38;5;241m=\u001B[39m f(\u001B[38;5;28mself\u001B[39m, X, \u001B[38;5;241m*\u001B[39margs, \u001B[38;5;241m*\u001B[39m\u001B[38;5;241m*\u001B[39mkwargs)\n\u001B[0;32m    143\u001B[0m     \u001B[38;5;28;01mif\u001B[39;00m \u001B[38;5;28misinstance\u001B[39m(data_to_wrap, \u001B[38;5;28mtuple\u001B[39m):\n\u001B[0;32m    144\u001B[0m         \u001B[38;5;66;03m# only wrap the first output for cross decomposition\u001B[39;00m\n\u001B[0;32m    145\u001B[0m         \u001B[38;5;28;01mreturn\u001B[39;00m (\n\u001B[0;32m    146\u001B[0m             _wrap_data_with_container(method, data_to_wrap[\u001B[38;5;241m0\u001B[39m], X, \u001B[38;5;28mself\u001B[39m),\n\u001B[0;32m    147\u001B[0m             \u001B[38;5;241m*\u001B[39mdata_to_wrap[\u001B[38;5;241m1\u001B[39m:],\n\u001B[0;32m    148\u001B[0m         )\n",
      "File \u001B[1;32mC:\\ProgramData\\anaconda3\\lib\\site-packages\\sklearn\\base.py:859\u001B[0m, in \u001B[0;36mTransformerMixin.fit_transform\u001B[1;34m(self, X, y, **fit_params)\u001B[0m\n\u001B[0;32m    855\u001B[0m \u001B[38;5;66;03m# non-optimized default implementation; override when a better\u001B[39;00m\n\u001B[0;32m    856\u001B[0m \u001B[38;5;66;03m# method is possible for a given clustering algorithm\u001B[39;00m\n\u001B[0;32m    857\u001B[0m \u001B[38;5;28;01mif\u001B[39;00m y \u001B[38;5;129;01mis\u001B[39;00m \u001B[38;5;28;01mNone\u001B[39;00m:\n\u001B[0;32m    858\u001B[0m     \u001B[38;5;66;03m# fit method of arity 1 (unsupervised transformation)\u001B[39;00m\n\u001B[1;32m--> 859\u001B[0m     \u001B[38;5;28;01mreturn\u001B[39;00m \u001B[38;5;28mself\u001B[39m\u001B[38;5;241m.\u001B[39mfit(X, \u001B[38;5;241m*\u001B[39m\u001B[38;5;241m*\u001B[39mfit_params)\u001B[38;5;241m.\u001B[39mtransform(X)\n\u001B[0;32m    860\u001B[0m \u001B[38;5;28;01melse\u001B[39;00m:\n\u001B[0;32m    861\u001B[0m     \u001B[38;5;66;03m# fit method of arity 2 (supervised transformation)\u001B[39;00m\n\u001B[0;32m    862\u001B[0m     \u001B[38;5;28;01mreturn\u001B[39;00m \u001B[38;5;28mself\u001B[39m\u001B[38;5;241m.\u001B[39mfit(X, y, \u001B[38;5;241m*\u001B[39m\u001B[38;5;241m*\u001B[39mfit_params)\u001B[38;5;241m.\u001B[39mtransform(X)\n",
      "File \u001B[1;32mC:\\ProgramData\\anaconda3\\lib\\site-packages\\sklearn\\impute\\_base.py:408\u001B[0m, in \u001B[0;36mSimpleImputer.fit\u001B[1;34m(self, X, y)\u001B[0m\n\u001B[0;32m    402\u001B[0m \u001B[38;5;66;03m# fill_value should be numerical in case of numerical input\u001B[39;00m\n\u001B[0;32m    403\u001B[0m \u001B[38;5;28;01mif\u001B[39;00m (\n\u001B[0;32m    404\u001B[0m     \u001B[38;5;28mself\u001B[39m\u001B[38;5;241m.\u001B[39mstrategy \u001B[38;5;241m==\u001B[39m \u001B[38;5;124m\"\u001B[39m\u001B[38;5;124mconstant\u001B[39m\u001B[38;5;124m\"\u001B[39m\n\u001B[0;32m    405\u001B[0m     \u001B[38;5;129;01mand\u001B[39;00m X\u001B[38;5;241m.\u001B[39mdtype\u001B[38;5;241m.\u001B[39mkind \u001B[38;5;129;01min\u001B[39;00m (\u001B[38;5;124m\"\u001B[39m\u001B[38;5;124mi\u001B[39m\u001B[38;5;124m\"\u001B[39m, \u001B[38;5;124m\"\u001B[39m\u001B[38;5;124mu\u001B[39m\u001B[38;5;124m\"\u001B[39m, \u001B[38;5;124m\"\u001B[39m\u001B[38;5;124mf\u001B[39m\u001B[38;5;124m\"\u001B[39m)\n\u001B[0;32m    406\u001B[0m     \u001B[38;5;129;01mand\u001B[39;00m \u001B[38;5;129;01mnot\u001B[39;00m \u001B[38;5;28misinstance\u001B[39m(fill_value, numbers\u001B[38;5;241m.\u001B[39mReal)\n\u001B[0;32m    407\u001B[0m ):\n\u001B[1;32m--> 408\u001B[0m     \u001B[38;5;28;01mraise\u001B[39;00m \u001B[38;5;167;01mValueError\u001B[39;00m(\n\u001B[0;32m    409\u001B[0m         \u001B[38;5;124m\"\u001B[39m\u001B[38;5;124m'\u001B[39m\u001B[38;5;124mfill_value\u001B[39m\u001B[38;5;124m'\u001B[39m\u001B[38;5;124m=\u001B[39m\u001B[38;5;132;01m{0}\u001B[39;00m\u001B[38;5;124m is invalid. Expected a \u001B[39m\u001B[38;5;124m\"\u001B[39m\n\u001B[0;32m    410\u001B[0m         \u001B[38;5;124m\"\u001B[39m\u001B[38;5;124mnumerical value when imputing numerical \u001B[39m\u001B[38;5;124m\"\u001B[39m\n\u001B[0;32m    411\u001B[0m         \u001B[38;5;124m\"\u001B[39m\u001B[38;5;124mdata\u001B[39m\u001B[38;5;124m\"\u001B[39m\u001B[38;5;241m.\u001B[39mformat(fill_value)\n\u001B[0;32m    412\u001B[0m     )\n\u001B[0;32m    414\u001B[0m \u001B[38;5;28;01mif\u001B[39;00m sp\u001B[38;5;241m.\u001B[39missparse(X):\n\u001B[0;32m    415\u001B[0m     \u001B[38;5;66;03m# missing_values = 0 not allowed with sparse data as it would\u001B[39;00m\n\u001B[0;32m    416\u001B[0m     \u001B[38;5;66;03m# force densification\u001B[39;00m\n\u001B[0;32m    417\u001B[0m     \u001B[38;5;28;01mif\u001B[39;00m \u001B[38;5;28mself\u001B[39m\u001B[38;5;241m.\u001B[39mmissing_values \u001B[38;5;241m==\u001B[39m \u001B[38;5;241m0\u001B[39m:\n",
      "\u001B[1;31mValueError\u001B[0m: 'fill_value'=missing is invalid. Expected a numerical value when imputing numerical data"
     ]
    }
   ],
   "source": [
    "preprocessor.fit_transform(tX)"
   ],
   "metadata": {
    "collapsed": false
   }
  },
  {
   "cell_type": "code",
   "execution_count": 494,
   "outputs": [],
   "source": [
    "ttX=tX.dropna()"
   ],
   "metadata": {
    "collapsed": false,
    "ExecuteTime": {
     "start_time": "2023-04-27T09:46:07.674840Z",
     "end_time": "2023-04-27T09:46:07.706171Z"
    }
   }
  },
  {
   "cell_type": "code",
   "execution_count": 496,
   "outputs": [
    {
     "data": {
      "text/plain": "    is_herb  is_omni  is_carnivorous  short_period  taxonomy  lived_in  \\\n0         1        0               0           1.0       2.0      27.0   \n2         0        0               1           1.0      60.0       2.0   \n3         0        0               1           2.0      29.0       2.0   \n5         0        0               0           1.0      45.0       4.0   \n6         1        0               0           5.0      52.0       2.0   \n8         0        0               1           4.0      10.0       9.0   \n9         0        1               0           1.0       6.0       4.0   \n10        1        0               0           2.0       3.0       1.0   \n13        1        0               0           1.0      20.0       0.0   \n14        1        0               0           3.0      15.0       1.0   \n15        0        1               0           1.0       4.0       6.0   \n18        1        0               0           3.0      28.0       1.0   \n19        1        0               0           3.0       8.0       1.0   \n20        1        0               0           1.0      86.0       4.0   \n21        1        0               0           1.0      33.0       2.0   \n22        1        0               0           1.0      33.0      26.0   \n23        1        0               0           1.0       9.0       2.0   \n24        1        0               0           2.0      73.0       3.0   \n25        1        0               0           1.0      57.0       4.0   \n26        1        0               0           5.0      31.0       8.0   \n27        0        0               1           1.0      49.0       0.0   \n28        0        0               1           1.0      74.0       0.0   \n29        1        0               0           1.0      27.0       2.0   \n30        1        0               0           1.0       1.0       2.0   \n32        0        1               0           1.0      23.0       4.0   \n33        1        0               0           2.0      61.0       2.0   \n35        0        0               1           3.0      79.0       2.0   \n39        1        0               0           1.0      57.0       4.0   \n40        0        0               1           1.0      45.0       0.0   \n41        1        0               0           2.0       3.0      23.0   \n42        0        0               1           3.0      16.0      16.0   \n43        0        0               1           5.0      35.0      17.0   \n44        1        0               0           1.0       1.0       2.0   \n45        0        0               1           1.0      14.0       2.0   \n46        1        0               0           4.0      38.0       9.0   \n48        0        0               1           2.0      67.0      23.0   \n49        0        0               1           1.0      72.0      25.0   \n50        1        0               0           1.0      18.0       0.0   \n51        0        0               1           3.0      75.0      17.0   \n53        1        0               0           2.0       3.0      20.0   \n57        1        0               0           3.0      11.0       1.0   \n58        1        0               0           1.0      27.0       4.0   \n59        0        0               1           1.0      16.0      14.0   \n60        1        0               0           1.0       9.0       6.0   \n61        1        0               0           1.0       8.0       6.0   \n\n    taxonomy_end  taxonomy_before_end  length  \n0            2.0                  2.0     5.0  \n2           60.0                 12.0     8.6  \n3           29.0                 15.0    12.0  \n5           45.0                 38.0     1.0  \n6           52.0                  0.0     2.0  \n8           10.0                 10.0     6.2  \n9            6.0                  6.0     2.1  \n10           3.0                  3.0     6.0  \n13          20.0                 18.0     3.0  \n14          15.0                 13.0    15.0  \n15           4.0                  4.0     3.5  \n18          28.0                 24.0    10.0  \n19           8.0                  8.0     3.0  \n20          86.0                  7.0    23.0  \n21          33.0                  1.0     7.6  \n22          33.0                  1.0     8.0  \n23           9.0                  9.0     6.0  \n24          73.0                 55.0     3.0  \n25          57.0                 45.0     1.8  \n26          31.0                 26.0    14.0  \n27          49.0                 41.0     2.4  \n28          74.0                 56.0     1.0  \n29          27.0                 23.0     7.0  \n30           1.0                  1.0    11.0  \n32          23.0                 21.0    10.0  \n33          61.0                 23.0     5.0  \n35          79.0                 42.0     0.9  \n39          57.0                 45.0     0.5  \n40          45.0                 38.0     2.0  \n41           3.0                  3.0     7.0  \n42          16.0                 14.0     1.0  \n43          35.0                 29.0     6.2  \n44           1.0                  1.0     9.0  \n45          14.0                 12.0    12.0  \n46          38.0                 32.0    20.0  \n48          67.0                 51.0     9.0  \n49          72.0                 54.0     6.0  \n50          18.0                 16.0    12.0  \n51          75.0                 51.0     9.0  \n53           3.0                  3.0     4.7  \n57          11.0                 11.0     5.0  \n58          27.0                 23.0     6.0  \n59          16.0                 14.0     8.1  \n60           9.0                  9.0     6.0  \n61           8.0                  8.0     3.0  ",
      "text/html": "<div>\n<style scoped>\n    .dataframe tbody tr th:only-of-type {\n        vertical-align: middle;\n    }\n\n    .dataframe tbody tr th {\n        vertical-align: top;\n    }\n\n    .dataframe thead th {\n        text-align: right;\n    }\n</style>\n<table border=\"1\" class=\"dataframe\">\n  <thead>\n    <tr style=\"text-align: right;\">\n      <th></th>\n      <th>is_herb</th>\n      <th>is_omni</th>\n      <th>is_carnivorous</th>\n      <th>short_period</th>\n      <th>taxonomy</th>\n      <th>lived_in</th>\n      <th>taxonomy_end</th>\n      <th>taxonomy_before_end</th>\n      <th>length</th>\n    </tr>\n  </thead>\n  <tbody>\n    <tr>\n      <th>0</th>\n      <td>1</td>\n      <td>0</td>\n      <td>0</td>\n      <td>1.0</td>\n      <td>2.0</td>\n      <td>27.0</td>\n      <td>2.0</td>\n      <td>2.0</td>\n      <td>5.0</td>\n    </tr>\n    <tr>\n      <th>2</th>\n      <td>0</td>\n      <td>0</td>\n      <td>1</td>\n      <td>1.0</td>\n      <td>60.0</td>\n      <td>2.0</td>\n      <td>60.0</td>\n      <td>12.0</td>\n      <td>8.6</td>\n    </tr>\n    <tr>\n      <th>3</th>\n      <td>0</td>\n      <td>0</td>\n      <td>1</td>\n      <td>2.0</td>\n      <td>29.0</td>\n      <td>2.0</td>\n      <td>29.0</td>\n      <td>15.0</td>\n      <td>12.0</td>\n    </tr>\n    <tr>\n      <th>5</th>\n      <td>0</td>\n      <td>0</td>\n      <td>0</td>\n      <td>1.0</td>\n      <td>45.0</td>\n      <td>4.0</td>\n      <td>45.0</td>\n      <td>38.0</td>\n      <td>1.0</td>\n    </tr>\n    <tr>\n      <th>6</th>\n      <td>1</td>\n      <td>0</td>\n      <td>0</td>\n      <td>5.0</td>\n      <td>52.0</td>\n      <td>2.0</td>\n      <td>52.0</td>\n      <td>0.0</td>\n      <td>2.0</td>\n    </tr>\n    <tr>\n      <th>8</th>\n      <td>0</td>\n      <td>0</td>\n      <td>1</td>\n      <td>4.0</td>\n      <td>10.0</td>\n      <td>9.0</td>\n      <td>10.0</td>\n      <td>10.0</td>\n      <td>6.2</td>\n    </tr>\n    <tr>\n      <th>9</th>\n      <td>0</td>\n      <td>1</td>\n      <td>0</td>\n      <td>1.0</td>\n      <td>6.0</td>\n      <td>4.0</td>\n      <td>6.0</td>\n      <td>6.0</td>\n      <td>2.1</td>\n    </tr>\n    <tr>\n      <th>10</th>\n      <td>1</td>\n      <td>0</td>\n      <td>0</td>\n      <td>2.0</td>\n      <td>3.0</td>\n      <td>1.0</td>\n      <td>3.0</td>\n      <td>3.0</td>\n      <td>6.0</td>\n    </tr>\n    <tr>\n      <th>13</th>\n      <td>1</td>\n      <td>0</td>\n      <td>0</td>\n      <td>1.0</td>\n      <td>20.0</td>\n      <td>0.0</td>\n      <td>20.0</td>\n      <td>18.0</td>\n      <td>3.0</td>\n    </tr>\n    <tr>\n      <th>14</th>\n      <td>1</td>\n      <td>0</td>\n      <td>0</td>\n      <td>3.0</td>\n      <td>15.0</td>\n      <td>1.0</td>\n      <td>15.0</td>\n      <td>13.0</td>\n      <td>15.0</td>\n    </tr>\n    <tr>\n      <th>15</th>\n      <td>0</td>\n      <td>1</td>\n      <td>0</td>\n      <td>1.0</td>\n      <td>4.0</td>\n      <td>6.0</td>\n      <td>4.0</td>\n      <td>4.0</td>\n      <td>3.5</td>\n    </tr>\n    <tr>\n      <th>18</th>\n      <td>1</td>\n      <td>0</td>\n      <td>0</td>\n      <td>3.0</td>\n      <td>28.0</td>\n      <td>1.0</td>\n      <td>28.0</td>\n      <td>24.0</td>\n      <td>10.0</td>\n    </tr>\n    <tr>\n      <th>19</th>\n      <td>1</td>\n      <td>0</td>\n      <td>0</td>\n      <td>3.0</td>\n      <td>8.0</td>\n      <td>1.0</td>\n      <td>8.0</td>\n      <td>8.0</td>\n      <td>3.0</td>\n    </tr>\n    <tr>\n      <th>20</th>\n      <td>1</td>\n      <td>0</td>\n      <td>0</td>\n      <td>1.0</td>\n      <td>86.0</td>\n      <td>4.0</td>\n      <td>86.0</td>\n      <td>7.0</td>\n      <td>23.0</td>\n    </tr>\n    <tr>\n      <th>21</th>\n      <td>1</td>\n      <td>0</td>\n      <td>0</td>\n      <td>1.0</td>\n      <td>33.0</td>\n      <td>2.0</td>\n      <td>33.0</td>\n      <td>1.0</td>\n      <td>7.6</td>\n    </tr>\n    <tr>\n      <th>22</th>\n      <td>1</td>\n      <td>0</td>\n      <td>0</td>\n      <td>1.0</td>\n      <td>33.0</td>\n      <td>26.0</td>\n      <td>33.0</td>\n      <td>1.0</td>\n      <td>8.0</td>\n    </tr>\n    <tr>\n      <th>23</th>\n      <td>1</td>\n      <td>0</td>\n      <td>0</td>\n      <td>1.0</td>\n      <td>9.0</td>\n      <td>2.0</td>\n      <td>9.0</td>\n      <td>9.0</td>\n      <td>6.0</td>\n    </tr>\n    <tr>\n      <th>24</th>\n      <td>1</td>\n      <td>0</td>\n      <td>0</td>\n      <td>2.0</td>\n      <td>73.0</td>\n      <td>3.0</td>\n      <td>73.0</td>\n      <td>55.0</td>\n      <td>3.0</td>\n    </tr>\n    <tr>\n      <th>25</th>\n      <td>1</td>\n      <td>0</td>\n      <td>0</td>\n      <td>1.0</td>\n      <td>57.0</td>\n      <td>4.0</td>\n      <td>57.0</td>\n      <td>45.0</td>\n      <td>1.8</td>\n    </tr>\n    <tr>\n      <th>26</th>\n      <td>1</td>\n      <td>0</td>\n      <td>0</td>\n      <td>5.0</td>\n      <td>31.0</td>\n      <td>8.0</td>\n      <td>31.0</td>\n      <td>26.0</td>\n      <td>14.0</td>\n    </tr>\n    <tr>\n      <th>27</th>\n      <td>0</td>\n      <td>0</td>\n      <td>1</td>\n      <td>1.0</td>\n      <td>49.0</td>\n      <td>0.0</td>\n      <td>49.0</td>\n      <td>41.0</td>\n      <td>2.4</td>\n    </tr>\n    <tr>\n      <th>28</th>\n      <td>0</td>\n      <td>0</td>\n      <td>1</td>\n      <td>1.0</td>\n      <td>74.0</td>\n      <td>0.0</td>\n      <td>74.0</td>\n      <td>56.0</td>\n      <td>1.0</td>\n    </tr>\n    <tr>\n      <th>29</th>\n      <td>1</td>\n      <td>0</td>\n      <td>0</td>\n      <td>1.0</td>\n      <td>27.0</td>\n      <td>2.0</td>\n      <td>27.0</td>\n      <td>23.0</td>\n      <td>7.0</td>\n    </tr>\n    <tr>\n      <th>30</th>\n      <td>1</td>\n      <td>0</td>\n      <td>0</td>\n      <td>1.0</td>\n      <td>1.0</td>\n      <td>2.0</td>\n      <td>1.0</td>\n      <td>1.0</td>\n      <td>11.0</td>\n    </tr>\n    <tr>\n      <th>32</th>\n      <td>0</td>\n      <td>1</td>\n      <td>0</td>\n      <td>1.0</td>\n      <td>23.0</td>\n      <td>4.0</td>\n      <td>23.0</td>\n      <td>21.0</td>\n      <td>10.0</td>\n    </tr>\n    <tr>\n      <th>33</th>\n      <td>1</td>\n      <td>0</td>\n      <td>0</td>\n      <td>2.0</td>\n      <td>61.0</td>\n      <td>2.0</td>\n      <td>61.0</td>\n      <td>23.0</td>\n      <td>5.0</td>\n    </tr>\n    <tr>\n      <th>35</th>\n      <td>0</td>\n      <td>0</td>\n      <td>1</td>\n      <td>3.0</td>\n      <td>79.0</td>\n      <td>2.0</td>\n      <td>79.0</td>\n      <td>42.0</td>\n      <td>0.9</td>\n    </tr>\n    <tr>\n      <th>39</th>\n      <td>1</td>\n      <td>0</td>\n      <td>0</td>\n      <td>1.0</td>\n      <td>57.0</td>\n      <td>4.0</td>\n      <td>57.0</td>\n      <td>45.0</td>\n      <td>0.5</td>\n    </tr>\n    <tr>\n      <th>40</th>\n      <td>0</td>\n      <td>0</td>\n      <td>1</td>\n      <td>1.0</td>\n      <td>45.0</td>\n      <td>0.0</td>\n      <td>45.0</td>\n      <td>38.0</td>\n      <td>2.0</td>\n    </tr>\n    <tr>\n      <th>41</th>\n      <td>1</td>\n      <td>0</td>\n      <td>0</td>\n      <td>2.0</td>\n      <td>3.0</td>\n      <td>23.0</td>\n      <td>3.0</td>\n      <td>3.0</td>\n      <td>7.0</td>\n    </tr>\n    <tr>\n      <th>42</th>\n      <td>0</td>\n      <td>0</td>\n      <td>1</td>\n      <td>3.0</td>\n      <td>16.0</td>\n      <td>16.0</td>\n      <td>16.0</td>\n      <td>14.0</td>\n      <td>1.0</td>\n    </tr>\n    <tr>\n      <th>43</th>\n      <td>0</td>\n      <td>0</td>\n      <td>1</td>\n      <td>5.0</td>\n      <td>35.0</td>\n      <td>17.0</td>\n      <td>35.0</td>\n      <td>29.0</td>\n      <td>6.2</td>\n    </tr>\n    <tr>\n      <th>44</th>\n      <td>1</td>\n      <td>0</td>\n      <td>0</td>\n      <td>1.0</td>\n      <td>1.0</td>\n      <td>2.0</td>\n      <td>1.0</td>\n      <td>1.0</td>\n      <td>9.0</td>\n    </tr>\n    <tr>\n      <th>45</th>\n      <td>0</td>\n      <td>0</td>\n      <td>1</td>\n      <td>1.0</td>\n      <td>14.0</td>\n      <td>2.0</td>\n      <td>14.0</td>\n      <td>12.0</td>\n      <td>12.0</td>\n    </tr>\n    <tr>\n      <th>46</th>\n      <td>1</td>\n      <td>0</td>\n      <td>0</td>\n      <td>4.0</td>\n      <td>38.0</td>\n      <td>9.0</td>\n      <td>38.0</td>\n      <td>32.0</td>\n      <td>20.0</td>\n    </tr>\n    <tr>\n      <th>48</th>\n      <td>0</td>\n      <td>0</td>\n      <td>1</td>\n      <td>2.0</td>\n      <td>67.0</td>\n      <td>23.0</td>\n      <td>67.0</td>\n      <td>51.0</td>\n      <td>9.0</td>\n    </tr>\n    <tr>\n      <th>49</th>\n      <td>0</td>\n      <td>0</td>\n      <td>1</td>\n      <td>1.0</td>\n      <td>72.0</td>\n      <td>25.0</td>\n      <td>72.0</td>\n      <td>54.0</td>\n      <td>6.0</td>\n    </tr>\n    <tr>\n      <th>50</th>\n      <td>1</td>\n      <td>0</td>\n      <td>0</td>\n      <td>1.0</td>\n      <td>18.0</td>\n      <td>0.0</td>\n      <td>18.0</td>\n      <td>16.0</td>\n      <td>12.0</td>\n    </tr>\n    <tr>\n      <th>51</th>\n      <td>0</td>\n      <td>0</td>\n      <td>1</td>\n      <td>3.0</td>\n      <td>75.0</td>\n      <td>17.0</td>\n      <td>75.0</td>\n      <td>51.0</td>\n      <td>9.0</td>\n    </tr>\n    <tr>\n      <th>53</th>\n      <td>1</td>\n      <td>0</td>\n      <td>0</td>\n      <td>2.0</td>\n      <td>3.0</td>\n      <td>20.0</td>\n      <td>3.0</td>\n      <td>3.0</td>\n      <td>4.7</td>\n    </tr>\n    <tr>\n      <th>57</th>\n      <td>1</td>\n      <td>0</td>\n      <td>0</td>\n      <td>3.0</td>\n      <td>11.0</td>\n      <td>1.0</td>\n      <td>11.0</td>\n      <td>11.0</td>\n      <td>5.0</td>\n    </tr>\n    <tr>\n      <th>58</th>\n      <td>1</td>\n      <td>0</td>\n      <td>0</td>\n      <td>1.0</td>\n      <td>27.0</td>\n      <td>4.0</td>\n      <td>27.0</td>\n      <td>23.0</td>\n      <td>6.0</td>\n    </tr>\n    <tr>\n      <th>59</th>\n      <td>0</td>\n      <td>0</td>\n      <td>1</td>\n      <td>1.0</td>\n      <td>16.0</td>\n      <td>14.0</td>\n      <td>16.0</td>\n      <td>14.0</td>\n      <td>8.1</td>\n    </tr>\n    <tr>\n      <th>60</th>\n      <td>1</td>\n      <td>0</td>\n      <td>0</td>\n      <td>1.0</td>\n      <td>9.0</td>\n      <td>6.0</td>\n      <td>9.0</td>\n      <td>9.0</td>\n      <td>6.0</td>\n    </tr>\n    <tr>\n      <th>61</th>\n      <td>1</td>\n      <td>0</td>\n      <td>0</td>\n      <td>1.0</td>\n      <td>8.0</td>\n      <td>6.0</td>\n      <td>8.0</td>\n      <td>8.0</td>\n      <td>3.0</td>\n    </tr>\n  </tbody>\n</table>\n</div>"
     },
     "execution_count": 496,
     "metadata": {},
     "output_type": "execute_result"
    }
   ],
   "source": [
    "ttX"
   ],
   "metadata": {
    "collapsed": false,
    "ExecuteTime": {
     "start_time": "2023-04-27T09:47:02.293711Z",
     "end_time": "2023-04-27T09:47:02.346820Z"
    }
   }
  },
  {
   "cell_type": "code",
   "execution_count": 491,
   "outputs": [
    {
     "data": {
      "text/plain": "is_herb                  int64\nis_omni                  int64\nis_carnivorous           int64\nshort_period           float64\ntaxonomy               float64\nlived_in               float64\ntaxonomy_end           float64\ntaxonomy_before_end    float64\nlength                 float64\ndtype: object"
     },
     "execution_count": 491,
     "metadata": {},
     "output_type": "execute_result"
    }
   ],
   "source": [
    "tX.dtypes"
   ],
   "metadata": {
    "collapsed": false,
    "ExecuteTime": {
     "start_time": "2023-04-27T09:45:28.985650Z",
     "end_time": "2023-04-27T09:45:29.015805Z"
    }
   }
  },
  {
   "cell_type": "code",
   "execution_count": 497,
   "outputs": [
    {
     "name": "stderr",
     "output_type": "stream",
     "text": [
      "C:\\Users\\alini\\AppData\\Local\\Temp\\ipykernel_3416\\1121451900.py:2: SettingWithCopyWarning: \n",
      "A value is trying to be set on a copy of a slice from a DataFrame.\n",
      "Try using .loc[row_indexer,col_indexer] = value instead\n",
      "\n",
      "See the caveats in the documentation: https://pandas.pydata.org/pandas-docs/stable/user_guide/indexing.html#returning-a-view-versus-a-copy\n",
      "  ttX[\"type\"] = types\n"
     ]
    }
   ],
   "source": [
    "types = linear_svm_classifier.predict(ttX)\n",
    "ttX[\"type\"] = types"
   ],
   "metadata": {
    "collapsed": false,
    "ExecuteTime": {
     "start_time": "2023-04-27T09:47:26.861734Z",
     "end_time": "2023-04-27T09:47:26.880993Z"
    }
   }
  },
  {
   "cell_type": "code",
   "execution_count": 498,
   "outputs": [
    {
     "data": {
      "text/plain": "    is_herb  is_omni  is_carnivorous  short_period  taxonomy  lived_in  \\\n0         1        0               0           1.0       2.0      27.0   \n2         0        0               1           1.0      60.0       2.0   \n3         0        0               1           2.0      29.0       2.0   \n5         0        0               0           1.0      45.0       4.0   \n6         1        0               0           5.0      52.0       2.0   \n8         0        0               1           4.0      10.0       9.0   \n9         0        1               0           1.0       6.0       4.0   \n10        1        0               0           2.0       3.0       1.0   \n13        1        0               0           1.0      20.0       0.0   \n14        1        0               0           3.0      15.0       1.0   \n15        0        1               0           1.0       4.0       6.0   \n18        1        0               0           3.0      28.0       1.0   \n19        1        0               0           3.0       8.0       1.0   \n20        1        0               0           1.0      86.0       4.0   \n21        1        0               0           1.0      33.0       2.0   \n22        1        0               0           1.0      33.0      26.0   \n23        1        0               0           1.0       9.0       2.0   \n24        1        0               0           2.0      73.0       3.0   \n25        1        0               0           1.0      57.0       4.0   \n26        1        0               0           5.0      31.0       8.0   \n27        0        0               1           1.0      49.0       0.0   \n28        0        0               1           1.0      74.0       0.0   \n29        1        0               0           1.0      27.0       2.0   \n30        1        0               0           1.0       1.0       2.0   \n32        0        1               0           1.0      23.0       4.0   \n33        1        0               0           2.0      61.0       2.0   \n35        0        0               1           3.0      79.0       2.0   \n39        1        0               0           1.0      57.0       4.0   \n40        0        0               1           1.0      45.0       0.0   \n41        1        0               0           2.0       3.0      23.0   \n42        0        0               1           3.0      16.0      16.0   \n43        0        0               1           5.0      35.0      17.0   \n44        1        0               0           1.0       1.0       2.0   \n45        0        0               1           1.0      14.0       2.0   \n46        1        0               0           4.0      38.0       9.0   \n48        0        0               1           2.0      67.0      23.0   \n49        0        0               1           1.0      72.0      25.0   \n50        1        0               0           1.0      18.0       0.0   \n51        0        0               1           3.0      75.0      17.0   \n53        1        0               0           2.0       3.0      20.0   \n57        1        0               0           3.0      11.0       1.0   \n58        1        0               0           1.0      27.0       4.0   \n59        0        0               1           1.0      16.0      14.0   \n60        1        0               0           1.0       9.0       6.0   \n61        1        0               0           1.0       8.0       6.0   \n\n    taxonomy_end  taxonomy_before_end  length  type  \n0            2.0                  2.0     5.0     1  \n2           60.0                 12.0     8.6     0  \n3           29.0                 15.0    12.0     2  \n5           45.0                 38.0     1.0     4  \n6           52.0                  0.0     2.0     3  \n8           10.0                 10.0     6.2     2  \n9            6.0                  6.0     2.1     4  \n10           3.0                  3.0     6.0     1  \n13          20.0                 18.0     3.0     1  \n14          15.0                 13.0    15.0     0  \n15           4.0                  4.0     3.5     4  \n18          28.0                 24.0    10.0     0  \n19           8.0                  8.0     3.0     3  \n20          86.0                  7.0    23.0     0  \n21          33.0                  1.0     7.6     1  \n22          33.0                  1.0     8.0     1  \n23           9.0                  9.0     6.0     1  \n24          73.0                 55.0     3.0     1  \n25          57.0                 45.0     1.8     1  \n26          31.0                 26.0    14.0     0  \n27          49.0                 41.0     2.4     4  \n28          74.0                 56.0     1.0     4  \n29          27.0                 23.0     7.0     1  \n30           1.0                  1.0    11.0     1  \n32          23.0                 21.0    10.0     2  \n33          61.0                 23.0     5.0     1  \n35          79.0                 42.0     0.9     4  \n39          57.0                 45.0     0.5     1  \n40          45.0                 38.0     2.0     4  \n41           3.0                  3.0     7.0     1  \n42          16.0                 14.0     1.0     4  \n43          35.0                 29.0     6.2     2  \n44           1.0                  1.0     9.0     1  \n45          14.0                 12.0    12.0     2  \n46          38.0                 32.0    20.0     0  \n48          67.0                 51.0     9.0     2  \n49          72.0                 54.0     6.0     2  \n50          18.0                 16.0    12.0     0  \n51          75.0                 51.0     9.0     2  \n53           3.0                  3.0     4.7     1  \n57          11.0                 11.0     5.0     3  \n58          27.0                 23.0     6.0     1  \n59          16.0                 14.0     8.1     2  \n60           9.0                  9.0     6.0     1  \n61           8.0                  8.0     3.0     1  ",
      "text/html": "<div>\n<style scoped>\n    .dataframe tbody tr th:only-of-type {\n        vertical-align: middle;\n    }\n\n    .dataframe tbody tr th {\n        vertical-align: top;\n    }\n\n    .dataframe thead th {\n        text-align: right;\n    }\n</style>\n<table border=\"1\" class=\"dataframe\">\n  <thead>\n    <tr style=\"text-align: right;\">\n      <th></th>\n      <th>is_herb</th>\n      <th>is_omni</th>\n      <th>is_carnivorous</th>\n      <th>short_period</th>\n      <th>taxonomy</th>\n      <th>lived_in</th>\n      <th>taxonomy_end</th>\n      <th>taxonomy_before_end</th>\n      <th>length</th>\n      <th>type</th>\n    </tr>\n  </thead>\n  <tbody>\n    <tr>\n      <th>0</th>\n      <td>1</td>\n      <td>0</td>\n      <td>0</td>\n      <td>1.0</td>\n      <td>2.0</td>\n      <td>27.0</td>\n      <td>2.0</td>\n      <td>2.0</td>\n      <td>5.0</td>\n      <td>1</td>\n    </tr>\n    <tr>\n      <th>2</th>\n      <td>0</td>\n      <td>0</td>\n      <td>1</td>\n      <td>1.0</td>\n      <td>60.0</td>\n      <td>2.0</td>\n      <td>60.0</td>\n      <td>12.0</td>\n      <td>8.6</td>\n      <td>0</td>\n    </tr>\n    <tr>\n      <th>3</th>\n      <td>0</td>\n      <td>0</td>\n      <td>1</td>\n      <td>2.0</td>\n      <td>29.0</td>\n      <td>2.0</td>\n      <td>29.0</td>\n      <td>15.0</td>\n      <td>12.0</td>\n      <td>2</td>\n    </tr>\n    <tr>\n      <th>5</th>\n      <td>0</td>\n      <td>0</td>\n      <td>0</td>\n      <td>1.0</td>\n      <td>45.0</td>\n      <td>4.0</td>\n      <td>45.0</td>\n      <td>38.0</td>\n      <td>1.0</td>\n      <td>4</td>\n    </tr>\n    <tr>\n      <th>6</th>\n      <td>1</td>\n      <td>0</td>\n      <td>0</td>\n      <td>5.0</td>\n      <td>52.0</td>\n      <td>2.0</td>\n      <td>52.0</td>\n      <td>0.0</td>\n      <td>2.0</td>\n      <td>3</td>\n    </tr>\n    <tr>\n      <th>8</th>\n      <td>0</td>\n      <td>0</td>\n      <td>1</td>\n      <td>4.0</td>\n      <td>10.0</td>\n      <td>9.0</td>\n      <td>10.0</td>\n      <td>10.0</td>\n      <td>6.2</td>\n      <td>2</td>\n    </tr>\n    <tr>\n      <th>9</th>\n      <td>0</td>\n      <td>1</td>\n      <td>0</td>\n      <td>1.0</td>\n      <td>6.0</td>\n      <td>4.0</td>\n      <td>6.0</td>\n      <td>6.0</td>\n      <td>2.1</td>\n      <td>4</td>\n    </tr>\n    <tr>\n      <th>10</th>\n      <td>1</td>\n      <td>0</td>\n      <td>0</td>\n      <td>2.0</td>\n      <td>3.0</td>\n      <td>1.0</td>\n      <td>3.0</td>\n      <td>3.0</td>\n      <td>6.0</td>\n      <td>1</td>\n    </tr>\n    <tr>\n      <th>13</th>\n      <td>1</td>\n      <td>0</td>\n      <td>0</td>\n      <td>1.0</td>\n      <td>20.0</td>\n      <td>0.0</td>\n      <td>20.0</td>\n      <td>18.0</td>\n      <td>3.0</td>\n      <td>1</td>\n    </tr>\n    <tr>\n      <th>14</th>\n      <td>1</td>\n      <td>0</td>\n      <td>0</td>\n      <td>3.0</td>\n      <td>15.0</td>\n      <td>1.0</td>\n      <td>15.0</td>\n      <td>13.0</td>\n      <td>15.0</td>\n      <td>0</td>\n    </tr>\n    <tr>\n      <th>15</th>\n      <td>0</td>\n      <td>1</td>\n      <td>0</td>\n      <td>1.0</td>\n      <td>4.0</td>\n      <td>6.0</td>\n      <td>4.0</td>\n      <td>4.0</td>\n      <td>3.5</td>\n      <td>4</td>\n    </tr>\n    <tr>\n      <th>18</th>\n      <td>1</td>\n      <td>0</td>\n      <td>0</td>\n      <td>3.0</td>\n      <td>28.0</td>\n      <td>1.0</td>\n      <td>28.0</td>\n      <td>24.0</td>\n      <td>10.0</td>\n      <td>0</td>\n    </tr>\n    <tr>\n      <th>19</th>\n      <td>1</td>\n      <td>0</td>\n      <td>0</td>\n      <td>3.0</td>\n      <td>8.0</td>\n      <td>1.0</td>\n      <td>8.0</td>\n      <td>8.0</td>\n      <td>3.0</td>\n      <td>3</td>\n    </tr>\n    <tr>\n      <th>20</th>\n      <td>1</td>\n      <td>0</td>\n      <td>0</td>\n      <td>1.0</td>\n      <td>86.0</td>\n      <td>4.0</td>\n      <td>86.0</td>\n      <td>7.0</td>\n      <td>23.0</td>\n      <td>0</td>\n    </tr>\n    <tr>\n      <th>21</th>\n      <td>1</td>\n      <td>0</td>\n      <td>0</td>\n      <td>1.0</td>\n      <td>33.0</td>\n      <td>2.0</td>\n      <td>33.0</td>\n      <td>1.0</td>\n      <td>7.6</td>\n      <td>1</td>\n    </tr>\n    <tr>\n      <th>22</th>\n      <td>1</td>\n      <td>0</td>\n      <td>0</td>\n      <td>1.0</td>\n      <td>33.0</td>\n      <td>26.0</td>\n      <td>33.0</td>\n      <td>1.0</td>\n      <td>8.0</td>\n      <td>1</td>\n    </tr>\n    <tr>\n      <th>23</th>\n      <td>1</td>\n      <td>0</td>\n      <td>0</td>\n      <td>1.0</td>\n      <td>9.0</td>\n      <td>2.0</td>\n      <td>9.0</td>\n      <td>9.0</td>\n      <td>6.0</td>\n      <td>1</td>\n    </tr>\n    <tr>\n      <th>24</th>\n      <td>1</td>\n      <td>0</td>\n      <td>0</td>\n      <td>2.0</td>\n      <td>73.0</td>\n      <td>3.0</td>\n      <td>73.0</td>\n      <td>55.0</td>\n      <td>3.0</td>\n      <td>1</td>\n    </tr>\n    <tr>\n      <th>25</th>\n      <td>1</td>\n      <td>0</td>\n      <td>0</td>\n      <td>1.0</td>\n      <td>57.0</td>\n      <td>4.0</td>\n      <td>57.0</td>\n      <td>45.0</td>\n      <td>1.8</td>\n      <td>1</td>\n    </tr>\n    <tr>\n      <th>26</th>\n      <td>1</td>\n      <td>0</td>\n      <td>0</td>\n      <td>5.0</td>\n      <td>31.0</td>\n      <td>8.0</td>\n      <td>31.0</td>\n      <td>26.0</td>\n      <td>14.0</td>\n      <td>0</td>\n    </tr>\n    <tr>\n      <th>27</th>\n      <td>0</td>\n      <td>0</td>\n      <td>1</td>\n      <td>1.0</td>\n      <td>49.0</td>\n      <td>0.0</td>\n      <td>49.0</td>\n      <td>41.0</td>\n      <td>2.4</td>\n      <td>4</td>\n    </tr>\n    <tr>\n      <th>28</th>\n      <td>0</td>\n      <td>0</td>\n      <td>1</td>\n      <td>1.0</td>\n      <td>74.0</td>\n      <td>0.0</td>\n      <td>74.0</td>\n      <td>56.0</td>\n      <td>1.0</td>\n      <td>4</td>\n    </tr>\n    <tr>\n      <th>29</th>\n      <td>1</td>\n      <td>0</td>\n      <td>0</td>\n      <td>1.0</td>\n      <td>27.0</td>\n      <td>2.0</td>\n      <td>27.0</td>\n      <td>23.0</td>\n      <td>7.0</td>\n      <td>1</td>\n    </tr>\n    <tr>\n      <th>30</th>\n      <td>1</td>\n      <td>0</td>\n      <td>0</td>\n      <td>1.0</td>\n      <td>1.0</td>\n      <td>2.0</td>\n      <td>1.0</td>\n      <td>1.0</td>\n      <td>11.0</td>\n      <td>1</td>\n    </tr>\n    <tr>\n      <th>32</th>\n      <td>0</td>\n      <td>1</td>\n      <td>0</td>\n      <td>1.0</td>\n      <td>23.0</td>\n      <td>4.0</td>\n      <td>23.0</td>\n      <td>21.0</td>\n      <td>10.0</td>\n      <td>2</td>\n    </tr>\n    <tr>\n      <th>33</th>\n      <td>1</td>\n      <td>0</td>\n      <td>0</td>\n      <td>2.0</td>\n      <td>61.0</td>\n      <td>2.0</td>\n      <td>61.0</td>\n      <td>23.0</td>\n      <td>5.0</td>\n      <td>1</td>\n    </tr>\n    <tr>\n      <th>35</th>\n      <td>0</td>\n      <td>0</td>\n      <td>1</td>\n      <td>3.0</td>\n      <td>79.0</td>\n      <td>2.0</td>\n      <td>79.0</td>\n      <td>42.0</td>\n      <td>0.9</td>\n      <td>4</td>\n    </tr>\n    <tr>\n      <th>39</th>\n      <td>1</td>\n      <td>0</td>\n      <td>0</td>\n      <td>1.0</td>\n      <td>57.0</td>\n      <td>4.0</td>\n      <td>57.0</td>\n      <td>45.0</td>\n      <td>0.5</td>\n      <td>1</td>\n    </tr>\n    <tr>\n      <th>40</th>\n      <td>0</td>\n      <td>0</td>\n      <td>1</td>\n      <td>1.0</td>\n      <td>45.0</td>\n      <td>0.0</td>\n      <td>45.0</td>\n      <td>38.0</td>\n      <td>2.0</td>\n      <td>4</td>\n    </tr>\n    <tr>\n      <th>41</th>\n      <td>1</td>\n      <td>0</td>\n      <td>0</td>\n      <td>2.0</td>\n      <td>3.0</td>\n      <td>23.0</td>\n      <td>3.0</td>\n      <td>3.0</td>\n      <td>7.0</td>\n      <td>1</td>\n    </tr>\n    <tr>\n      <th>42</th>\n      <td>0</td>\n      <td>0</td>\n      <td>1</td>\n      <td>3.0</td>\n      <td>16.0</td>\n      <td>16.0</td>\n      <td>16.0</td>\n      <td>14.0</td>\n      <td>1.0</td>\n      <td>4</td>\n    </tr>\n    <tr>\n      <th>43</th>\n      <td>0</td>\n      <td>0</td>\n      <td>1</td>\n      <td>5.0</td>\n      <td>35.0</td>\n      <td>17.0</td>\n      <td>35.0</td>\n      <td>29.0</td>\n      <td>6.2</td>\n      <td>2</td>\n    </tr>\n    <tr>\n      <th>44</th>\n      <td>1</td>\n      <td>0</td>\n      <td>0</td>\n      <td>1.0</td>\n      <td>1.0</td>\n      <td>2.0</td>\n      <td>1.0</td>\n      <td>1.0</td>\n      <td>9.0</td>\n      <td>1</td>\n    </tr>\n    <tr>\n      <th>45</th>\n      <td>0</td>\n      <td>0</td>\n      <td>1</td>\n      <td>1.0</td>\n      <td>14.0</td>\n      <td>2.0</td>\n      <td>14.0</td>\n      <td>12.0</td>\n      <td>12.0</td>\n      <td>2</td>\n    </tr>\n    <tr>\n      <th>46</th>\n      <td>1</td>\n      <td>0</td>\n      <td>0</td>\n      <td>4.0</td>\n      <td>38.0</td>\n      <td>9.0</td>\n      <td>38.0</td>\n      <td>32.0</td>\n      <td>20.0</td>\n      <td>0</td>\n    </tr>\n    <tr>\n      <th>48</th>\n      <td>0</td>\n      <td>0</td>\n      <td>1</td>\n      <td>2.0</td>\n      <td>67.0</td>\n      <td>23.0</td>\n      <td>67.0</td>\n      <td>51.0</td>\n      <td>9.0</td>\n      <td>2</td>\n    </tr>\n    <tr>\n      <th>49</th>\n      <td>0</td>\n      <td>0</td>\n      <td>1</td>\n      <td>1.0</td>\n      <td>72.0</td>\n      <td>25.0</td>\n      <td>72.0</td>\n      <td>54.0</td>\n      <td>6.0</td>\n      <td>2</td>\n    </tr>\n    <tr>\n      <th>50</th>\n      <td>1</td>\n      <td>0</td>\n      <td>0</td>\n      <td>1.0</td>\n      <td>18.0</td>\n      <td>0.0</td>\n      <td>18.0</td>\n      <td>16.0</td>\n      <td>12.0</td>\n      <td>0</td>\n    </tr>\n    <tr>\n      <th>51</th>\n      <td>0</td>\n      <td>0</td>\n      <td>1</td>\n      <td>3.0</td>\n      <td>75.0</td>\n      <td>17.0</td>\n      <td>75.0</td>\n      <td>51.0</td>\n      <td>9.0</td>\n      <td>2</td>\n    </tr>\n    <tr>\n      <th>53</th>\n      <td>1</td>\n      <td>0</td>\n      <td>0</td>\n      <td>2.0</td>\n      <td>3.0</td>\n      <td>20.0</td>\n      <td>3.0</td>\n      <td>3.0</td>\n      <td>4.7</td>\n      <td>1</td>\n    </tr>\n    <tr>\n      <th>57</th>\n      <td>1</td>\n      <td>0</td>\n      <td>0</td>\n      <td>3.0</td>\n      <td>11.0</td>\n      <td>1.0</td>\n      <td>11.0</td>\n      <td>11.0</td>\n      <td>5.0</td>\n      <td>3</td>\n    </tr>\n    <tr>\n      <th>58</th>\n      <td>1</td>\n      <td>0</td>\n      <td>0</td>\n      <td>1.0</td>\n      <td>27.0</td>\n      <td>4.0</td>\n      <td>27.0</td>\n      <td>23.0</td>\n      <td>6.0</td>\n      <td>1</td>\n    </tr>\n    <tr>\n      <th>59</th>\n      <td>0</td>\n      <td>0</td>\n      <td>1</td>\n      <td>1.0</td>\n      <td>16.0</td>\n      <td>14.0</td>\n      <td>16.0</td>\n      <td>14.0</td>\n      <td>8.1</td>\n      <td>2</td>\n    </tr>\n    <tr>\n      <th>60</th>\n      <td>1</td>\n      <td>0</td>\n      <td>0</td>\n      <td>1.0</td>\n      <td>9.0</td>\n      <td>6.0</td>\n      <td>9.0</td>\n      <td>9.0</td>\n      <td>6.0</td>\n      <td>1</td>\n    </tr>\n    <tr>\n      <th>61</th>\n      <td>1</td>\n      <td>0</td>\n      <td>0</td>\n      <td>1.0</td>\n      <td>8.0</td>\n      <td>6.0</td>\n      <td>8.0</td>\n      <td>8.0</td>\n      <td>3.0</td>\n      <td>1</td>\n    </tr>\n  </tbody>\n</table>\n</div>"
     },
     "execution_count": 498,
     "metadata": {},
     "output_type": "execute_result"
    }
   ],
   "source": [
    "ttX"
   ],
   "metadata": {
    "collapsed": false,
    "ExecuteTime": {
     "start_time": "2023-04-27T09:47:30.268301Z",
     "end_time": "2023-04-27T09:47:30.304891Z"
    }
   }
  },
  {
   "cell_type": "code",
   "execution_count": 500,
   "outputs": [],
   "source": [
    "ttX=ttX.reset_index()"
   ],
   "metadata": {
    "collapsed": false,
    "ExecuteTime": {
     "start_time": "2023-04-27T09:48:10.105887Z",
     "end_time": "2023-04-27T09:48:10.125036Z"
    }
   }
  },
  {
   "cell_type": "code",
   "execution_count": 503,
   "outputs": [],
   "source": [
    "ttX.rename(columns={\"index\":\"id\"}, inplace=True)"
   ],
   "metadata": {
    "collapsed": false,
    "ExecuteTime": {
     "start_time": "2023-04-27T09:48:34.752599Z",
     "end_time": "2023-04-27T09:48:34.786621Z"
    }
   }
  },
  {
   "cell_type": "code",
   "execution_count": 504,
   "outputs": [
    {
     "data": {
      "text/plain": "    id  is_herb  is_omni  is_carnivorous  short_period  taxonomy  lived_in  \\\n0    0        1        0               0           1.0       2.0      27.0   \n1    2        0        0               1           1.0      60.0       2.0   \n2    3        0        0               1           2.0      29.0       2.0   \n3    5        0        0               0           1.0      45.0       4.0   \n4    6        1        0               0           5.0      52.0       2.0   \n5    8        0        0               1           4.0      10.0       9.0   \n6    9        0        1               0           1.0       6.0       4.0   \n7   10        1        0               0           2.0       3.0       1.0   \n8   13        1        0               0           1.0      20.0       0.0   \n9   14        1        0               0           3.0      15.0       1.0   \n10  15        0        1               0           1.0       4.0       6.0   \n11  18        1        0               0           3.0      28.0       1.0   \n12  19        1        0               0           3.0       8.0       1.0   \n13  20        1        0               0           1.0      86.0       4.0   \n14  21        1        0               0           1.0      33.0       2.0   \n15  22        1        0               0           1.0      33.0      26.0   \n16  23        1        0               0           1.0       9.0       2.0   \n17  24        1        0               0           2.0      73.0       3.0   \n18  25        1        0               0           1.0      57.0       4.0   \n19  26        1        0               0           5.0      31.0       8.0   \n20  27        0        0               1           1.0      49.0       0.0   \n21  28        0        0               1           1.0      74.0       0.0   \n22  29        1        0               0           1.0      27.0       2.0   \n23  30        1        0               0           1.0       1.0       2.0   \n24  32        0        1               0           1.0      23.0       4.0   \n25  33        1        0               0           2.0      61.0       2.0   \n26  35        0        0               1           3.0      79.0       2.0   \n27  39        1        0               0           1.0      57.0       4.0   \n28  40        0        0               1           1.0      45.0       0.0   \n29  41        1        0               0           2.0       3.0      23.0   \n30  42        0        0               1           3.0      16.0      16.0   \n31  43        0        0               1           5.0      35.0      17.0   \n32  44        1        0               0           1.0       1.0       2.0   \n33  45        0        0               1           1.0      14.0       2.0   \n34  46        1        0               0           4.0      38.0       9.0   \n35  48        0        0               1           2.0      67.0      23.0   \n36  49        0        0               1           1.0      72.0      25.0   \n37  50        1        0               0           1.0      18.0       0.0   \n38  51        0        0               1           3.0      75.0      17.0   \n39  53        1        0               0           2.0       3.0      20.0   \n40  57        1        0               0           3.0      11.0       1.0   \n41  58        1        0               0           1.0      27.0       4.0   \n42  59        0        0               1           1.0      16.0      14.0   \n43  60        1        0               0           1.0       9.0       6.0   \n44  61        1        0               0           1.0       8.0       6.0   \n\n    taxonomy_end  taxonomy_before_end  length  type  \n0            2.0                  2.0     5.0     1  \n1           60.0                 12.0     8.6     0  \n2           29.0                 15.0    12.0     2  \n3           45.0                 38.0     1.0     4  \n4           52.0                  0.0     2.0     3  \n5           10.0                 10.0     6.2     2  \n6            6.0                  6.0     2.1     4  \n7            3.0                  3.0     6.0     1  \n8           20.0                 18.0     3.0     1  \n9           15.0                 13.0    15.0     0  \n10           4.0                  4.0     3.5     4  \n11          28.0                 24.0    10.0     0  \n12           8.0                  8.0     3.0     3  \n13          86.0                  7.0    23.0     0  \n14          33.0                  1.0     7.6     1  \n15          33.0                  1.0     8.0     1  \n16           9.0                  9.0     6.0     1  \n17          73.0                 55.0     3.0     1  \n18          57.0                 45.0     1.8     1  \n19          31.0                 26.0    14.0     0  \n20          49.0                 41.0     2.4     4  \n21          74.0                 56.0     1.0     4  \n22          27.0                 23.0     7.0     1  \n23           1.0                  1.0    11.0     1  \n24          23.0                 21.0    10.0     2  \n25          61.0                 23.0     5.0     1  \n26          79.0                 42.0     0.9     4  \n27          57.0                 45.0     0.5     1  \n28          45.0                 38.0     2.0     4  \n29           3.0                  3.0     7.0     1  \n30          16.0                 14.0     1.0     4  \n31          35.0                 29.0     6.2     2  \n32           1.0                  1.0     9.0     1  \n33          14.0                 12.0    12.0     2  \n34          38.0                 32.0    20.0     0  \n35          67.0                 51.0     9.0     2  \n36          72.0                 54.0     6.0     2  \n37          18.0                 16.0    12.0     0  \n38          75.0                 51.0     9.0     2  \n39           3.0                  3.0     4.7     1  \n40          11.0                 11.0     5.0     3  \n41          27.0                 23.0     6.0     1  \n42          16.0                 14.0     8.1     2  \n43           9.0                  9.0     6.0     1  \n44           8.0                  8.0     3.0     1  ",
      "text/html": "<div>\n<style scoped>\n    .dataframe tbody tr th:only-of-type {\n        vertical-align: middle;\n    }\n\n    .dataframe tbody tr th {\n        vertical-align: top;\n    }\n\n    .dataframe thead th {\n        text-align: right;\n    }\n</style>\n<table border=\"1\" class=\"dataframe\">\n  <thead>\n    <tr style=\"text-align: right;\">\n      <th></th>\n      <th>id</th>\n      <th>is_herb</th>\n      <th>is_omni</th>\n      <th>is_carnivorous</th>\n      <th>short_period</th>\n      <th>taxonomy</th>\n      <th>lived_in</th>\n      <th>taxonomy_end</th>\n      <th>taxonomy_before_end</th>\n      <th>length</th>\n      <th>type</th>\n    </tr>\n  </thead>\n  <tbody>\n    <tr>\n      <th>0</th>\n      <td>0</td>\n      <td>1</td>\n      <td>0</td>\n      <td>0</td>\n      <td>1.0</td>\n      <td>2.0</td>\n      <td>27.0</td>\n      <td>2.0</td>\n      <td>2.0</td>\n      <td>5.0</td>\n      <td>1</td>\n    </tr>\n    <tr>\n      <th>1</th>\n      <td>2</td>\n      <td>0</td>\n      <td>0</td>\n      <td>1</td>\n      <td>1.0</td>\n      <td>60.0</td>\n      <td>2.0</td>\n      <td>60.0</td>\n      <td>12.0</td>\n      <td>8.6</td>\n      <td>0</td>\n    </tr>\n    <tr>\n      <th>2</th>\n      <td>3</td>\n      <td>0</td>\n      <td>0</td>\n      <td>1</td>\n      <td>2.0</td>\n      <td>29.0</td>\n      <td>2.0</td>\n      <td>29.0</td>\n      <td>15.0</td>\n      <td>12.0</td>\n      <td>2</td>\n    </tr>\n    <tr>\n      <th>3</th>\n      <td>5</td>\n      <td>0</td>\n      <td>0</td>\n      <td>0</td>\n      <td>1.0</td>\n      <td>45.0</td>\n      <td>4.0</td>\n      <td>45.0</td>\n      <td>38.0</td>\n      <td>1.0</td>\n      <td>4</td>\n    </tr>\n    <tr>\n      <th>4</th>\n      <td>6</td>\n      <td>1</td>\n      <td>0</td>\n      <td>0</td>\n      <td>5.0</td>\n      <td>52.0</td>\n      <td>2.0</td>\n      <td>52.0</td>\n      <td>0.0</td>\n      <td>2.0</td>\n      <td>3</td>\n    </tr>\n    <tr>\n      <th>5</th>\n      <td>8</td>\n      <td>0</td>\n      <td>0</td>\n      <td>1</td>\n      <td>4.0</td>\n      <td>10.0</td>\n      <td>9.0</td>\n      <td>10.0</td>\n      <td>10.0</td>\n      <td>6.2</td>\n      <td>2</td>\n    </tr>\n    <tr>\n      <th>6</th>\n      <td>9</td>\n      <td>0</td>\n      <td>1</td>\n      <td>0</td>\n      <td>1.0</td>\n      <td>6.0</td>\n      <td>4.0</td>\n      <td>6.0</td>\n      <td>6.0</td>\n      <td>2.1</td>\n      <td>4</td>\n    </tr>\n    <tr>\n      <th>7</th>\n      <td>10</td>\n      <td>1</td>\n      <td>0</td>\n      <td>0</td>\n      <td>2.0</td>\n      <td>3.0</td>\n      <td>1.0</td>\n      <td>3.0</td>\n      <td>3.0</td>\n      <td>6.0</td>\n      <td>1</td>\n    </tr>\n    <tr>\n      <th>8</th>\n      <td>13</td>\n      <td>1</td>\n      <td>0</td>\n      <td>0</td>\n      <td>1.0</td>\n      <td>20.0</td>\n      <td>0.0</td>\n      <td>20.0</td>\n      <td>18.0</td>\n      <td>3.0</td>\n      <td>1</td>\n    </tr>\n    <tr>\n      <th>9</th>\n      <td>14</td>\n      <td>1</td>\n      <td>0</td>\n      <td>0</td>\n      <td>3.0</td>\n      <td>15.0</td>\n      <td>1.0</td>\n      <td>15.0</td>\n      <td>13.0</td>\n      <td>15.0</td>\n      <td>0</td>\n    </tr>\n    <tr>\n      <th>10</th>\n      <td>15</td>\n      <td>0</td>\n      <td>1</td>\n      <td>0</td>\n      <td>1.0</td>\n      <td>4.0</td>\n      <td>6.0</td>\n      <td>4.0</td>\n      <td>4.0</td>\n      <td>3.5</td>\n      <td>4</td>\n    </tr>\n    <tr>\n      <th>11</th>\n      <td>18</td>\n      <td>1</td>\n      <td>0</td>\n      <td>0</td>\n      <td>3.0</td>\n      <td>28.0</td>\n      <td>1.0</td>\n      <td>28.0</td>\n      <td>24.0</td>\n      <td>10.0</td>\n      <td>0</td>\n    </tr>\n    <tr>\n      <th>12</th>\n      <td>19</td>\n      <td>1</td>\n      <td>0</td>\n      <td>0</td>\n      <td>3.0</td>\n      <td>8.0</td>\n      <td>1.0</td>\n      <td>8.0</td>\n      <td>8.0</td>\n      <td>3.0</td>\n      <td>3</td>\n    </tr>\n    <tr>\n      <th>13</th>\n      <td>20</td>\n      <td>1</td>\n      <td>0</td>\n      <td>0</td>\n      <td>1.0</td>\n      <td>86.0</td>\n      <td>4.0</td>\n      <td>86.0</td>\n      <td>7.0</td>\n      <td>23.0</td>\n      <td>0</td>\n    </tr>\n    <tr>\n      <th>14</th>\n      <td>21</td>\n      <td>1</td>\n      <td>0</td>\n      <td>0</td>\n      <td>1.0</td>\n      <td>33.0</td>\n      <td>2.0</td>\n      <td>33.0</td>\n      <td>1.0</td>\n      <td>7.6</td>\n      <td>1</td>\n    </tr>\n    <tr>\n      <th>15</th>\n      <td>22</td>\n      <td>1</td>\n      <td>0</td>\n      <td>0</td>\n      <td>1.0</td>\n      <td>33.0</td>\n      <td>26.0</td>\n      <td>33.0</td>\n      <td>1.0</td>\n      <td>8.0</td>\n      <td>1</td>\n    </tr>\n    <tr>\n      <th>16</th>\n      <td>23</td>\n      <td>1</td>\n      <td>0</td>\n      <td>0</td>\n      <td>1.0</td>\n      <td>9.0</td>\n      <td>2.0</td>\n      <td>9.0</td>\n      <td>9.0</td>\n      <td>6.0</td>\n      <td>1</td>\n    </tr>\n    <tr>\n      <th>17</th>\n      <td>24</td>\n      <td>1</td>\n      <td>0</td>\n      <td>0</td>\n      <td>2.0</td>\n      <td>73.0</td>\n      <td>3.0</td>\n      <td>73.0</td>\n      <td>55.0</td>\n      <td>3.0</td>\n      <td>1</td>\n    </tr>\n    <tr>\n      <th>18</th>\n      <td>25</td>\n      <td>1</td>\n      <td>0</td>\n      <td>0</td>\n      <td>1.0</td>\n      <td>57.0</td>\n      <td>4.0</td>\n      <td>57.0</td>\n      <td>45.0</td>\n      <td>1.8</td>\n      <td>1</td>\n    </tr>\n    <tr>\n      <th>19</th>\n      <td>26</td>\n      <td>1</td>\n      <td>0</td>\n      <td>0</td>\n      <td>5.0</td>\n      <td>31.0</td>\n      <td>8.0</td>\n      <td>31.0</td>\n      <td>26.0</td>\n      <td>14.0</td>\n      <td>0</td>\n    </tr>\n    <tr>\n      <th>20</th>\n      <td>27</td>\n      <td>0</td>\n      <td>0</td>\n      <td>1</td>\n      <td>1.0</td>\n      <td>49.0</td>\n      <td>0.0</td>\n      <td>49.0</td>\n      <td>41.0</td>\n      <td>2.4</td>\n      <td>4</td>\n    </tr>\n    <tr>\n      <th>21</th>\n      <td>28</td>\n      <td>0</td>\n      <td>0</td>\n      <td>1</td>\n      <td>1.0</td>\n      <td>74.0</td>\n      <td>0.0</td>\n      <td>74.0</td>\n      <td>56.0</td>\n      <td>1.0</td>\n      <td>4</td>\n    </tr>\n    <tr>\n      <th>22</th>\n      <td>29</td>\n      <td>1</td>\n      <td>0</td>\n      <td>0</td>\n      <td>1.0</td>\n      <td>27.0</td>\n      <td>2.0</td>\n      <td>27.0</td>\n      <td>23.0</td>\n      <td>7.0</td>\n      <td>1</td>\n    </tr>\n    <tr>\n      <th>23</th>\n      <td>30</td>\n      <td>1</td>\n      <td>0</td>\n      <td>0</td>\n      <td>1.0</td>\n      <td>1.0</td>\n      <td>2.0</td>\n      <td>1.0</td>\n      <td>1.0</td>\n      <td>11.0</td>\n      <td>1</td>\n    </tr>\n    <tr>\n      <th>24</th>\n      <td>32</td>\n      <td>0</td>\n      <td>1</td>\n      <td>0</td>\n      <td>1.0</td>\n      <td>23.0</td>\n      <td>4.0</td>\n      <td>23.0</td>\n      <td>21.0</td>\n      <td>10.0</td>\n      <td>2</td>\n    </tr>\n    <tr>\n      <th>25</th>\n      <td>33</td>\n      <td>1</td>\n      <td>0</td>\n      <td>0</td>\n      <td>2.0</td>\n      <td>61.0</td>\n      <td>2.0</td>\n      <td>61.0</td>\n      <td>23.0</td>\n      <td>5.0</td>\n      <td>1</td>\n    </tr>\n    <tr>\n      <th>26</th>\n      <td>35</td>\n      <td>0</td>\n      <td>0</td>\n      <td>1</td>\n      <td>3.0</td>\n      <td>79.0</td>\n      <td>2.0</td>\n      <td>79.0</td>\n      <td>42.0</td>\n      <td>0.9</td>\n      <td>4</td>\n    </tr>\n    <tr>\n      <th>27</th>\n      <td>39</td>\n      <td>1</td>\n      <td>0</td>\n      <td>0</td>\n      <td>1.0</td>\n      <td>57.0</td>\n      <td>4.0</td>\n      <td>57.0</td>\n      <td>45.0</td>\n      <td>0.5</td>\n      <td>1</td>\n    </tr>\n    <tr>\n      <th>28</th>\n      <td>40</td>\n      <td>0</td>\n      <td>0</td>\n      <td>1</td>\n      <td>1.0</td>\n      <td>45.0</td>\n      <td>0.0</td>\n      <td>45.0</td>\n      <td>38.0</td>\n      <td>2.0</td>\n      <td>4</td>\n    </tr>\n    <tr>\n      <th>29</th>\n      <td>41</td>\n      <td>1</td>\n      <td>0</td>\n      <td>0</td>\n      <td>2.0</td>\n      <td>3.0</td>\n      <td>23.0</td>\n      <td>3.0</td>\n      <td>3.0</td>\n      <td>7.0</td>\n      <td>1</td>\n    </tr>\n    <tr>\n      <th>30</th>\n      <td>42</td>\n      <td>0</td>\n      <td>0</td>\n      <td>1</td>\n      <td>3.0</td>\n      <td>16.0</td>\n      <td>16.0</td>\n      <td>16.0</td>\n      <td>14.0</td>\n      <td>1.0</td>\n      <td>4</td>\n    </tr>\n    <tr>\n      <th>31</th>\n      <td>43</td>\n      <td>0</td>\n      <td>0</td>\n      <td>1</td>\n      <td>5.0</td>\n      <td>35.0</td>\n      <td>17.0</td>\n      <td>35.0</td>\n      <td>29.0</td>\n      <td>6.2</td>\n      <td>2</td>\n    </tr>\n    <tr>\n      <th>32</th>\n      <td>44</td>\n      <td>1</td>\n      <td>0</td>\n      <td>0</td>\n      <td>1.0</td>\n      <td>1.0</td>\n      <td>2.0</td>\n      <td>1.0</td>\n      <td>1.0</td>\n      <td>9.0</td>\n      <td>1</td>\n    </tr>\n    <tr>\n      <th>33</th>\n      <td>45</td>\n      <td>0</td>\n      <td>0</td>\n      <td>1</td>\n      <td>1.0</td>\n      <td>14.0</td>\n      <td>2.0</td>\n      <td>14.0</td>\n      <td>12.0</td>\n      <td>12.0</td>\n      <td>2</td>\n    </tr>\n    <tr>\n      <th>34</th>\n      <td>46</td>\n      <td>1</td>\n      <td>0</td>\n      <td>0</td>\n      <td>4.0</td>\n      <td>38.0</td>\n      <td>9.0</td>\n      <td>38.0</td>\n      <td>32.0</td>\n      <td>20.0</td>\n      <td>0</td>\n    </tr>\n    <tr>\n      <th>35</th>\n      <td>48</td>\n      <td>0</td>\n      <td>0</td>\n      <td>1</td>\n      <td>2.0</td>\n      <td>67.0</td>\n      <td>23.0</td>\n      <td>67.0</td>\n      <td>51.0</td>\n      <td>9.0</td>\n      <td>2</td>\n    </tr>\n    <tr>\n      <th>36</th>\n      <td>49</td>\n      <td>0</td>\n      <td>0</td>\n      <td>1</td>\n      <td>1.0</td>\n      <td>72.0</td>\n      <td>25.0</td>\n      <td>72.0</td>\n      <td>54.0</td>\n      <td>6.0</td>\n      <td>2</td>\n    </tr>\n    <tr>\n      <th>37</th>\n      <td>50</td>\n      <td>1</td>\n      <td>0</td>\n      <td>0</td>\n      <td>1.0</td>\n      <td>18.0</td>\n      <td>0.0</td>\n      <td>18.0</td>\n      <td>16.0</td>\n      <td>12.0</td>\n      <td>0</td>\n    </tr>\n    <tr>\n      <th>38</th>\n      <td>51</td>\n      <td>0</td>\n      <td>0</td>\n      <td>1</td>\n      <td>3.0</td>\n      <td>75.0</td>\n      <td>17.0</td>\n      <td>75.0</td>\n      <td>51.0</td>\n      <td>9.0</td>\n      <td>2</td>\n    </tr>\n    <tr>\n      <th>39</th>\n      <td>53</td>\n      <td>1</td>\n      <td>0</td>\n      <td>0</td>\n      <td>2.0</td>\n      <td>3.0</td>\n      <td>20.0</td>\n      <td>3.0</td>\n      <td>3.0</td>\n      <td>4.7</td>\n      <td>1</td>\n    </tr>\n    <tr>\n      <th>40</th>\n      <td>57</td>\n      <td>1</td>\n      <td>0</td>\n      <td>0</td>\n      <td>3.0</td>\n      <td>11.0</td>\n      <td>1.0</td>\n      <td>11.0</td>\n      <td>11.0</td>\n      <td>5.0</td>\n      <td>3</td>\n    </tr>\n    <tr>\n      <th>41</th>\n      <td>58</td>\n      <td>1</td>\n      <td>0</td>\n      <td>0</td>\n      <td>1.0</td>\n      <td>27.0</td>\n      <td>4.0</td>\n      <td>27.0</td>\n      <td>23.0</td>\n      <td>6.0</td>\n      <td>1</td>\n    </tr>\n    <tr>\n      <th>42</th>\n      <td>59</td>\n      <td>0</td>\n      <td>0</td>\n      <td>1</td>\n      <td>1.0</td>\n      <td>16.0</td>\n      <td>14.0</td>\n      <td>16.0</td>\n      <td>14.0</td>\n      <td>8.1</td>\n      <td>2</td>\n    </tr>\n    <tr>\n      <th>43</th>\n      <td>60</td>\n      <td>1</td>\n      <td>0</td>\n      <td>0</td>\n      <td>1.0</td>\n      <td>9.0</td>\n      <td>6.0</td>\n      <td>9.0</td>\n      <td>9.0</td>\n      <td>6.0</td>\n      <td>1</td>\n    </tr>\n    <tr>\n      <th>44</th>\n      <td>61</td>\n      <td>1</td>\n      <td>0</td>\n      <td>0</td>\n      <td>1.0</td>\n      <td>8.0</td>\n      <td>6.0</td>\n      <td>8.0</td>\n      <td>8.0</td>\n      <td>3.0</td>\n      <td>1</td>\n    </tr>\n  </tbody>\n</table>\n</div>"
     },
     "execution_count": 504,
     "metadata": {},
     "output_type": "execute_result"
    }
   ],
   "source": [
    "ttX"
   ],
   "metadata": {
    "collapsed": false,
    "ExecuteTime": {
     "start_time": "2023-04-27T09:48:35.743932Z",
     "end_time": "2023-04-27T09:48:35.772938Z"
    }
   }
  },
  {
   "cell_type": "code",
   "execution_count": 506,
   "outputs": [
    {
     "data": {
      "text/plain": "array([1, 0, 2, 4, 3], dtype=int64)"
     },
     "execution_count": 506,
     "metadata": {},
     "output_type": "execute_result"
    }
   ],
   "source": [
    "ttX.type.unique()"
   ],
   "metadata": {
    "collapsed": false,
    "ExecuteTime": {
     "start_time": "2023-04-27T09:48:58.284362Z",
     "end_time": "2023-04-27T09:48:58.310524Z"
    }
   }
  },
  {
   "cell_type": "code",
   "execution_count": 512,
   "outputs": [
    {
     "data": {
      "text/plain": "array(['sauropod', 'euornithopod', 'large theropod', 'armoured dinosaur',\n       'small theropod', 'ceratopsian'], dtype=object)"
     },
     "execution_count": 512,
     "metadata": {},
     "output_type": "execute_result"
    }
   ],
   "source": [
    "y.type.unique()"
   ],
   "metadata": {
    "collapsed": false,
    "ExecuteTime": {
     "start_time": "2023-04-27T09:49:42.420044Z",
     "end_time": "2023-04-27T09:49:42.455195Z"
    }
   }
  },
  {
   "cell_type": "code",
   "execution_count": null,
   "outputs": [],
   "source": [],
   "metadata": {
    "collapsed": false
   }
  }
 ],
 "metadata": {
  "kernelspec": {
   "display_name": "Python 3",
   "language": "python",
   "name": "python3"
  },
  "language_info": {
   "codemirror_mode": {
    "name": "ipython",
    "version": 2
   },
   "file_extension": ".py",
   "mimetype": "text/x-python",
   "name": "python",
   "nbconvert_exporter": "python",
   "pygments_lexer": "ipython2",
   "version": "2.7.6"
  }
 },
 "nbformat": 4,
 "nbformat_minor": 0
}
